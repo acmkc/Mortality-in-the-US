{
 "cells": [
  {
   "cell_type": "markdown",
   "id": "6674c4d8-f825-4540-9375-03e3560162b6",
   "metadata": {},
   "source": [
    "# Final Project"
   ]
  },
  {
   "cell_type": "markdown",
   "id": "81201b3e-9522-4c66-b5a9-6d547fcb01f5",
   "metadata": {},
   "source": [
    "### Group 2 : Sibeso Mubonda, Pranita Premnath Shetty, Man Kuei Chen, Zhipeng Zhao and Pawan Kumar"
   ]
  },
  {
   "cell_type": "markdown",
   "id": "ee8e15f3-7d1b-4ca0-8b97-d8b3e8db094e",
   "metadata": {},
   "source": [
    "### Group lead: Sibeso Mubonda"
   ]
  },
  {
   "cell_type": "markdown",
   "id": "52a30cd8-3ce5-4d83-a65c-c6136636a69c",
   "metadata": {},
   "source": [
    "## Ask 1: About Dataset"
   ]
  },
  {
   "cell_type": "markdown",
   "id": "e8f5d5f7-81b4-4111-909f-4dd1ebb4c8c5",
   "metadata": {},
   "source": [
    "### Describe Dataset"
   ]
  },
  {
   "cell_type": "markdown",
   "id": "ed120537-c696-4780-a430-6ddaba45d672",
   "metadata": {},
   "source": [
    "*For the final project, we decided to use the dataset on Mortality Multiple Cause of Deaths in the United States. We decided to use the years 2013, 2014 and 2015. This decision was made to use those three years and not the most recent years due to the pandemic occuring. Using the most recent years would have had our data contain the same cause of death.*\n",
    "\n",
    "*The decision to use three years worth of data was to be able to forecast better and analyze the data more efficiently over a longer period of time. The concatenated file with all three years contains 77 columns and a total of 7,950,821 rows excluding the header of the file.*\n",
    "\n",
    "*Due to the fact that we have 77 columns in the dataset, we have decided to modify the dataset by using csvkit to filter out unecessary columns that do not have anything to do with the analytical questions being answered by the dataset.*\n"
   ]
  },
  {
   "cell_type": "markdown",
   "id": "c7862ee7-baf7-4e7b-81d2-4bc4d1e06a3f",
   "metadata": {},
   "source": [
    "### Identify data source"
   ]
  },
  {
   "cell_type": "markdown",
   "id": "eac62449-8221-41ff-9428-9ed4ce1fe9eb",
   "metadata": {},
   "source": [
    "*The total dataset size is about 1.2GB. The dataset was obtained from Kaggle and the csv files for the individual years can be found [here](https://www.kaggle.com/datasets/cdc/mortality?select=2013_data.csv). The dataset on Kaggle contains data obtained from the Centers for Disease Control and Prevention (CDC). The information on the dataset with the necessary dictionary can be found [here](https://www.cdc.gov/nchs/nvss/mortality_public_use_data.htm). The Mortality data is updated annually to the CDC site.*"
   ]
  },
  {
   "cell_type": "markdown",
   "id": "274d2ca0-b262-4f34-8884-68ae49c037db",
   "metadata": {},
   "source": [
    "### Why this dataset?"
   ]
  },
  {
   "cell_type": "markdown",
   "id": "e546a6df-454f-477f-9c29-14d5064c0679",
   "metadata": {},
   "source": [
    "*We chose this dataset for a variety of reasons. The first reason is because we found it interesting to be able to analyze the patterns of mortality causes in the United States over the years. Over the past few years, Covid-19 has been the highest cause of death in the United States and so we wanted to analyze a few years before that to determine certain trends.*\n",
    "\n",
    "*We found the dataset to be interesting because we can look to find if there is any correlation between certain variables like marital status, race and age and the causes of death.*\n",
    "\n",
    "*Another reason we chose the Mortality dataset is because it has data that is anually updated by the CDC which is a very reliable public health agency. The data has clear variables and a data dictionary that explains the data. It also has a lot of data rows which makes the analysis more efficient as the sample is large.* "
   ]
  },
  {
   "cell_type": "markdown",
   "id": "e086e695-ecda-48ec-999f-a0166b7bb26b",
   "metadata": {},
   "source": [
    "### Is this dataset suitable for modeling and wrangling?"
   ]
  },
  {
   "cell_type": "markdown",
   "id": "f38d0b0d-1498-4b91-bca6-d184baecc976",
   "metadata": {},
   "source": [
    "*Yes, the dataset we are using is suitable for data wrangling and modeling. We say this because there are clear fields contained in the dataset. The dataset contains columns and rows that are well aligned and are of numerical value which makes it easier to wrangle the data. It also has an important dictionary that explains the numerical values contained in the dataset.*"
   ]
  },
  {
   "cell_type": "markdown",
   "id": "eed98517-c688-49e1-bd33-b73733307569",
   "metadata": {},
   "source": [
    "### Describe the analytical questions answered with with the data"
   ]
  },
  {
   "cell_type": "markdown",
   "id": "7deb52f2-1ebd-454c-8ac5-375f5bffb637",
   "metadata": {},
   "source": [
    "1. *What is the distribution of the number of deaths across sex and race? In totality, what is the impact heart disease has over the three years on various age groups? Does an individual living alone decrease their probability of getting immediate help when one is suffering from a heart disease?*\n",
    "\n",
    "2. *Is there any difference in the top 3 death causes for single people versus married people at certain ages? If so, what is the death cause? What preventive measures could we do to increase those individual's lifespan?*\n",
    "\n",
    "3. *What manner of death and age groups have the highest count of autopsies performed after death? What is the relationship between manner of death and autopsy in relation to age?*\n"
   ]
  },
  {
   "cell_type": "markdown",
   "id": "9aa5804a-236d-45b1-8ca5-b674885641a0",
   "metadata": {},
   "source": [
    "### Describe any concerns with the data and changes you expect to overcome"
   ]
  },
  {
   "cell_type": "markdown",
   "id": "11731eef-bb0d-4c31-9c4d-a6f830e34df9",
   "metadata": {},
   "source": [
    "1. *The dataset is very large. The concatenated datafile combining  all 3 years has over 7 million rows. This makes it a more difficult dataset to wrangle and model because the processing time is slower as we have to go over 7 million rows and over 70 columns of data.*\n",
    "\n",
    "2. *The dataset is a little complex for data wrangling using the database dimensions and facts model as our dataset has a plethora of dimensions with little to no facts. This is because our dataset data is granular at the patient level. For this reason we will be using the counts as our facts.*\n",
    "\n",
    "3. *The dataset contains many variables that seem to be dimensions and so it is easier to come up with the necessary dimension tables without identyfing the facts contained in the table.*\n",
    "\n",
    "4. *To be able to analyze and wrangle the data more efficiently, we expect to drop and filter out several columns in the data set that do not necessarily have much to do with our analytical questions.*\n",
    "\n",
    "5. *We observed a few interesting columns in the dataset but due to less information in the columns itself we were unable to perform analytics from those aspects.*"
   ]
  },
  {
   "cell_type": "markdown",
   "id": "834c73d2-34eb-4afd-9cc4-22e2aa8acabf",
   "metadata": {},
   "source": [
    "## Ask 2: Data Wrangling"
   ]
  },
  {
   "cell_type": "code",
   "execution_count": 4,
   "id": "588945c9-22cc-46e7-b24f-661c6c0bf479",
   "metadata": {},
   "outputs": [
    {
     "name": "stdout",
     "output_type": "stream",
     "text": [
      "/home/ubuntu/notebooks\n"
     ]
    }
   ],
   "source": [
    "#Checking work directory\n",
    "!pwd"
   ]
  },
  {
   "cell_type": "code",
   "execution_count": 20,
   "id": "e0d2a1ab-c919-49b9-96f5-fe983b281b20",
   "metadata": {},
   "outputs": [],
   "source": [
    "%reload_ext sql"
   ]
  },
  {
   "cell_type": "markdown",
   "id": "693699b0-9aa3-4130-9f97-5d813bf33df4",
   "metadata": {},
   "source": [
    "#### Before the creation of the necessary database, we drop the database named week 11 to avoid any duplicates if it already exists and is running"
   ]
  },
  {
   "cell_type": "code",
   "execution_count": 7,
   "id": "a0f4144c-f065-412a-af54-c7df2adc212c",
   "metadata": {},
   "outputs": [],
   "source": [
    "!dropdb -U student week11"
   ]
  },
  {
   "cell_type": "markdown",
   "id": "e91b79cc-49e5-4bc2-b628-4fae8c3cdd82",
   "metadata": {},
   "source": [
    "#### Then we create the database where we create our table."
   ]
  },
  {
   "cell_type": "code",
   "execution_count": 8,
   "id": "0c6a8044-bd6b-42f5-a733-47d2b9479de3",
   "metadata": {},
   "outputs": [],
   "source": [
    "!createdb -U student week11"
   ]
  },
  {
   "cell_type": "code",
   "execution_count": 21,
   "id": "bde273c5-301a-4ce3-9d5f-de07c559eaf8",
   "metadata": {},
   "outputs": [],
   "source": [
    "%sql postgresql://student@/week11"
   ]
  },
  {
   "cell_type": "code",
   "execution_count": 4,
   "id": "0a1e24ab-037c-4a17-9bfa-655af2851c3e",
   "metadata": {},
   "outputs": [
    {
     "name": "stdout",
     "output_type": "stream",
     "text": [
      "--2022-12-09 23:46:04--  https://grouple1go.s3.amazonaws.com/archive+(2)+1.zip\n",
      "Resolving grouple1go.s3.amazonaws.com (grouple1go.s3.amazonaws.com)... 54.231.164.193, 52.217.193.185, 52.217.88.124, ...\n",
      "Connecting to grouple1go.s3.amazonaws.com (grouple1go.s3.amazonaws.com)|54.231.164.193|:443... connected.\n",
      "HTTP request sent, awaiting response... 200 OK\n",
      "Length: 211035185 (201M) [application/zip]\n",
      "Saving to: ‘archive+(2)+1.zip’\n",
      "\n",
      "archive+(2)+1.zip   100%[===================>] 201.26M  68.5MB/s    in 2.9s    \n",
      "\n",
      "2022-12-09 23:46:07 (68.5 MB/s) - ‘archive+(2)+1.zip’ saved [211035185/211035185]\n",
      "\n"
     ]
    }
   ],
   "source": [
    "#Adding dataset zip file to notebook\n",
    "!wget 'https://grouple1go.s3.amazonaws.com/archive+(2)+1.zip'"
   ]
  },
  {
   "cell_type": "code",
   "execution_count": 5,
   "id": "7a629d26-7538-4d99-974a-121dc477a8ff",
   "metadata": {
    "tags": []
   },
   "outputs": [
    {
     "name": "stdout",
     "output_type": "stream",
     "text": [
      "Archive:  archive+(2)+1.zip\n",
      "   creating: archive (2)/\n",
      "  inflating: __MACOSX/._archive (2)  \n",
      "  inflating: archive (2)/.DS_Store   \n",
      "  inflating: __MACOSX/archive (2)/._.DS_Store  \n",
      "  inflating: archive (2)/2015_codes.json  \n",
      "  inflating: __MACOSX/archive (2)/._2015_codes.json  \n",
      "  inflating: archive (2)/2014_codes.json  \n",
      "  inflating: __MACOSX/archive (2)/._2014_codes.json  \n",
      "  inflating: archive (2)/2014_data.csv  \n",
      "  inflating: __MACOSX/archive (2)/._2014_data.csv  \n",
      "  inflating: archive (2)/2015_data.csv  \n",
      "  inflating: __MACOSX/archive (2)/._2015_data.csv  \n",
      "  inflating: archive (2)/2013_codes.json  \n",
      "  inflating: __MACOSX/archive (2)/._2013_codes.json  \n",
      "  inflating: archive (2)/2013_data.csv  \n",
      "  inflating: __MACOSX/archive (2)/._2013_data.csv  \n"
     ]
    }
   ],
   "source": [
    "#unzipping the folder\n",
    "!unzip -o 'archive+(2)+1.zip'"
   ]
  },
  {
   "cell_type": "code",
   "execution_count": 2,
   "id": "0a3b0705-b5e2-4848-b437-dd1d3f9efc0d",
   "metadata": {},
   "outputs": [
    {
     "name": "stdout",
     "output_type": "stream",
     "text": [
      "/home/ubuntu/notebooks/archive (2)\n"
     ]
    }
   ],
   "source": [
    "%cd /home/ubuntu/notebooks/archive (2)"
   ]
  },
  {
   "cell_type": "code",
   "execution_count": 3,
   "id": "782a1163-f77e-4f0d-a6ca-b1e42911442a",
   "metadata": {},
   "outputs": [
    {
     "name": "stdout",
     "output_type": "stream",
     "text": [
      "2601453 2013_data.csv\n"
     ]
    }
   ],
   "source": [
    "#Word count of 2013 file\n",
    "!wc -l 2013_data.csv"
   ]
  },
  {
   "cell_type": "code",
   "execution_count": 4,
   "id": "c935337d-6897-4f73-a49b-ffe44877bea1",
   "metadata": {},
   "outputs": [
    {
     "name": "stdout",
     "output_type": "stream",
     "text": [
      "2631172 2014_data.csv\n"
     ]
    }
   ],
   "source": [
    "#Word count of 2014 file\n",
    "!wc -l 2014_data.csv"
   ]
  },
  {
   "cell_type": "code",
   "execution_count": 5,
   "id": "0329119c-f2d3-4685-a4d8-316f4c547451",
   "metadata": {},
   "outputs": [
    {
     "name": "stdout",
     "output_type": "stream",
     "text": [
      "2718199 2015_data.csv\n"
     ]
    }
   ],
   "source": [
    "#Word count of 2015 file\n",
    "!wc -l 2015_data.csv"
   ]
  },
  {
   "cell_type": "code",
   "execution_count": 6,
   "id": "607165bf-9735-4a4d-ac08-0d568bf035e0",
   "metadata": {},
   "outputs": [],
   "source": [
    "#Concatenation of 3 files to make larger data file\n",
    "!csvstack *.csv > Deathdata.csv"
   ]
  },
  {
   "cell_type": "code",
   "execution_count": 7,
   "id": "e2e335b9-2b1d-4333-85a5-e77df7b2e568",
   "metadata": {},
   "outputs": [
    {
     "name": "stdout",
     "output_type": "stream",
     "text": [
      "7950822 Deathdata.csv\n"
     ]
    }
   ],
   "source": [
    "#Word count of final data file\n",
    "!wc -l Deathdata.csv"
   ]
  },
  {
   "cell_type": "markdown",
   "id": "e7464d25-07ac-47d5-8ba3-dceec1cd4f93",
   "metadata": {},
   "source": [
    "#### csvcut to obtain the csv file's headers"
   ]
  },
  {
   "cell_type": "code",
   "execution_count": 8,
   "id": "60a1dafd-4d20-4361-9834-352a42e636c3",
   "metadata": {
    "tags": []
   },
   "outputs": [
    {
     "name": "stdout",
     "output_type": "stream",
     "text": [
      "  1: resident_status\n",
      "  2: education_1989_revision\n",
      "  3: education_2003_revision\n",
      "  4: education_reporting_flag\n",
      "  5: month_of_death\n",
      "  6: sex\n",
      "  7: detail_age_type\n",
      "  8: detail_age\n",
      "  9: age_substitution_flag\n",
      " 10: age_recode_52\n",
      " 11: age_recode_27\n",
      " 12: age_recode_12\n",
      " 13: infant_age_recode_22\n",
      " 14: place_of_death_and_decedents_status\n",
      " 15: marital_status\n",
      " 16: day_of_week_of_death\n",
      " 17: current_data_year\n",
      " 18: injury_at_work\n",
      " 19: manner_of_death\n",
      " 20: method_of_disposition\n",
      " 21: autopsy\n",
      " 22: activity_code\n",
      " 23: place_of_injury_for_causes_w00_y34_except_y06_and_y07_\n",
      " 24: icd_code_10th_revision\n",
      " 25: 358_cause_recode\n",
      " 26: 113_cause_recode\n",
      " 27: 130_infant_cause_recode\n",
      " 28: 39_cause_recode\n",
      " 29: number_of_entity_axis_conditions\n",
      " 30: entity_condition_1\n",
      " 31: entity_condition_2\n",
      " 32: entity_condition_3\n",
      " 33: entity_condition_4\n",
      " 34: entity_condition_5\n",
      " 35: entity_condition_6\n",
      " 36: entity_condition_7\n",
      " 37: entity_condition_8\n",
      " 38: entity_condition_9\n",
      " 39: entity_condition_10\n",
      " 40: entity_condition_11\n",
      " 41: entity_condition_12\n",
      " 42: entity_condition_13\n",
      " 43: entity_condition_14\n",
      " 44: entity_condition_15\n",
      " 45: entity_condition_16\n",
      " 46: entity_condition_17\n",
      " 47: entity_condition_18\n",
      " 48: entity_condition_19\n",
      " 49: entity_condition_20\n",
      " 50: number_of_record_axis_conditions\n",
      " 51: record_condition_1\n",
      " 52: record_condition_2\n",
      " 53: record_condition_3\n",
      " 54: record_condition_4\n",
      " 55: record_condition_5\n",
      " 56: record_condition_6\n",
      " 57: record_condition_7\n",
      " 58: record_condition_8\n",
      " 59: record_condition_9\n",
      " 60: record_condition_10\n",
      " 61: record_condition_11\n",
      " 62: record_condition_12\n",
      " 63: record_condition_13\n",
      " 64: record_condition_14\n",
      " 65: record_condition_15\n",
      " 66: record_condition_16\n",
      " 67: record_condition_17\n",
      " 68: record_condition_18\n",
      " 69: record_condition_19\n",
      " 70: record_condition_20\n",
      " 71: race\n",
      " 72: bridged_race_flag\n",
      " 73: race_imputation_flag\n",
      " 74: race_recode_3\n",
      " 75: race_recode_5\n",
      " 76: hispanic_origin\n",
      " 77: hispanic_originrace_recode\n"
     ]
    }
   ],
   "source": [
    "!csvcut -n Deathdata.csv"
   ]
  },
  {
   "cell_type": "code",
   "execution_count": 9,
   "id": "bb61e79b-810b-446e-9bfd-165445b737fb",
   "metadata": {},
   "outputs": [
    {
     "name": "stdout",
     "output_type": "stream",
     "text": [
      "/home/ubuntu/notebooks/archive (2)\n"
     ]
    }
   ],
   "source": [
    "%cd /home/ubuntu/notebooks/archive (2)"
   ]
  },
  {
   "cell_type": "markdown",
   "id": "a31b8b9e-e384-4d48-bd6b-532adfb382c4",
   "metadata": {
    "tags": []
   },
   "source": [
    "##### csvcut to remove the columns that do not have much to do with our analytical questions. The original file has 77 columns and now we are left with 20. The columns removed are:\n",
    "* resident_status\n",
    "* education_1989_revision\n",
    "* education_reporting_flag\n",
    "* detail_age_type\n",
    "* age_recode_52\n",
    "* age_recode_27\n",
    "* infant_age_recode_22\n",
    "* age_substitution_flag\n",
    "* activity_code\n",
    "* 130_infant_cause_recode\n",
    "* number_of_entity_axis_conditions\n",
    "* entity_condition_1\n",
    "* entity_condition_2\n",
    "* entity_condition_3\n",
    "* entity_condition_4\n",
    "* entity_condition_5\n",
    "* entity_condition_6\n",
    "* entity_condition_7\n",
    "* entity_condition_8\n",
    "* entity_condition_9\n",
    "* entity_condition_10\n",
    "* entity_condition_11\n",
    "* entity_condition_12\n",
    "* entity_condition_13\n",
    "* entity_condition_14\n",
    "* entity_condition_15\n",
    "* entity_condition_16\n",
    "* entity_condition_17\n",
    "* entity_condition_18\n",
    "* entity_condition_19\n",
    "* entity_condition_20\n",
    "* number_of_record_axis_conditions\n",
    "* record_condition_1\n",
    "* record_condition_2\n",
    "* record_condition_3\n",
    "* record_condition_4\n",
    "* record_condition_5\n",
    "* record_condition_6\n",
    "* record_condition_7\n",
    "* record_condition_8\n",
    "* record_condition_9\n",
    "* record_condition_10\n",
    "* record_condition_11\n",
    "* record_condition_12\n",
    "* record_condition_13\n",
    "* record_condition_14\n",
    "* record_condition_15\n",
    "* record_condition_16\n",
    "* record_condition_17\n",
    "* record_condition_18\n",
    "* record_condition_19\n",
    "* record_condition_20\n",
    "* bridged_race_flag\n",
    "* race_imputation_flag\n",
    "* race_recode_3\n",
    "* hispanic_origin\n",
    "* hispanic_originrace_recode"
   ]
  },
  {
   "cell_type": "code",
   "execution_count": 10,
   "id": "317ffb4e-79a5-4e96-9b99-6508986183fa",
   "metadata": {},
   "outputs": [],
   "source": [
    "!csvcut -C 1,2,4,7,9,10,11,13,27,22,29-70,72,73,74,76,77 Deathdata.csv > Deathdata1.csv"
   ]
  },
  {
   "cell_type": "markdown",
   "id": "0abb31f9-ce12-4e4e-9517-db31d03665ea",
   "metadata": {},
   "source": [
    "The above columns were dropped for the following reasons:\n",
    "\n",
    "1. Resident_status: The column did not provide us with sufficient information on the exact state/city of the individual. \n",
    "\n",
    "2. Education_1989_revision: We dropped this column because it is playing the same role as education_2003_revision, but education_2003_revision has better data integrity.\n",
    "\n",
    "3.  Education_reporting_flag : We dropped this column becasue it only shows which version of education that each deceased individual has. It could not attribute valuable information for our modeling.\n",
    "\n",
    "4. Detail_age_type：Similar to education_reporting_flag, we could not gather valuable information from it.\n",
    "\n",
    "5. Age_recode_52 and age_recode_27: The columns were dropped as the the age groups were too many and too detailed, instead we used age_recode_12 which provides a reasonable age grouping.\n",
    "\n",
    "6. infant_age_recode_22 and 130_infant_cause_recode: We did not specifically concentrate on infant deaths as this formed a very small part of the large dataset.\n",
    "\n",
    "7. Age_substitution_flag : We have assume this column is empty in this dataset, as the first million rows were blank for this column.\n",
    "\n",
    "8. Column related to Entity and Record Conditions: Entity condition in this dataset is converted from deceased's US Death Certification Sheet. It records only the death conditions sequentially. However, in this data model we will only focus on the final death condition which is already covered by \"Cause_code\" columns. Record condition is more like the processed version of entity, so we dropped it as well.\n",
    "\n",
    "9. Bridged_race_flag, race_imputation_flag, race_recode_3, hispanic_origin and hispanic_originrace_recode: The range of target categories represented is too small."
   ]
  },
  {
   "cell_type": "code",
   "execution_count": 11,
   "id": "4adccd0d-8991-4a50-9b71-108638dd2d01",
   "metadata": {},
   "outputs": [],
   "source": [
    "!mv Deathdata1.csv /home/ubuntu/notebooks/Deathdata1.csv"
   ]
  },
  {
   "cell_type": "code",
   "execution_count": 12,
   "id": "03aa9aee-afd0-476a-babd-757f503ab3a5",
   "metadata": {},
   "outputs": [
    {
     "name": "stdout",
     "output_type": "stream",
     "text": [
      "/home/ubuntu/notebooks\n"
     ]
    }
   ],
   "source": [
    "%cd /home/ubuntu/notebooks"
   ]
  },
  {
   "cell_type": "code",
   "execution_count": 13,
   "id": "a07d59fb-d5a7-4ed4-aba4-174e65f5de9f",
   "metadata": {
    "tags": []
   },
   "outputs": [
    {
     "name": "stdout",
     "output_type": "stream",
     "text": [
      "  1: education_2003_revision\n",
      "  2: month_of_death\n",
      "  3: sex\n",
      "  4: detail_age\n",
      "  5: age_recode_12\n",
      "  6: place_of_death_and_decedents_status\n",
      "  7: marital_status\n",
      "  8: day_of_week_of_death\n",
      "  9: current_data_year\n",
      " 10: injury_at_work\n",
      " 11: manner_of_death\n",
      " 12: method_of_disposition\n",
      " 13: autopsy\n",
      " 14: place_of_injury_for_causes_w00_y34_except_y06_and_y07_\n",
      " 15: icd_code_10th_revision\n",
      " 16: 358_cause_recode\n",
      " 17: 113_cause_recode\n",
      " 18: 39_cause_recode\n",
      " 19: race\n",
      " 20: race_recode_5\n"
     ]
    }
   ],
   "source": [
    "!csvcut -n Deathdata1.csv"
   ]
  },
  {
   "cell_type": "markdown",
   "id": "9b0cf691-6148-4902-85cb-97cb59150d27",
   "metadata": {},
   "source": [
    "##### The column names above are the headers for the new file after filtering the columns that we did not deem as necessary for the analytical questions ahead."
   ]
  },
  {
   "cell_type": "markdown",
   "id": "74c306f2-63bc-4a14-8026-e795d09c5c45",
   "metadata": {},
   "source": [
    "#### Display of the first 15 rows of data in the dataset."
   ]
  },
  {
   "cell_type": "code",
   "execution_count": 14,
   "id": "651aa151-4563-42cf-9b83-865b4ca2c28d",
   "metadata": {
    "tags": []
   },
   "outputs": [
    {
     "name": "stdout",
     "output_type": "stream",
     "text": [
      "education_2003_revision,month_of_death,sex,detail_age,age_recode_12,place_of_death_and_decedents_status,marital_status,day_of_week_of_death,current_data_year,injury_at_work,manner_of_death,method_of_disposition,autopsy,place_of_injury_for_causes_w00_y34_except_y06_and_y07_,icd_code_10th_revision,358_cause_recode,113_cause_recode,39_cause_recode,race,race_recode_5\n",
      ",01,M,090,11,6,M,4,2013,U,7,U,N,,F03,175,111,37,01,1\n",
      ",01,F,080,10,6,W,3,2013,U,7,U,N,,F03,175,111,37,01,1\n",
      ",01,M,073,09,6,D,4,2013,U,7,U,N,,F03,175,111,37,01,1\n",
      ",01,M,078,10,1,M,1,2013,U,7,U,N,,C798,125,043,15,03,3\n",
      ",01,F,083,10,6,D,4,2013,U,7,U,N,,C349,093,027,08,01,1\n",
      ",01,F,089,11,1,W,7,2013,U,7,U,N,,I500,230,067,22,01,1\n",
      ",01,F,069,09,1,D,6,2013,U,7,U,N,,C349,093,027,08,01,1\n",
      ",01,F,064,08,1,D,4,2013,U,7,U,N,,A419,023,010,37,01,1\n",
      ",01,F,087,11,6,W,1,2013,U,7,U,N,,G309,189,052,17,01,1\n",
      ",01,F,024,04,1,S,3,2013,U,7,U,N,,C717,122,036,15,03,3\n",
      ",01,M,047,07,7,M,4,2013,U,7,U,N,,I250,214,062,21,03,3\n",
      ",01,M,062,08,1,S,5,2013,U,7,U,N,,C159,077,021,15,03,3\n",
      ",01,M,075,10,1,S,6,2013,U,7,U,N,,I429,227,068,22,03,3\n",
      ",01,M,058,08,4,D,7,2013,U,7,U,N,,C189,081,023,06,01,1\n"
     ]
    }
   ],
   "source": [
    "!head -n 15 Deathdata1.csv"
   ]
  },
  {
   "cell_type": "markdown",
   "id": "1fd3b42d-0855-405e-a0a1-e3ed5a0ede64",
   "metadata": {},
   "source": [
    "#### Csvstat to get the statistical summary of the dataset according to each column and have clear view of the datatypes."
   ]
  },
  {
   "cell_type": "code",
   "execution_count": 15,
   "id": "e72aadbf-fb9d-443a-a8ce-cdb142f6e19a",
   "metadata": {
    "tags": []
   },
   "outputs": [
    {
     "name": "stdout",
     "output_type": "stream",
     "text": [
      "  1. \"education_2003_revision\"\n",
      "\n",
      "\tType of data:          Number\n",
      "\tContains null values:  True (excluded from calculations)\n",
      "\tUnique values:         10\n",
      "\tSmallest value:        1\n",
      "\tLargest value:         9\n",
      "\tSum:                   85175\n",
      "\tMean:                  3.179\n",
      "\tMedian:                3\n",
      "\tStDev:                 1.681\n",
      "\tMost common values:    None (53204x)\n",
      "\t                       3 (11138x)\n",
      "\t                       1 (4378x)\n",
      "\t                       2 (3856x)\n",
      "\t                       4 (2931x)\n",
      "\n",
      "  2. \"month_of_death\"\n",
      "\n",
      "\tType of data:          Number\n",
      "\tContains null values:  False\n",
      "\tUnique values:         12\n",
      "\tSmallest value:        1\n",
      "\tLargest value:         12\n",
      "\tSum:                   492438\n",
      "\tMean:                  6.156\n",
      "\tMedian:                6\n",
      "\tStDev:                 3.445\n",
      "\tMost common values:    1 (8382x)\n",
      "\t                       3 (7581x)\n",
      "\t                       2 (6947x)\n",
      "\t                       4 (6836x)\n",
      "\t                       5 (6810x)\n",
      "\n",
      "  3. \"sex\"\n",
      "\n",
      "\tType of data:          Text\n",
      "\tContains null values:  False\n",
      "\tUnique values:         2\n",
      "\tLongest value:         1 characters\n",
      "\tMost common values:    M (41200x)\n",
      "\t                       F (38799x)\n",
      "\n",
      "  4. \"detail_age\"\n",
      "\n",
      "\tType of data:          Number\n",
      "\tContains null values:  False\n",
      "\tUnique values:         111\n",
      "\tSmallest value:        1\n",
      "\tLargest value:         999\n",
      "\tSum:                   5681564\n",
      "\tMean:                  71.02\n",
      "\tMedian:                74\n",
      "\tStDev:                 18.802\n",
      "\tMost common values:    85 (2184x)\n",
      "\t                       83 (2171x)\n",
      "\t                       86 (2151x)\n",
      "\t                       81 (2098x)\n",
      "\t                       84 (2095x)\n",
      "\n",
      "  5. \"age_recode_12\"\n",
      "\n",
      "\tType of data:          Number\n",
      "\tContains null values:  False\n",
      "\tUnique values:         12\n",
      "\tSmallest value:        1\n",
      "\tLargest value:         12\n",
      "\tSum:                   727581\n",
      "\tMean:                  9.095\n",
      "\tMedian:                9\n",
      "\tStDev:                 1.861\n",
      "\tMost common values:    11 (20211x)\n",
      "\t                       10 (19596x)\n",
      "\t                       9 (15715x)\n",
      "\t                       8 (11800x)\n",
      "\t                       7 (6261x)\n",
      "\n",
      "  6. \"place_of_death_and_decedents_status\"\n",
      "\n",
      "\tType of data:          Number\n",
      "\tContains null values:  False\n",
      "\tUnique values:         8\n",
      "\tSmallest value:        1\n",
      "\tLargest value:         9\n",
      "\tSum:                   270111\n",
      "\tMean:                  3.376\n",
      "\tMedian:                4\n",
      "\tStDev:                 2.019\n",
      "\tMost common values:    4 (27222x)\n",
      "\t                       1 (26077x)\n",
      "\t                       6 (11492x)\n",
      "\t                       2 (6558x)\n",
      "\t                       7 (4889x)\n",
      "\n",
      "  7. \"marital_status\"\n",
      "\n",
      "\tType of data:          Text\n",
      "\tContains null values:  False\n",
      "\tUnique values:         5\n",
      "\tLongest value:         1 characters\n",
      "\tMost common values:    M (31334x)\n",
      "\t                       W (26989x)\n",
      "\t                       D (12717x)\n",
      "\t                       S (8592x)\n",
      "\t                       U (367x)\n",
      "\n",
      "  8. \"day_of_week_of_death\"\n",
      "\n",
      "\tType of data:          Number\n",
      "\tContains null values:  False\n",
      "\tUnique values:         8\n",
      "\tSmallest value:        1\n",
      "\tLargest value:         9\n",
      "\tSum:                   321001\n",
      "\tMean:                  4.013\n",
      "\tMedian:                4\n",
      "\tStDev:                 1.999\n",
      "\tMost common values:    6 (11609x)\n",
      "\t                       3 (11605x)\n",
      "\t                       7 (11499x)\n",
      "\t                       2 (11378x)\n",
      "\t                       5 (11357x)\n",
      "\n",
      "  9. \"current_data_year\"\n",
      "\n",
      "\tType of data:          Number\n",
      "\tContains null values:  False\n",
      "\tUnique values:         1\n",
      "\tSmallest value:        2013\n",
      "\tLargest value:         2013\n",
      "\tSum:                   161037987\n",
      "\tMean:                  2013\n",
      "\tMedian:                2013\n",
      "\tStDev:                 0\n",
      "\tMost common values:    2013 (79999x)\n",
      "\n",
      " 10. \"injury_at_work\"\n",
      "\n",
      "\tType of data:          Text\n",
      "\tContains null values:  False\n",
      "\tUnique values:         3\n",
      "\tLongest value:         1 characters\n",
      "\tMost common values:    U (74294x)\n",
      "\t                       N (5543x)\n",
      "\t                       Y (162x)\n",
      "\n",
      " 11. \"manner_of_death\"\n",
      "\n",
      "\tType of data:          Number\n",
      "\tContains null values:  True (excluded from calculations)\n",
      "\tUnique values:         7\n",
      "\tSmallest value:        1\n",
      "\tLargest value:         7\n",
      "\tSum:                   492191\n",
      "\tMean:                  6.581\n",
      "\tMedian:                7\n",
      "\tStDev:                 1.445\n",
      "\tMost common values:    7 (68633x)\n",
      "\t                       None (5208x)\n",
      "\t                       1 (3349x)\n",
      "\t                       2 (1341x)\n",
      "\t                       3 (648x)\n",
      "\n",
      " 12. \"method_of_disposition\"\n",
      "\n",
      "\tType of data:          Text\n",
      "\tContains null values:  False\n",
      "\tUnique values:         7\n",
      "\tLongest value:         1 characters\n",
      "\tMost common values:    U (53228x)\n",
      "\t                       B (17662x)\n",
      "\t                       C (8701x)\n",
      "\t                       D (187x)\n",
      "\t                       E (148x)\n",
      "\n",
      " 13. \"autopsy\"\n",
      "\n",
      "\tType of data:          Text\n",
      "\tContains null values:  False\n",
      "\tUnique values:         3\n",
      "\tLongest value:         1 characters\n",
      "\tMost common values:    N (65024x)\n",
      "\t                       U (10789x)\n",
      "\t                       Y (4186x)\n",
      "\n",
      " 14. \"place_of_injury_for_causes_w00_y34_except_y06_and_y07_\"\n",
      "\n",
      "\tType of data:          Number\n",
      "\tContains null values:  True (excluded from calculations)\n",
      "\tUnique values:         11\n",
      "\tSmallest value:        0\n",
      "\tLargest value:         9\n",
      "\tSum:                   22676\n",
      "\tMean:                  4.332\n",
      "\tMedian:                4\n",
      "\tStDev:                 4.251\n",
      "\tMost common values:    None (74765x)\n",
      "\t                       0 (2389x)\n",
      "\t                       9 (1980x)\n",
      "\t                       8 (382x)\n",
      "\t                       4 (192x)\n",
      "\n",
      " 15. \"icd_code_10th_revision\"\n",
      "\n",
      "\tType of data:          Text\n",
      "\tContains null values:  False\n",
      "\tUnique values:         1566\n",
      "\tLongest value:         4 characters\n",
      "\tMost common values:    C349 (5303x)\n",
      "\t                       I219 (4385x)\n",
      "\t                       F03 (3998x)\n",
      "\t                       J449 (3923x)\n",
      "\t                       I251 (3018x)\n",
      "\n",
      " 16. \"358_cause_recode\"\n",
      "\n",
      "\tType of data:          Number\n",
      "\tContains null values:  False\n",
      "\tUnique values:         302\n",
      "\tSmallest value:        6\n",
      "\tLargest value:         456\n",
      "\tSum:                   17194816\n",
      "\tMean:                  214.938\n",
      "\tMedian:                215\n",
      "\tStDev:                 95.397\n",
      "\tMost common values:    93 (5321x)\n",
      "\t                       267 (4710x)\n",
      "\t                       211 (4388x)\n",
      "\t                       175 (4297x)\n",
      "\t                       215 (3918x)\n",
      "\n",
      " 17. \"113_cause_recode\"\n",
      "\n",
      "\tType of data:          Number\n",
      "\tContains null values:  False\n",
      "\tUnique values:         104\n",
      "\tSmallest value:        1\n",
      "\tLargest value:         135\n",
      "\tSum:                   5564496\n",
      "\tMean:                  69.557\n",
      "\tMedian:                68\n",
      "\tStDev:                 31.644\n",
      "\tMost common values:    111 (9396x)\n",
      "\t                       68 (5926x)\n",
      "\t                       27 (5321x)\n",
      "\t                       86 (4721x)\n",
      "\t                       59 (4388x)\n",
      "\n",
      " 18. \"39_cause_recode\"\n",
      "\n",
      "\tType of data:          Number\n",
      "\tContains null values:  False\n",
      "\tUnique values:         38\n",
      "\tSmallest value:        1\n",
      "\tLargest value:         42\n",
      "\tSum:                   1959169\n",
      "\tMean:                  24.49\n",
      "\tMedian:                22\n",
      "\tStDev:                 10.209\n",
      "\tMost common values:    37 (14758x)\n",
      "\t                       21 (9427x)\n",
      "\t                       22 (9093x)\n",
      "\t                       8 (5321x)\n",
      "\t                       28 (5081x)\n",
      "\n",
      " 19. \"race\"\n",
      "\n",
      "\tType of data:          Number\n",
      "\tContains null values:  False\n",
      "\tUnique values:         13\n",
      "\tSmallest value:        1\n",
      "\tLargest value:         78\n",
      "\tSum:                   112291\n",
      "\tMean:                  1.404\n",
      "\tMedian:                1\n",
      "\tStDev:                 3.48\n",
      "\tMost common values:    1 (64077x)\n",
      "\t                       2 (14458x)\n",
      "\t                       3 (1072x)\n",
      "\t                       68 (196x)\n",
      "\t                       7 (86x)\n",
      "\n",
      " 20. \"race_recode_5\"\n",
      "\n",
      "\tType of data:          Number\n",
      "\tContains null values:  False\n",
      "\tUnique values:         4\n",
      "\tSmallest value:        1\n",
      "\tLargest value:         4\n",
      "\tSum:                   97777\n",
      "\tMean:                  1.222\n",
      "\tMedian:                1\n",
      "\tStDev:                 0.479\n",
      "\tMost common values:    1 (64077x)\n",
      "\t                       2 (14458x)\n",
      "\t                       3 (1072x)\n",
      "\t                       4 (392x)\n",
      "\n",
      "Row count: 79999\n"
     ]
    }
   ],
   "source": [
    "!head -n 80000 Deathdata1.csv | csvstat"
   ]
  },
  {
   "cell_type": "markdown",
   "id": "8cb63762-b7ec-44d5-9807-d41ebcd58c76",
   "metadata": {},
   "source": [
    "#### Using the CREATE command, we create our main fact table which is Deaths_USA as we will be looking at the Deaths in the United States. Before we create the table, we drop it to ensure that there will be no duplicates."
   ]
  },
  {
   "cell_type": "code",
   "execution_count": 22,
   "id": "c05b76ec-cd0b-443c-ab7f-1e354a25eb7d",
   "metadata": {},
   "outputs": [
    {
     "name": "stdout",
     "output_type": "stream",
     "text": [
      " * postgresql://student@/week11\n",
      "Done.\n",
      "Done.\n"
     ]
    },
    {
     "data": {
      "text/plain": [
       "[]"
      ]
     },
     "execution_count": 22,
     "metadata": {},
     "output_type": "execute_result"
    }
   ],
   "source": [
    "%%sql\n",
    "DROP TABLE IF EXISTS DEATHS_USA cascade;\n",
    "CREATE TABLE DEATHS_USA (\n",
    "    education_2003_revision                           NUMERIC(1) ,\n",
    "    month_of_death                                    NUMERIC(2) NOT NULL,\n",
    "    sex                                               CHAR(1) NOT NULL,\n",
    "    detail_age                                        NUMERIC(3) NOT NULL,\n",
    "    age_recode_12                                     NUMERIC(3), \n",
    "    place_of_death_and_decedents_status               NUMERIC(1) NOT NULL,\n",
    "    marital_status                                    CHAR(1) NOT NULL,\n",
    "    day_of_week_of_death                              NUMERIC(1) NOT NULL,\n",
    "    current_data_year                                 VARCHAR(4) DEFAULT '9999',\n",
    "    injury_at_work                                    CHAR(1) NOT NULL,\n",
    "    manner_of_death                                   NUMERIC(1),\n",
    "    method_of_disposition                             CHAR(1) NOT NULL,\n",
    "    autopsy                                           CHAR(1) NOT NULL,\n",
    "    place_of_injury_for_causes_w00_y34_except_y06_and_y07_  NUMERIC(1),\n",
    "    icd_code_10th_revision                            VARCHAR(4) NOT NULL,\n",
    "    \"358_cause_recode\"                               NUMERIC(3) NOT NULL,\n",
    "    \"113_cause_recode\"                               NUMERIC(3) NOT NULL,\n",
    "    \"39_cause_recode\"                                NUMERIC(2) NOT NULL,\n",
    "    race                                              NUMERIC(2) NOT NULL,                              \n",
    "    race_recode_5                                     NUMERIC(1) NOT NULL\n",
    ");"
   ]
  },
  {
   "cell_type": "code",
   "execution_count": 23,
   "id": "2952c068-4ba6-43c7-a48d-16b907fdfedc",
   "metadata": {},
   "outputs": [
    {
     "name": "stdout",
     "output_type": "stream",
     "text": [
      " * postgresql://student@/week11\n",
      "0 rows affected.\n"
     ]
    },
    {
     "data": {
      "text/html": [
       "<table>\n",
       "    <thead>\n",
       "        <tr>\n",
       "            <th>education_2003_revision</th>\n",
       "            <th>month_of_death</th>\n",
       "            <th>sex</th>\n",
       "            <th>detail_age</th>\n",
       "            <th>age_recode_12</th>\n",
       "            <th>place_of_death_and_decedents_status</th>\n",
       "            <th>marital_status</th>\n",
       "            <th>day_of_week_of_death</th>\n",
       "            <th>current_data_year</th>\n",
       "            <th>injury_at_work</th>\n",
       "            <th>manner_of_death</th>\n",
       "            <th>method_of_disposition</th>\n",
       "            <th>autopsy</th>\n",
       "            <th>place_of_injury_for_causes_w00_y34_except_y06_and_y07_</th>\n",
       "            <th>icd_code_10th_revision</th>\n",
       "            <th>358_cause_recode</th>\n",
       "            <th>113_cause_recode</th>\n",
       "            <th>39_cause_recode</th>\n",
       "            <th>race</th>\n",
       "            <th>race_recode_5</th>\n",
       "        </tr>\n",
       "    </thead>\n",
       "    <tbody>\n",
       "    </tbody>\n",
       "</table>"
      ],
      "text/plain": [
       "[]"
      ]
     },
     "execution_count": 23,
     "metadata": {},
     "output_type": "execute_result"
    }
   ],
   "source": [
    "%%sql\n",
    "SELECT * FROM DEATHS_USA"
   ]
  },
  {
   "cell_type": "markdown",
   "id": "78edbe1b-b03e-4f88-a85b-abbcb5bf1805",
   "metadata": {},
   "source": [
    "#### After the creation of the table, we upload the data stored in the csv files to the table using the SQL COPY command."
   ]
  },
  {
   "cell_type": "code",
   "execution_count": 24,
   "id": "f69f8a0c-c0ee-4d98-8863-ef46d39c800e",
   "metadata": {},
   "outputs": [
    {
     "name": "stdout",
     "output_type": "stream",
     "text": [
      " * postgresql://student@/week11\n",
      "7950821 rows affected.\n"
     ]
    },
    {
     "data": {
      "text/plain": [
       "[]"
      ]
     },
     "execution_count": 24,
     "metadata": {},
     "output_type": "execute_result"
    }
   ],
   "source": [
    "%%sql\n",
    "COPY DEATHS_USA FROM '/home/ubuntu/notebooks/Deathdata1.csv'\n",
    "CSV HEADER;"
   ]
  },
  {
   "cell_type": "markdown",
   "id": "000e650a-ab3f-4fe7-9056-2855834d232b",
   "metadata": {},
   "source": [
    "#### The SELECT command below with a limit of 20 shows us the table we created with the columns and the first 20 rows of data."
   ]
  },
  {
   "cell_type": "code",
   "execution_count": 25,
   "id": "8888a402-cac7-4d2d-8e1c-ba7947b88be6",
   "metadata": {},
   "outputs": [
    {
     "name": "stdout",
     "output_type": "stream",
     "text": [
      " * postgresql://student@/week11\n",
      "20 rows affected.\n"
     ]
    },
    {
     "data": {
      "text/html": [
       "<table>\n",
       "    <thead>\n",
       "        <tr>\n",
       "            <th>education_2003_revision</th>\n",
       "            <th>month_of_death</th>\n",
       "            <th>sex</th>\n",
       "            <th>detail_age</th>\n",
       "            <th>age_recode_12</th>\n",
       "            <th>place_of_death_and_decedents_status</th>\n",
       "            <th>marital_status</th>\n",
       "            <th>day_of_week_of_death</th>\n",
       "            <th>current_data_year</th>\n",
       "            <th>injury_at_work</th>\n",
       "            <th>manner_of_death</th>\n",
       "            <th>method_of_disposition</th>\n",
       "            <th>autopsy</th>\n",
       "            <th>place_of_injury_for_causes_w00_y34_except_y06_and_y07_</th>\n",
       "            <th>icd_code_10th_revision</th>\n",
       "            <th>358_cause_recode</th>\n",
       "            <th>113_cause_recode</th>\n",
       "            <th>39_cause_recode</th>\n",
       "            <th>race</th>\n",
       "            <th>race_recode_5</th>\n",
       "        </tr>\n",
       "    </thead>\n",
       "    <tbody>\n",
       "        <tr>\n",
       "            <td>None</td>\n",
       "            <td>1</td>\n",
       "            <td>M</td>\n",
       "            <td>90</td>\n",
       "            <td>11</td>\n",
       "            <td>6</td>\n",
       "            <td>M</td>\n",
       "            <td>4</td>\n",
       "            <td>2013</td>\n",
       "            <td>U</td>\n",
       "            <td>7</td>\n",
       "            <td>U</td>\n",
       "            <td>N</td>\n",
       "            <td>None</td>\n",
       "            <td>F03</td>\n",
       "            <td>175</td>\n",
       "            <td>111</td>\n",
       "            <td>37</td>\n",
       "            <td>1</td>\n",
       "            <td>1</td>\n",
       "        </tr>\n",
       "        <tr>\n",
       "            <td>None</td>\n",
       "            <td>1</td>\n",
       "            <td>F</td>\n",
       "            <td>80</td>\n",
       "            <td>10</td>\n",
       "            <td>6</td>\n",
       "            <td>W</td>\n",
       "            <td>3</td>\n",
       "            <td>2013</td>\n",
       "            <td>U</td>\n",
       "            <td>7</td>\n",
       "            <td>U</td>\n",
       "            <td>N</td>\n",
       "            <td>None</td>\n",
       "            <td>F03</td>\n",
       "            <td>175</td>\n",
       "            <td>111</td>\n",
       "            <td>37</td>\n",
       "            <td>1</td>\n",
       "            <td>1</td>\n",
       "        </tr>\n",
       "        <tr>\n",
       "            <td>None</td>\n",
       "            <td>1</td>\n",
       "            <td>M</td>\n",
       "            <td>73</td>\n",
       "            <td>9</td>\n",
       "            <td>6</td>\n",
       "            <td>D</td>\n",
       "            <td>4</td>\n",
       "            <td>2013</td>\n",
       "            <td>U</td>\n",
       "            <td>7</td>\n",
       "            <td>U</td>\n",
       "            <td>N</td>\n",
       "            <td>None</td>\n",
       "            <td>F03</td>\n",
       "            <td>175</td>\n",
       "            <td>111</td>\n",
       "            <td>37</td>\n",
       "            <td>1</td>\n",
       "            <td>1</td>\n",
       "        </tr>\n",
       "        <tr>\n",
       "            <td>None</td>\n",
       "            <td>1</td>\n",
       "            <td>M</td>\n",
       "            <td>78</td>\n",
       "            <td>10</td>\n",
       "            <td>1</td>\n",
       "            <td>M</td>\n",
       "            <td>1</td>\n",
       "            <td>2013</td>\n",
       "            <td>U</td>\n",
       "            <td>7</td>\n",
       "            <td>U</td>\n",
       "            <td>N</td>\n",
       "            <td>None</td>\n",
       "            <td>C798</td>\n",
       "            <td>125</td>\n",
       "            <td>43</td>\n",
       "            <td>15</td>\n",
       "            <td>3</td>\n",
       "            <td>3</td>\n",
       "        </tr>\n",
       "        <tr>\n",
       "            <td>None</td>\n",
       "            <td>1</td>\n",
       "            <td>F</td>\n",
       "            <td>83</td>\n",
       "            <td>10</td>\n",
       "            <td>6</td>\n",
       "            <td>D</td>\n",
       "            <td>4</td>\n",
       "            <td>2013</td>\n",
       "            <td>U</td>\n",
       "            <td>7</td>\n",
       "            <td>U</td>\n",
       "            <td>N</td>\n",
       "            <td>None</td>\n",
       "            <td>C349</td>\n",
       "            <td>93</td>\n",
       "            <td>27</td>\n",
       "            <td>8</td>\n",
       "            <td>1</td>\n",
       "            <td>1</td>\n",
       "        </tr>\n",
       "        <tr>\n",
       "            <td>None</td>\n",
       "            <td>1</td>\n",
       "            <td>F</td>\n",
       "            <td>89</td>\n",
       "            <td>11</td>\n",
       "            <td>1</td>\n",
       "            <td>W</td>\n",
       "            <td>7</td>\n",
       "            <td>2013</td>\n",
       "            <td>U</td>\n",
       "            <td>7</td>\n",
       "            <td>U</td>\n",
       "            <td>N</td>\n",
       "            <td>None</td>\n",
       "            <td>I500</td>\n",
       "            <td>230</td>\n",
       "            <td>67</td>\n",
       "            <td>22</td>\n",
       "            <td>1</td>\n",
       "            <td>1</td>\n",
       "        </tr>\n",
       "        <tr>\n",
       "            <td>None</td>\n",
       "            <td>1</td>\n",
       "            <td>F</td>\n",
       "            <td>69</td>\n",
       "            <td>9</td>\n",
       "            <td>1</td>\n",
       "            <td>D</td>\n",
       "            <td>6</td>\n",
       "            <td>2013</td>\n",
       "            <td>U</td>\n",
       "            <td>7</td>\n",
       "            <td>U</td>\n",
       "            <td>N</td>\n",
       "            <td>None</td>\n",
       "            <td>C349</td>\n",
       "            <td>93</td>\n",
       "            <td>27</td>\n",
       "            <td>8</td>\n",
       "            <td>1</td>\n",
       "            <td>1</td>\n",
       "        </tr>\n",
       "        <tr>\n",
       "            <td>None</td>\n",
       "            <td>1</td>\n",
       "            <td>F</td>\n",
       "            <td>64</td>\n",
       "            <td>8</td>\n",
       "            <td>1</td>\n",
       "            <td>D</td>\n",
       "            <td>4</td>\n",
       "            <td>2013</td>\n",
       "            <td>U</td>\n",
       "            <td>7</td>\n",
       "            <td>U</td>\n",
       "            <td>N</td>\n",
       "            <td>None</td>\n",
       "            <td>A419</td>\n",
       "            <td>23</td>\n",
       "            <td>10</td>\n",
       "            <td>37</td>\n",
       "            <td>1</td>\n",
       "            <td>1</td>\n",
       "        </tr>\n",
       "        <tr>\n",
       "            <td>None</td>\n",
       "            <td>1</td>\n",
       "            <td>F</td>\n",
       "            <td>87</td>\n",
       "            <td>11</td>\n",
       "            <td>6</td>\n",
       "            <td>W</td>\n",
       "            <td>1</td>\n",
       "            <td>2013</td>\n",
       "            <td>U</td>\n",
       "            <td>7</td>\n",
       "            <td>U</td>\n",
       "            <td>N</td>\n",
       "            <td>None</td>\n",
       "            <td>G309</td>\n",
       "            <td>189</td>\n",
       "            <td>52</td>\n",
       "            <td>17</td>\n",
       "            <td>1</td>\n",
       "            <td>1</td>\n",
       "        </tr>\n",
       "        <tr>\n",
       "            <td>None</td>\n",
       "            <td>1</td>\n",
       "            <td>F</td>\n",
       "            <td>24</td>\n",
       "            <td>4</td>\n",
       "            <td>1</td>\n",
       "            <td>S</td>\n",
       "            <td>3</td>\n",
       "            <td>2013</td>\n",
       "            <td>U</td>\n",
       "            <td>7</td>\n",
       "            <td>U</td>\n",
       "            <td>N</td>\n",
       "            <td>None</td>\n",
       "            <td>C717</td>\n",
       "            <td>122</td>\n",
       "            <td>36</td>\n",
       "            <td>15</td>\n",
       "            <td>3</td>\n",
       "            <td>3</td>\n",
       "        </tr>\n",
       "        <tr>\n",
       "            <td>None</td>\n",
       "            <td>1</td>\n",
       "            <td>M</td>\n",
       "            <td>47</td>\n",
       "            <td>7</td>\n",
       "            <td>7</td>\n",
       "            <td>M</td>\n",
       "            <td>4</td>\n",
       "            <td>2013</td>\n",
       "            <td>U</td>\n",
       "            <td>7</td>\n",
       "            <td>U</td>\n",
       "            <td>N</td>\n",
       "            <td>None</td>\n",
       "            <td>I250</td>\n",
       "            <td>214</td>\n",
       "            <td>62</td>\n",
       "            <td>21</td>\n",
       "            <td>3</td>\n",
       "            <td>3</td>\n",
       "        </tr>\n",
       "        <tr>\n",
       "            <td>None</td>\n",
       "            <td>1</td>\n",
       "            <td>M</td>\n",
       "            <td>62</td>\n",
       "            <td>8</td>\n",
       "            <td>1</td>\n",
       "            <td>S</td>\n",
       "            <td>5</td>\n",
       "            <td>2013</td>\n",
       "            <td>U</td>\n",
       "            <td>7</td>\n",
       "            <td>U</td>\n",
       "            <td>N</td>\n",
       "            <td>None</td>\n",
       "            <td>C159</td>\n",
       "            <td>77</td>\n",
       "            <td>21</td>\n",
       "            <td>15</td>\n",
       "            <td>3</td>\n",
       "            <td>3</td>\n",
       "        </tr>\n",
       "        <tr>\n",
       "            <td>None</td>\n",
       "            <td>1</td>\n",
       "            <td>M</td>\n",
       "            <td>75</td>\n",
       "            <td>10</td>\n",
       "            <td>1</td>\n",
       "            <td>S</td>\n",
       "            <td>6</td>\n",
       "            <td>2013</td>\n",
       "            <td>U</td>\n",
       "            <td>7</td>\n",
       "            <td>U</td>\n",
       "            <td>N</td>\n",
       "            <td>None</td>\n",
       "            <td>I429</td>\n",
       "            <td>227</td>\n",
       "            <td>68</td>\n",
       "            <td>22</td>\n",
       "            <td>3</td>\n",
       "            <td>3</td>\n",
       "        </tr>\n",
       "        <tr>\n",
       "            <td>None</td>\n",
       "            <td>1</td>\n",
       "            <td>M</td>\n",
       "            <td>58</td>\n",
       "            <td>8</td>\n",
       "            <td>4</td>\n",
       "            <td>D</td>\n",
       "            <td>7</td>\n",
       "            <td>2013</td>\n",
       "            <td>U</td>\n",
       "            <td>7</td>\n",
       "            <td>U</td>\n",
       "            <td>N</td>\n",
       "            <td>None</td>\n",
       "            <td>C189</td>\n",
       "            <td>81</td>\n",
       "            <td>23</td>\n",
       "            <td>6</td>\n",
       "            <td>1</td>\n",
       "            <td>1</td>\n",
       "        </tr>\n",
       "        <tr>\n",
       "            <td>None</td>\n",
       "            <td>1</td>\n",
       "            <td>F</td>\n",
       "            <td>89</td>\n",
       "            <td>11</td>\n",
       "            <td>4</td>\n",
       "            <td>M</td>\n",
       "            <td>6</td>\n",
       "            <td>2013</td>\n",
       "            <td>U</td>\n",
       "            <td>7</td>\n",
       "            <td>U</td>\n",
       "            <td>N</td>\n",
       "            <td>None</td>\n",
       "            <td>C509</td>\n",
       "            <td>104</td>\n",
       "            <td>29</td>\n",
       "            <td>9</td>\n",
       "            <td>1</td>\n",
       "            <td>1</td>\n",
       "        </tr>\n",
       "        <tr>\n",
       "            <td>None</td>\n",
       "            <td>1</td>\n",
       "            <td>M</td>\n",
       "            <td>85</td>\n",
       "            <td>11</td>\n",
       "            <td>6</td>\n",
       "            <td>W</td>\n",
       "            <td>7</td>\n",
       "            <td>2013</td>\n",
       "            <td>U</td>\n",
       "            <td>7</td>\n",
       "            <td>U</td>\n",
       "            <td>N</td>\n",
       "            <td>None</td>\n",
       "            <td>I809</td>\n",
       "            <td>245</td>\n",
       "            <td>75</td>\n",
       "            <td>37</td>\n",
       "            <td>1</td>\n",
       "            <td>1</td>\n",
       "        </tr>\n",
       "        <tr>\n",
       "            <td>None</td>\n",
       "            <td>1</td>\n",
       "            <td>F</td>\n",
       "            <td>80</td>\n",
       "            <td>10</td>\n",
       "            <td>1</td>\n",
       "            <td>W</td>\n",
       "            <td>5</td>\n",
       "            <td>2013</td>\n",
       "            <td>U</td>\n",
       "            <td>7</td>\n",
       "            <td>U</td>\n",
       "            <td>N</td>\n",
       "            <td>None</td>\n",
       "            <td>J690</td>\n",
       "            <td>273</td>\n",
       "            <td>88</td>\n",
       "            <td>37</td>\n",
       "            <td>1</td>\n",
       "            <td>1</td>\n",
       "        </tr>\n",
       "        <tr>\n",
       "            <td>None</td>\n",
       "            <td>1</td>\n",
       "            <td>M</td>\n",
       "            <td>57</td>\n",
       "            <td>8</td>\n",
       "            <td>1</td>\n",
       "            <td>M</td>\n",
       "            <td>3</td>\n",
       "            <td>2013</td>\n",
       "            <td>U</td>\n",
       "            <td>7</td>\n",
       "            <td>U</td>\n",
       "            <td>N</td>\n",
       "            <td>None</td>\n",
       "            <td>I429</td>\n",
       "            <td>227</td>\n",
       "            <td>68</td>\n",
       "            <td>22</td>\n",
       "            <td>2</td>\n",
       "            <td>2</td>\n",
       "        </tr>\n",
       "        <tr>\n",
       "            <td>None</td>\n",
       "            <td>1</td>\n",
       "            <td>M</td>\n",
       "            <td>68</td>\n",
       "            <td>9</td>\n",
       "            <td>1</td>\n",
       "            <td>M</td>\n",
       "            <td>1</td>\n",
       "            <td>2013</td>\n",
       "            <td>U</td>\n",
       "            <td>7</td>\n",
       "            <td>U</td>\n",
       "            <td>N</td>\n",
       "            <td>None</td>\n",
       "            <td>I619</td>\n",
       "            <td>236</td>\n",
       "            <td>70</td>\n",
       "            <td>24</td>\n",
       "            <td>7</td>\n",
       "            <td>4</td>\n",
       "        </tr>\n",
       "        <tr>\n",
       "            <td>None</td>\n",
       "            <td>1</td>\n",
       "            <td>M</td>\n",
       "            <td>83</td>\n",
       "            <td>10</td>\n",
       "            <td>1</td>\n",
       "            <td>M</td>\n",
       "            <td>2</td>\n",
       "            <td>2013</td>\n",
       "            <td>U</td>\n",
       "            <td>7</td>\n",
       "            <td>U</td>\n",
       "            <td>N</td>\n",
       "            <td>None</td>\n",
       "            <td>F03</td>\n",
       "            <td>175</td>\n",
       "            <td>111</td>\n",
       "            <td>37</td>\n",
       "            <td>1</td>\n",
       "            <td>1</td>\n",
       "        </tr>\n",
       "    </tbody>\n",
       "</table>"
      ],
      "text/plain": [
       "[(None, Decimal('1'), 'M', Decimal('90'), Decimal('11'), Decimal('6'), 'M', Decimal('4'), '2013', 'U', Decimal('7'), 'U', 'N', None, 'F03', Decimal('175'), Decimal('111'), Decimal('37'), Decimal('1'), Decimal('1')),\n",
       " (None, Decimal('1'), 'F', Decimal('80'), Decimal('10'), Decimal('6'), 'W', Decimal('3'), '2013', 'U', Decimal('7'), 'U', 'N', None, 'F03', Decimal('175'), Decimal('111'), Decimal('37'), Decimal('1'), Decimal('1')),\n",
       " (None, Decimal('1'), 'M', Decimal('73'), Decimal('9'), Decimal('6'), 'D', Decimal('4'), '2013', 'U', Decimal('7'), 'U', 'N', None, 'F03', Decimal('175'), Decimal('111'), Decimal('37'), Decimal('1'), Decimal('1')),\n",
       " (None, Decimal('1'), 'M', Decimal('78'), Decimal('10'), Decimal('1'), 'M', Decimal('1'), '2013', 'U', Decimal('7'), 'U', 'N', None, 'C798', Decimal('125'), Decimal('43'), Decimal('15'), Decimal('3'), Decimal('3')),\n",
       " (None, Decimal('1'), 'F', Decimal('83'), Decimal('10'), Decimal('6'), 'D', Decimal('4'), '2013', 'U', Decimal('7'), 'U', 'N', None, 'C349', Decimal('93'), Decimal('27'), Decimal('8'), Decimal('1'), Decimal('1')),\n",
       " (None, Decimal('1'), 'F', Decimal('89'), Decimal('11'), Decimal('1'), 'W', Decimal('7'), '2013', 'U', Decimal('7'), 'U', 'N', None, 'I500', Decimal('230'), Decimal('67'), Decimal('22'), Decimal('1'), Decimal('1')),\n",
       " (None, Decimal('1'), 'F', Decimal('69'), Decimal('9'), Decimal('1'), 'D', Decimal('6'), '2013', 'U', Decimal('7'), 'U', 'N', None, 'C349', Decimal('93'), Decimal('27'), Decimal('8'), Decimal('1'), Decimal('1')),\n",
       " (None, Decimal('1'), 'F', Decimal('64'), Decimal('8'), Decimal('1'), 'D', Decimal('4'), '2013', 'U', Decimal('7'), 'U', 'N', None, 'A419', Decimal('23'), Decimal('10'), Decimal('37'), Decimal('1'), Decimal('1')),\n",
       " (None, Decimal('1'), 'F', Decimal('87'), Decimal('11'), Decimal('6'), 'W', Decimal('1'), '2013', 'U', Decimal('7'), 'U', 'N', None, 'G309', Decimal('189'), Decimal('52'), Decimal('17'), Decimal('1'), Decimal('1')),\n",
       " (None, Decimal('1'), 'F', Decimal('24'), Decimal('4'), Decimal('1'), 'S', Decimal('3'), '2013', 'U', Decimal('7'), 'U', 'N', None, 'C717', Decimal('122'), Decimal('36'), Decimal('15'), Decimal('3'), Decimal('3')),\n",
       " (None, Decimal('1'), 'M', Decimal('47'), Decimal('7'), Decimal('7'), 'M', Decimal('4'), '2013', 'U', Decimal('7'), 'U', 'N', None, 'I250', Decimal('214'), Decimal('62'), Decimal('21'), Decimal('3'), Decimal('3')),\n",
       " (None, Decimal('1'), 'M', Decimal('62'), Decimal('8'), Decimal('1'), 'S', Decimal('5'), '2013', 'U', Decimal('7'), 'U', 'N', None, 'C159', Decimal('77'), Decimal('21'), Decimal('15'), Decimal('3'), Decimal('3')),\n",
       " (None, Decimal('1'), 'M', Decimal('75'), Decimal('10'), Decimal('1'), 'S', Decimal('6'), '2013', 'U', Decimal('7'), 'U', 'N', None, 'I429', Decimal('227'), Decimal('68'), Decimal('22'), Decimal('3'), Decimal('3')),\n",
       " (None, Decimal('1'), 'M', Decimal('58'), Decimal('8'), Decimal('4'), 'D', Decimal('7'), '2013', 'U', Decimal('7'), 'U', 'N', None, 'C189', Decimal('81'), Decimal('23'), Decimal('6'), Decimal('1'), Decimal('1')),\n",
       " (None, Decimal('1'), 'F', Decimal('89'), Decimal('11'), Decimal('4'), 'M', Decimal('6'), '2013', 'U', Decimal('7'), 'U', 'N', None, 'C509', Decimal('104'), Decimal('29'), Decimal('9'), Decimal('1'), Decimal('1')),\n",
       " (None, Decimal('1'), 'M', Decimal('85'), Decimal('11'), Decimal('6'), 'W', Decimal('7'), '2013', 'U', Decimal('7'), 'U', 'N', None, 'I809', Decimal('245'), Decimal('75'), Decimal('37'), Decimal('1'), Decimal('1')),\n",
       " (None, Decimal('1'), 'F', Decimal('80'), Decimal('10'), Decimal('1'), 'W', Decimal('5'), '2013', 'U', Decimal('7'), 'U', 'N', None, 'J690', Decimal('273'), Decimal('88'), Decimal('37'), Decimal('1'), Decimal('1')),\n",
       " (None, Decimal('1'), 'M', Decimal('57'), Decimal('8'), Decimal('1'), 'M', Decimal('3'), '2013', 'U', Decimal('7'), 'U', 'N', None, 'I429', Decimal('227'), Decimal('68'), Decimal('22'), Decimal('2'), Decimal('2')),\n",
       " (None, Decimal('1'), 'M', Decimal('68'), Decimal('9'), Decimal('1'), 'M', Decimal('1'), '2013', 'U', Decimal('7'), 'U', 'N', None, 'I619', Decimal('236'), Decimal('70'), Decimal('24'), Decimal('7'), Decimal('4')),\n",
       " (None, Decimal('1'), 'M', Decimal('83'), Decimal('10'), Decimal('1'), 'M', Decimal('2'), '2013', 'U', Decimal('7'), 'U', 'N', None, 'F03', Decimal('175'), Decimal('111'), Decimal('37'), Decimal('1'), Decimal('1'))]"
      ]
     },
     "execution_count": 25,
     "metadata": {},
     "output_type": "execute_result"
    }
   ],
   "source": [
    "%%sql\n",
    "SELECT * FROM DEATHS_USA\n",
    "LIMIT 20"
   ]
  },
  {
   "cell_type": "markdown",
   "id": "22318a7c-26b2-4c32-8953-3a69db15c1eb",
   "metadata": {},
   "source": [
    "#### NULL VALUES"
   ]
  },
  {
   "cell_type": "markdown",
   "id": "59cad66c-3268-4a75-a25d-9dc8c2e0c8a2",
   "metadata": {},
   "source": [
    "#### We decided to update our table by assigning variables to some of the columns that have null values due to us needing more efficient answers from our analysis. We have used the number 9 in the education_revision_2003 column and the place_of_injury_for_causes_w00_y34_except_yo6_and_y07_ to replace null values in those respective columns. We have also assigned the number 0 to replace null values in the manner_of_death column."
   ]
  },
  {
   "cell_type": "code",
   "execution_count": 26,
   "id": "43c2a52d-d74f-4114-b8fa-ab014d8cbe77",
   "metadata": {},
   "outputs": [
    {
     "name": "stdout",
     "output_type": "stream",
     "text": [
      " * postgresql://student@/week11\n",
      "707942 rows affected.\n"
     ]
    },
    {
     "data": {
      "text/plain": [
       "[]"
      ]
     },
     "execution_count": 26,
     "metadata": {},
     "output_type": "execute_result"
    }
   ],
   "source": [
    "%%sql\n",
    "update DEATHS_USA\n",
    "set education_2003_revision = 9\n",
    "where education_2003_revision is NULL"
   ]
  },
  {
   "cell_type": "code",
   "execution_count": 27,
   "id": "88dfed09-64be-49c6-92bf-7ebd5e7e5f35",
   "metadata": {},
   "outputs": [
    {
     "name": "stdout",
     "output_type": "stream",
     "text": [
      " * postgresql://student@/week11\n",
      "20 rows affected.\n"
     ]
    },
    {
     "data": {
      "text/html": [
       "<table>\n",
       "    <thead>\n",
       "        <tr>\n",
       "            <th>education_2003_revision</th>\n",
       "            <th>month_of_death</th>\n",
       "            <th>sex</th>\n",
       "            <th>detail_age</th>\n",
       "            <th>age_recode_12</th>\n",
       "            <th>place_of_death_and_decedents_status</th>\n",
       "            <th>marital_status</th>\n",
       "            <th>day_of_week_of_death</th>\n",
       "            <th>current_data_year</th>\n",
       "            <th>injury_at_work</th>\n",
       "            <th>manner_of_death</th>\n",
       "            <th>method_of_disposition</th>\n",
       "            <th>autopsy</th>\n",
       "            <th>place_of_injury_for_causes_w00_y34_except_y06_and_y07_</th>\n",
       "            <th>icd_code_10th_revision</th>\n",
       "            <th>358_cause_recode</th>\n",
       "            <th>113_cause_recode</th>\n",
       "            <th>39_cause_recode</th>\n",
       "            <th>race</th>\n",
       "            <th>race_recode_5</th>\n",
       "        </tr>\n",
       "    </thead>\n",
       "    <tbody>\n",
       "        <tr>\n",
       "            <td>2</td>\n",
       "            <td>1</td>\n",
       "            <td>F</td>\n",
       "            <td>77</td>\n",
       "            <td>10</td>\n",
       "            <td>4</td>\n",
       "            <td>W</td>\n",
       "            <td>4</td>\n",
       "            <td>2013</td>\n",
       "            <td>U</td>\n",
       "            <td>7</td>\n",
       "            <td>B</td>\n",
       "            <td>N</td>\n",
       "            <td>None</td>\n",
       "            <td>C349</td>\n",
       "            <td>93</td>\n",
       "            <td>27</td>\n",
       "            <td>8</td>\n",
       "            <td>1</td>\n",
       "            <td>1</td>\n",
       "        </tr>\n",
       "        <tr>\n",
       "            <td>2</td>\n",
       "            <td>1</td>\n",
       "            <td>F</td>\n",
       "            <td>86</td>\n",
       "            <td>11</td>\n",
       "            <td>1</td>\n",
       "            <td>W</td>\n",
       "            <td>4</td>\n",
       "            <td>2013</td>\n",
       "            <td>U</td>\n",
       "            <td>7</td>\n",
       "            <td>B</td>\n",
       "            <td>N</td>\n",
       "            <td>None</td>\n",
       "            <td>J690</td>\n",
       "            <td>273</td>\n",
       "            <td>88</td>\n",
       "            <td>37</td>\n",
       "            <td>2</td>\n",
       "            <td>2</td>\n",
       "        </tr>\n",
       "        <tr>\n",
       "            <td>4</td>\n",
       "            <td>1</td>\n",
       "            <td>M</td>\n",
       "            <td>90</td>\n",
       "            <td>11</td>\n",
       "            <td>4</td>\n",
       "            <td>W</td>\n",
       "            <td>5</td>\n",
       "            <td>2013</td>\n",
       "            <td>U</td>\n",
       "            <td>7</td>\n",
       "            <td>C</td>\n",
       "            <td>N</td>\n",
       "            <td>None</td>\n",
       "            <td>I64</td>\n",
       "            <td>238</td>\n",
       "            <td>70</td>\n",
       "            <td>24</td>\n",
       "            <td>1</td>\n",
       "            <td>1</td>\n",
       "        </tr>\n",
       "        <tr>\n",
       "            <td>1</td>\n",
       "            <td>1</td>\n",
       "            <td>F</td>\n",
       "            <td>88</td>\n",
       "            <td>11</td>\n",
       "            <td>1</td>\n",
       "            <td>W</td>\n",
       "            <td>6</td>\n",
       "            <td>2013</td>\n",
       "            <td>U</td>\n",
       "            <td>7</td>\n",
       "            <td>B</td>\n",
       "            <td>N</td>\n",
       "            <td>None</td>\n",
       "            <td>J440</td>\n",
       "            <td>267</td>\n",
       "            <td>86</td>\n",
       "            <td>28</td>\n",
       "            <td>1</td>\n",
       "            <td>1</td>\n",
       "        </tr>\n",
       "        <tr>\n",
       "            <td>1</td>\n",
       "            <td>1</td>\n",
       "            <td>F</td>\n",
       "            <td>96</td>\n",
       "            <td>11</td>\n",
       "            <td>6</td>\n",
       "            <td>W</td>\n",
       "            <td>4</td>\n",
       "            <td>2013</td>\n",
       "            <td>U</td>\n",
       "            <td>7</td>\n",
       "            <td>B</td>\n",
       "            <td>N</td>\n",
       "            <td>None</td>\n",
       "            <td>I719</td>\n",
       "            <td>242</td>\n",
       "            <td>73</td>\n",
       "            <td>26</td>\n",
       "            <td>1</td>\n",
       "            <td>1</td>\n",
       "        </tr>\n",
       "        <tr>\n",
       "            <td>3</td>\n",
       "            <td>1</td>\n",
       "            <td>F</td>\n",
       "            <td>88</td>\n",
       "            <td>11</td>\n",
       "            <td>2</td>\n",
       "            <td>W</td>\n",
       "            <td>5</td>\n",
       "            <td>2013</td>\n",
       "            <td>U</td>\n",
       "            <td>7</td>\n",
       "            <td>C</td>\n",
       "            <td>N</td>\n",
       "            <td>None</td>\n",
       "            <td>I694</td>\n",
       "            <td>239</td>\n",
       "            <td>70</td>\n",
       "            <td>24</td>\n",
       "            <td>1</td>\n",
       "            <td>1</td>\n",
       "        </tr>\n",
       "        <tr>\n",
       "            <td>3</td>\n",
       "            <td>1</td>\n",
       "            <td>F</td>\n",
       "            <td>89</td>\n",
       "            <td>11</td>\n",
       "            <td>6</td>\n",
       "            <td>W</td>\n",
       "            <td>6</td>\n",
       "            <td>2013</td>\n",
       "            <td>U</td>\n",
       "            <td>7</td>\n",
       "            <td>B</td>\n",
       "            <td>U</td>\n",
       "            <td>None</td>\n",
       "            <td>G309</td>\n",
       "            <td>189</td>\n",
       "            <td>52</td>\n",
       "            <td>17</td>\n",
       "            <td>1</td>\n",
       "            <td>1</td>\n",
       "        </tr>\n",
       "        <tr>\n",
       "            <td>3</td>\n",
       "            <td>1</td>\n",
       "            <td>M</td>\n",
       "            <td>77</td>\n",
       "            <td>10</td>\n",
       "            <td>4</td>\n",
       "            <td>M</td>\n",
       "            <td>3</td>\n",
       "            <td>2013</td>\n",
       "            <td>U</td>\n",
       "            <td>7</td>\n",
       "            <td>B</td>\n",
       "            <td>N</td>\n",
       "            <td>None</td>\n",
       "            <td>C189</td>\n",
       "            <td>81</td>\n",
       "            <td>23</td>\n",
       "            <td>6</td>\n",
       "            <td>1</td>\n",
       "            <td>1</td>\n",
       "        </tr>\n",
       "        <tr>\n",
       "            <td>3</td>\n",
       "            <td>1</td>\n",
       "            <td>F</td>\n",
       "            <td>64</td>\n",
       "            <td>8</td>\n",
       "            <td>6</td>\n",
       "            <td>M</td>\n",
       "            <td>3</td>\n",
       "            <td>2013</td>\n",
       "            <td>U</td>\n",
       "            <td>7</td>\n",
       "            <td>B</td>\n",
       "            <td>N</td>\n",
       "            <td>None</td>\n",
       "            <td>G309</td>\n",
       "            <td>189</td>\n",
       "            <td>52</td>\n",
       "            <td>17</td>\n",
       "            <td>1</td>\n",
       "            <td>1</td>\n",
       "        </tr>\n",
       "        <tr>\n",
       "            <td>4</td>\n",
       "            <td>1</td>\n",
       "            <td>M</td>\n",
       "            <td>61</td>\n",
       "            <td>8</td>\n",
       "            <td>4</td>\n",
       "            <td>D</td>\n",
       "            <td>5</td>\n",
       "            <td>2013</td>\n",
       "            <td>U</td>\n",
       "            <td>7</td>\n",
       "            <td>C</td>\n",
       "            <td>N</td>\n",
       "            <td>None</td>\n",
       "            <td>C189</td>\n",
       "            <td>81</td>\n",
       "            <td>23</td>\n",
       "            <td>6</td>\n",
       "            <td>1</td>\n",
       "            <td>1</td>\n",
       "        </tr>\n",
       "        <tr>\n",
       "            <td>3</td>\n",
       "            <td>1</td>\n",
       "            <td>F</td>\n",
       "            <td>61</td>\n",
       "            <td>8</td>\n",
       "            <td>5</td>\n",
       "            <td>S</td>\n",
       "            <td>6</td>\n",
       "            <td>2013</td>\n",
       "            <td>U</td>\n",
       "            <td>7</td>\n",
       "            <td>C</td>\n",
       "            <td>N</td>\n",
       "            <td>None</td>\n",
       "            <td>C509</td>\n",
       "            <td>104</td>\n",
       "            <td>29</td>\n",
       "            <td>9</td>\n",
       "            <td>1</td>\n",
       "            <td>1</td>\n",
       "        </tr>\n",
       "        <tr>\n",
       "            <td>1</td>\n",
       "            <td>1</td>\n",
       "            <td>F</td>\n",
       "            <td>86</td>\n",
       "            <td>11</td>\n",
       "            <td>6</td>\n",
       "            <td>W</td>\n",
       "            <td>5</td>\n",
       "            <td>2013</td>\n",
       "            <td>U</td>\n",
       "            <td>7</td>\n",
       "            <td>B</td>\n",
       "            <td>N</td>\n",
       "            <td>None</td>\n",
       "            <td>F03</td>\n",
       "            <td>175</td>\n",
       "            <td>111</td>\n",
       "            <td>37</td>\n",
       "            <td>1</td>\n",
       "            <td>1</td>\n",
       "        </tr>\n",
       "        <tr>\n",
       "            <td>3</td>\n",
       "            <td>1</td>\n",
       "            <td>M</td>\n",
       "            <td>39</td>\n",
       "            <td>6</td>\n",
       "            <td>4</td>\n",
       "            <td>M</td>\n",
       "            <td>4</td>\n",
       "            <td>2013</td>\n",
       "            <td>U</td>\n",
       "            <td>7</td>\n",
       "            <td>B</td>\n",
       "            <td>N</td>\n",
       "            <td>None</td>\n",
       "            <td>I219</td>\n",
       "            <td>211</td>\n",
       "            <td>59</td>\n",
       "            <td>21</td>\n",
       "            <td>1</td>\n",
       "            <td>1</td>\n",
       "        </tr>\n",
       "        <tr>\n",
       "            <td>4</td>\n",
       "            <td>1</td>\n",
       "            <td>M</td>\n",
       "            <td>61</td>\n",
       "            <td>8</td>\n",
       "            <td>4</td>\n",
       "            <td>M</td>\n",
       "            <td>3</td>\n",
       "            <td>2013</td>\n",
       "            <td>U</td>\n",
       "            <td>7</td>\n",
       "            <td>C</td>\n",
       "            <td>N</td>\n",
       "            <td>None</td>\n",
       "            <td>I219</td>\n",
       "            <td>211</td>\n",
       "            <td>59</td>\n",
       "            <td>21</td>\n",
       "            <td>1</td>\n",
       "            <td>1</td>\n",
       "        </tr>\n",
       "        <tr>\n",
       "            <td>1</td>\n",
       "            <td>1</td>\n",
       "            <td>M</td>\n",
       "            <td>88</td>\n",
       "            <td>11</td>\n",
       "            <td>4</td>\n",
       "            <td>W</td>\n",
       "            <td>4</td>\n",
       "            <td>2013</td>\n",
       "            <td>U</td>\n",
       "            <td>7</td>\n",
       "            <td>B</td>\n",
       "            <td>N</td>\n",
       "            <td>None</td>\n",
       "            <td>I119</td>\n",
       "            <td>207</td>\n",
       "            <td>56</td>\n",
       "            <td>20</td>\n",
       "            <td>1</td>\n",
       "            <td>1</td>\n",
       "        </tr>\n",
       "        <tr>\n",
       "            <td>3</td>\n",
       "            <td>1</td>\n",
       "            <td>F</td>\n",
       "            <td>91</td>\n",
       "            <td>11</td>\n",
       "            <td>1</td>\n",
       "            <td>D</td>\n",
       "            <td>5</td>\n",
       "            <td>2013</td>\n",
       "            <td>U</td>\n",
       "            <td>7</td>\n",
       "            <td>C</td>\n",
       "            <td>N</td>\n",
       "            <td>None</td>\n",
       "            <td>K559</td>\n",
       "            <td>293</td>\n",
       "            <td>111</td>\n",
       "            <td>37</td>\n",
       "            <td>1</td>\n",
       "            <td>1</td>\n",
       "        </tr>\n",
       "        <tr>\n",
       "            <td>3</td>\n",
       "            <td>1</td>\n",
       "            <td>M</td>\n",
       "            <td>85</td>\n",
       "            <td>11</td>\n",
       "            <td>5</td>\n",
       "            <td>M</td>\n",
       "            <td>3</td>\n",
       "            <td>2013</td>\n",
       "            <td>U</td>\n",
       "            <td>7</td>\n",
       "            <td>B</td>\n",
       "            <td>N</td>\n",
       "            <td>None</td>\n",
       "            <td>I679</td>\n",
       "            <td>239</td>\n",
       "            <td>70</td>\n",
       "            <td>24</td>\n",
       "            <td>1</td>\n",
       "            <td>1</td>\n",
       "        </tr>\n",
       "        <tr>\n",
       "            <td>1</td>\n",
       "            <td>1</td>\n",
       "            <td>M</td>\n",
       "            <td>88</td>\n",
       "            <td>11</td>\n",
       "            <td>5</td>\n",
       "            <td>M</td>\n",
       "            <td>3</td>\n",
       "            <td>2013</td>\n",
       "            <td>U</td>\n",
       "            <td>7</td>\n",
       "            <td>B</td>\n",
       "            <td>N</td>\n",
       "            <td>None</td>\n",
       "            <td>F03</td>\n",
       "            <td>175</td>\n",
       "            <td>111</td>\n",
       "            <td>37</td>\n",
       "            <td>1</td>\n",
       "            <td>1</td>\n",
       "        </tr>\n",
       "        <tr>\n",
       "            <td>5</td>\n",
       "            <td>1</td>\n",
       "            <td>M</td>\n",
       "            <td>72</td>\n",
       "            <td>9</td>\n",
       "            <td>4</td>\n",
       "            <td>M</td>\n",
       "            <td>3</td>\n",
       "            <td>2013</td>\n",
       "            <td>U</td>\n",
       "            <td>7</td>\n",
       "            <td>B</td>\n",
       "            <td>N</td>\n",
       "            <td>None</td>\n",
       "            <td>I219</td>\n",
       "            <td>211</td>\n",
       "            <td>59</td>\n",
       "            <td>21</td>\n",
       "            <td>1</td>\n",
       "            <td>1</td>\n",
       "        </tr>\n",
       "        <tr>\n",
       "            <td>3</td>\n",
       "            <td>1</td>\n",
       "            <td>F</td>\n",
       "            <td>66</td>\n",
       "            <td>9</td>\n",
       "            <td>2</td>\n",
       "            <td>M</td>\n",
       "            <td>3</td>\n",
       "            <td>2013</td>\n",
       "            <td>U</td>\n",
       "            <td>7</td>\n",
       "            <td>B</td>\n",
       "            <td>N</td>\n",
       "            <td>None</td>\n",
       "            <td>J449</td>\n",
       "            <td>267</td>\n",
       "            <td>86</td>\n",
       "            <td>28</td>\n",
       "            <td>1</td>\n",
       "            <td>1</td>\n",
       "        </tr>\n",
       "    </tbody>\n",
       "</table>"
      ],
      "text/plain": [
       "[(Decimal('2'), Decimal('1'), 'F', Decimal('77'), Decimal('10'), Decimal('4'), 'W', Decimal('4'), '2013', 'U', Decimal('7'), 'B', 'N', None, 'C349', Decimal('93'), Decimal('27'), Decimal('8'), Decimal('1'), Decimal('1')),\n",
       " (Decimal('2'), Decimal('1'), 'F', Decimal('86'), Decimal('11'), Decimal('1'), 'W', Decimal('4'), '2013', 'U', Decimal('7'), 'B', 'N', None, 'J690', Decimal('273'), Decimal('88'), Decimal('37'), Decimal('2'), Decimal('2')),\n",
       " (Decimal('4'), Decimal('1'), 'M', Decimal('90'), Decimal('11'), Decimal('4'), 'W', Decimal('5'), '2013', 'U', Decimal('7'), 'C', 'N', None, 'I64', Decimal('238'), Decimal('70'), Decimal('24'), Decimal('1'), Decimal('1')),\n",
       " (Decimal('1'), Decimal('1'), 'F', Decimal('88'), Decimal('11'), Decimal('1'), 'W', Decimal('6'), '2013', 'U', Decimal('7'), 'B', 'N', None, 'J440', Decimal('267'), Decimal('86'), Decimal('28'), Decimal('1'), Decimal('1')),\n",
       " (Decimal('1'), Decimal('1'), 'F', Decimal('96'), Decimal('11'), Decimal('6'), 'W', Decimal('4'), '2013', 'U', Decimal('7'), 'B', 'N', None, 'I719', Decimal('242'), Decimal('73'), Decimal('26'), Decimal('1'), Decimal('1')),\n",
       " (Decimal('3'), Decimal('1'), 'F', Decimal('88'), Decimal('11'), Decimal('2'), 'W', Decimal('5'), '2013', 'U', Decimal('7'), 'C', 'N', None, 'I694', Decimal('239'), Decimal('70'), Decimal('24'), Decimal('1'), Decimal('1')),\n",
       " (Decimal('3'), Decimal('1'), 'F', Decimal('89'), Decimal('11'), Decimal('6'), 'W', Decimal('6'), '2013', 'U', Decimal('7'), 'B', 'U', None, 'G309', Decimal('189'), Decimal('52'), Decimal('17'), Decimal('1'), Decimal('1')),\n",
       " (Decimal('3'), Decimal('1'), 'M', Decimal('77'), Decimal('10'), Decimal('4'), 'M', Decimal('3'), '2013', 'U', Decimal('7'), 'B', 'N', None, 'C189', Decimal('81'), Decimal('23'), Decimal('6'), Decimal('1'), Decimal('1')),\n",
       " (Decimal('3'), Decimal('1'), 'F', Decimal('64'), Decimal('8'), Decimal('6'), 'M', Decimal('3'), '2013', 'U', Decimal('7'), 'B', 'N', None, 'G309', Decimal('189'), Decimal('52'), Decimal('17'), Decimal('1'), Decimal('1')),\n",
       " (Decimal('4'), Decimal('1'), 'M', Decimal('61'), Decimal('8'), Decimal('4'), 'D', Decimal('5'), '2013', 'U', Decimal('7'), 'C', 'N', None, 'C189', Decimal('81'), Decimal('23'), Decimal('6'), Decimal('1'), Decimal('1')),\n",
       " (Decimal('3'), Decimal('1'), 'F', Decimal('61'), Decimal('8'), Decimal('5'), 'S', Decimal('6'), '2013', 'U', Decimal('7'), 'C', 'N', None, 'C509', Decimal('104'), Decimal('29'), Decimal('9'), Decimal('1'), Decimal('1')),\n",
       " (Decimal('1'), Decimal('1'), 'F', Decimal('86'), Decimal('11'), Decimal('6'), 'W', Decimal('5'), '2013', 'U', Decimal('7'), 'B', 'N', None, 'F03', Decimal('175'), Decimal('111'), Decimal('37'), Decimal('1'), Decimal('1')),\n",
       " (Decimal('3'), Decimal('1'), 'M', Decimal('39'), Decimal('6'), Decimal('4'), 'M', Decimal('4'), '2013', 'U', Decimal('7'), 'B', 'N', None, 'I219', Decimal('211'), Decimal('59'), Decimal('21'), Decimal('1'), Decimal('1')),\n",
       " (Decimal('4'), Decimal('1'), 'M', Decimal('61'), Decimal('8'), Decimal('4'), 'M', Decimal('3'), '2013', 'U', Decimal('7'), 'C', 'N', None, 'I219', Decimal('211'), Decimal('59'), Decimal('21'), Decimal('1'), Decimal('1')),\n",
       " (Decimal('1'), Decimal('1'), 'M', Decimal('88'), Decimal('11'), Decimal('4'), 'W', Decimal('4'), '2013', 'U', Decimal('7'), 'B', 'N', None, 'I119', Decimal('207'), Decimal('56'), Decimal('20'), Decimal('1'), Decimal('1')),\n",
       " (Decimal('3'), Decimal('1'), 'F', Decimal('91'), Decimal('11'), Decimal('1'), 'D', Decimal('5'), '2013', 'U', Decimal('7'), 'C', 'N', None, 'K559', Decimal('293'), Decimal('111'), Decimal('37'), Decimal('1'), Decimal('1')),\n",
       " (Decimal('3'), Decimal('1'), 'M', Decimal('85'), Decimal('11'), Decimal('5'), 'M', Decimal('3'), '2013', 'U', Decimal('7'), 'B', 'N', None, 'I679', Decimal('239'), Decimal('70'), Decimal('24'), Decimal('1'), Decimal('1')),\n",
       " (Decimal('1'), Decimal('1'), 'M', Decimal('88'), Decimal('11'), Decimal('5'), 'M', Decimal('3'), '2013', 'U', Decimal('7'), 'B', 'N', None, 'F03', Decimal('175'), Decimal('111'), Decimal('37'), Decimal('1'), Decimal('1')),\n",
       " (Decimal('5'), Decimal('1'), 'M', Decimal('72'), Decimal('9'), Decimal('4'), 'M', Decimal('3'), '2013', 'U', Decimal('7'), 'B', 'N', None, 'I219', Decimal('211'), Decimal('59'), Decimal('21'), Decimal('1'), Decimal('1')),\n",
       " (Decimal('3'), Decimal('1'), 'F', Decimal('66'), Decimal('9'), Decimal('2'), 'M', Decimal('3'), '2013', 'U', Decimal('7'), 'B', 'N', None, 'J449', Decimal('267'), Decimal('86'), Decimal('28'), Decimal('1'), Decimal('1'))]"
      ]
     },
     "execution_count": 27,
     "metadata": {},
     "output_type": "execute_result"
    }
   ],
   "source": [
    "%%sql\n",
    "SELECT * FROM DEATHS_USA\n",
    "LIMIT 20"
   ]
  },
  {
   "cell_type": "code",
   "execution_count": 28,
   "id": "393ed46f-03e0-411a-8f23-417d7304f52f",
   "metadata": {},
   "outputs": [
    {
     "name": "stdout",
     "output_type": "stream",
     "text": [
      " * postgresql://student@/week11\n",
      "1182511 rows affected.\n"
     ]
    },
    {
     "data": {
      "text/plain": [
       "[]"
      ]
     },
     "execution_count": 28,
     "metadata": {},
     "output_type": "execute_result"
    }
   ],
   "source": [
    "%%sql update DEATHS_USA\n",
    "set manner_of_death = 0\n",
    "where manner_of_death is NULL"
   ]
  },
  {
   "cell_type": "code",
   "execution_count": 29,
   "id": "0c3d3c7b-61b8-4625-9d3c-d10f9ac4e20f",
   "metadata": {},
   "outputs": [
    {
     "name": "stdout",
     "output_type": "stream",
     "text": [
      " * postgresql://student@/week11\n",
      "10 rows affected.\n"
     ]
    },
    {
     "data": {
      "text/html": [
       "<table>\n",
       "    <thead>\n",
       "        <tr>\n",
       "            <th>education_2003_revision</th>\n",
       "            <th>month_of_death</th>\n",
       "            <th>sex</th>\n",
       "            <th>detail_age</th>\n",
       "            <th>age_recode_12</th>\n",
       "            <th>place_of_death_and_decedents_status</th>\n",
       "            <th>marital_status</th>\n",
       "            <th>day_of_week_of_death</th>\n",
       "            <th>current_data_year</th>\n",
       "            <th>injury_at_work</th>\n",
       "            <th>manner_of_death</th>\n",
       "            <th>method_of_disposition</th>\n",
       "            <th>autopsy</th>\n",
       "            <th>place_of_injury_for_causes_w00_y34_except_y06_and_y07_</th>\n",
       "            <th>icd_code_10th_revision</th>\n",
       "            <th>358_cause_recode</th>\n",
       "            <th>113_cause_recode</th>\n",
       "            <th>39_cause_recode</th>\n",
       "            <th>race</th>\n",
       "            <th>race_recode_5</th>\n",
       "        </tr>\n",
       "    </thead>\n",
       "    <tbody>\n",
       "        <tr>\n",
       "            <td>2</td>\n",
       "            <td>1</td>\n",
       "            <td>F</td>\n",
       "            <td>77</td>\n",
       "            <td>10</td>\n",
       "            <td>4</td>\n",
       "            <td>W</td>\n",
       "            <td>4</td>\n",
       "            <td>2013</td>\n",
       "            <td>U</td>\n",
       "            <td>7</td>\n",
       "            <td>B</td>\n",
       "            <td>N</td>\n",
       "            <td>None</td>\n",
       "            <td>C349</td>\n",
       "            <td>93</td>\n",
       "            <td>27</td>\n",
       "            <td>8</td>\n",
       "            <td>1</td>\n",
       "            <td>1</td>\n",
       "        </tr>\n",
       "        <tr>\n",
       "            <td>2</td>\n",
       "            <td>1</td>\n",
       "            <td>F</td>\n",
       "            <td>86</td>\n",
       "            <td>11</td>\n",
       "            <td>1</td>\n",
       "            <td>W</td>\n",
       "            <td>4</td>\n",
       "            <td>2013</td>\n",
       "            <td>U</td>\n",
       "            <td>7</td>\n",
       "            <td>B</td>\n",
       "            <td>N</td>\n",
       "            <td>None</td>\n",
       "            <td>J690</td>\n",
       "            <td>273</td>\n",
       "            <td>88</td>\n",
       "            <td>37</td>\n",
       "            <td>2</td>\n",
       "            <td>2</td>\n",
       "        </tr>\n",
       "        <tr>\n",
       "            <td>4</td>\n",
       "            <td>1</td>\n",
       "            <td>M</td>\n",
       "            <td>90</td>\n",
       "            <td>11</td>\n",
       "            <td>4</td>\n",
       "            <td>W</td>\n",
       "            <td>5</td>\n",
       "            <td>2013</td>\n",
       "            <td>U</td>\n",
       "            <td>7</td>\n",
       "            <td>C</td>\n",
       "            <td>N</td>\n",
       "            <td>None</td>\n",
       "            <td>I64</td>\n",
       "            <td>238</td>\n",
       "            <td>70</td>\n",
       "            <td>24</td>\n",
       "            <td>1</td>\n",
       "            <td>1</td>\n",
       "        </tr>\n",
       "        <tr>\n",
       "            <td>1</td>\n",
       "            <td>1</td>\n",
       "            <td>F</td>\n",
       "            <td>88</td>\n",
       "            <td>11</td>\n",
       "            <td>1</td>\n",
       "            <td>W</td>\n",
       "            <td>6</td>\n",
       "            <td>2013</td>\n",
       "            <td>U</td>\n",
       "            <td>7</td>\n",
       "            <td>B</td>\n",
       "            <td>N</td>\n",
       "            <td>None</td>\n",
       "            <td>J440</td>\n",
       "            <td>267</td>\n",
       "            <td>86</td>\n",
       "            <td>28</td>\n",
       "            <td>1</td>\n",
       "            <td>1</td>\n",
       "        </tr>\n",
       "        <tr>\n",
       "            <td>1</td>\n",
       "            <td>1</td>\n",
       "            <td>F</td>\n",
       "            <td>96</td>\n",
       "            <td>11</td>\n",
       "            <td>6</td>\n",
       "            <td>W</td>\n",
       "            <td>4</td>\n",
       "            <td>2013</td>\n",
       "            <td>U</td>\n",
       "            <td>7</td>\n",
       "            <td>B</td>\n",
       "            <td>N</td>\n",
       "            <td>None</td>\n",
       "            <td>I719</td>\n",
       "            <td>242</td>\n",
       "            <td>73</td>\n",
       "            <td>26</td>\n",
       "            <td>1</td>\n",
       "            <td>1</td>\n",
       "        </tr>\n",
       "        <tr>\n",
       "            <td>3</td>\n",
       "            <td>1</td>\n",
       "            <td>F</td>\n",
       "            <td>88</td>\n",
       "            <td>11</td>\n",
       "            <td>2</td>\n",
       "            <td>W</td>\n",
       "            <td>5</td>\n",
       "            <td>2013</td>\n",
       "            <td>U</td>\n",
       "            <td>7</td>\n",
       "            <td>C</td>\n",
       "            <td>N</td>\n",
       "            <td>None</td>\n",
       "            <td>I694</td>\n",
       "            <td>239</td>\n",
       "            <td>70</td>\n",
       "            <td>24</td>\n",
       "            <td>1</td>\n",
       "            <td>1</td>\n",
       "        </tr>\n",
       "        <tr>\n",
       "            <td>3</td>\n",
       "            <td>1</td>\n",
       "            <td>F</td>\n",
       "            <td>89</td>\n",
       "            <td>11</td>\n",
       "            <td>6</td>\n",
       "            <td>W</td>\n",
       "            <td>6</td>\n",
       "            <td>2013</td>\n",
       "            <td>U</td>\n",
       "            <td>7</td>\n",
       "            <td>B</td>\n",
       "            <td>U</td>\n",
       "            <td>None</td>\n",
       "            <td>G309</td>\n",
       "            <td>189</td>\n",
       "            <td>52</td>\n",
       "            <td>17</td>\n",
       "            <td>1</td>\n",
       "            <td>1</td>\n",
       "        </tr>\n",
       "        <tr>\n",
       "            <td>3</td>\n",
       "            <td>1</td>\n",
       "            <td>M</td>\n",
       "            <td>77</td>\n",
       "            <td>10</td>\n",
       "            <td>4</td>\n",
       "            <td>M</td>\n",
       "            <td>3</td>\n",
       "            <td>2013</td>\n",
       "            <td>U</td>\n",
       "            <td>7</td>\n",
       "            <td>B</td>\n",
       "            <td>N</td>\n",
       "            <td>None</td>\n",
       "            <td>C189</td>\n",
       "            <td>81</td>\n",
       "            <td>23</td>\n",
       "            <td>6</td>\n",
       "            <td>1</td>\n",
       "            <td>1</td>\n",
       "        </tr>\n",
       "        <tr>\n",
       "            <td>3</td>\n",
       "            <td>1</td>\n",
       "            <td>F</td>\n",
       "            <td>64</td>\n",
       "            <td>8</td>\n",
       "            <td>6</td>\n",
       "            <td>M</td>\n",
       "            <td>3</td>\n",
       "            <td>2013</td>\n",
       "            <td>U</td>\n",
       "            <td>7</td>\n",
       "            <td>B</td>\n",
       "            <td>N</td>\n",
       "            <td>None</td>\n",
       "            <td>G309</td>\n",
       "            <td>189</td>\n",
       "            <td>52</td>\n",
       "            <td>17</td>\n",
       "            <td>1</td>\n",
       "            <td>1</td>\n",
       "        </tr>\n",
       "        <tr>\n",
       "            <td>4</td>\n",
       "            <td>1</td>\n",
       "            <td>M</td>\n",
       "            <td>61</td>\n",
       "            <td>8</td>\n",
       "            <td>4</td>\n",
       "            <td>D</td>\n",
       "            <td>5</td>\n",
       "            <td>2013</td>\n",
       "            <td>U</td>\n",
       "            <td>7</td>\n",
       "            <td>C</td>\n",
       "            <td>N</td>\n",
       "            <td>None</td>\n",
       "            <td>C189</td>\n",
       "            <td>81</td>\n",
       "            <td>23</td>\n",
       "            <td>6</td>\n",
       "            <td>1</td>\n",
       "            <td>1</td>\n",
       "        </tr>\n",
       "    </tbody>\n",
       "</table>"
      ],
      "text/plain": [
       "[(Decimal('2'), Decimal('1'), 'F', Decimal('77'), Decimal('10'), Decimal('4'), 'W', Decimal('4'), '2013', 'U', Decimal('7'), 'B', 'N', None, 'C349', Decimal('93'), Decimal('27'), Decimal('8'), Decimal('1'), Decimal('1')),\n",
       " (Decimal('2'), Decimal('1'), 'F', Decimal('86'), Decimal('11'), Decimal('1'), 'W', Decimal('4'), '2013', 'U', Decimal('7'), 'B', 'N', None, 'J690', Decimal('273'), Decimal('88'), Decimal('37'), Decimal('2'), Decimal('2')),\n",
       " (Decimal('4'), Decimal('1'), 'M', Decimal('90'), Decimal('11'), Decimal('4'), 'W', Decimal('5'), '2013', 'U', Decimal('7'), 'C', 'N', None, 'I64', Decimal('238'), Decimal('70'), Decimal('24'), Decimal('1'), Decimal('1')),\n",
       " (Decimal('1'), Decimal('1'), 'F', Decimal('88'), Decimal('11'), Decimal('1'), 'W', Decimal('6'), '2013', 'U', Decimal('7'), 'B', 'N', None, 'J440', Decimal('267'), Decimal('86'), Decimal('28'), Decimal('1'), Decimal('1')),\n",
       " (Decimal('1'), Decimal('1'), 'F', Decimal('96'), Decimal('11'), Decimal('6'), 'W', Decimal('4'), '2013', 'U', Decimal('7'), 'B', 'N', None, 'I719', Decimal('242'), Decimal('73'), Decimal('26'), Decimal('1'), Decimal('1')),\n",
       " (Decimal('3'), Decimal('1'), 'F', Decimal('88'), Decimal('11'), Decimal('2'), 'W', Decimal('5'), '2013', 'U', Decimal('7'), 'C', 'N', None, 'I694', Decimal('239'), Decimal('70'), Decimal('24'), Decimal('1'), Decimal('1')),\n",
       " (Decimal('3'), Decimal('1'), 'F', Decimal('89'), Decimal('11'), Decimal('6'), 'W', Decimal('6'), '2013', 'U', Decimal('7'), 'B', 'U', None, 'G309', Decimal('189'), Decimal('52'), Decimal('17'), Decimal('1'), Decimal('1')),\n",
       " (Decimal('3'), Decimal('1'), 'M', Decimal('77'), Decimal('10'), Decimal('4'), 'M', Decimal('3'), '2013', 'U', Decimal('7'), 'B', 'N', None, 'C189', Decimal('81'), Decimal('23'), Decimal('6'), Decimal('1'), Decimal('1')),\n",
       " (Decimal('3'), Decimal('1'), 'F', Decimal('64'), Decimal('8'), Decimal('6'), 'M', Decimal('3'), '2013', 'U', Decimal('7'), 'B', 'N', None, 'G309', Decimal('189'), Decimal('52'), Decimal('17'), Decimal('1'), Decimal('1')),\n",
       " (Decimal('4'), Decimal('1'), 'M', Decimal('61'), Decimal('8'), Decimal('4'), 'D', Decimal('5'), '2013', 'U', Decimal('7'), 'C', 'N', None, 'C189', Decimal('81'), Decimal('23'), Decimal('6'), Decimal('1'), Decimal('1'))]"
      ]
     },
     "execution_count": 29,
     "metadata": {},
     "output_type": "execute_result"
    }
   ],
   "source": [
    "%%sql\n",
    "SELECT * FROM DEATHS_USA\n",
    "LIMIT 10"
   ]
  },
  {
   "cell_type": "code",
   "execution_count": 30,
   "id": "c510de0e-7e15-47c4-b311-caa48f1e3ac6",
   "metadata": {},
   "outputs": [
    {
     "name": "stdout",
     "output_type": "stream",
     "text": [
      " * postgresql://student@/week11\n",
      "7360349 rows affected.\n"
     ]
    },
    {
     "data": {
      "text/plain": [
       "[]"
      ]
     },
     "execution_count": 30,
     "metadata": {},
     "output_type": "execute_result"
    }
   ],
   "source": [
    "%%sql update DEATHS_USA\n",
    "set place_of_injury_for_causes_w00_y34_except_y06_and_y07_ = 9\n",
    "where place_of_injury_for_causes_w00_y34_except_y06_and_y07_ is NULL"
   ]
  },
  {
   "cell_type": "code",
   "execution_count": 31,
   "id": "28c49c29-3341-410d-aa2a-3d630ed98209",
   "metadata": {},
   "outputs": [
    {
     "name": "stdout",
     "output_type": "stream",
     "text": [
      " * postgresql://student@/week11\n",
      "10 rows affected.\n"
     ]
    },
    {
     "data": {
      "text/html": [
       "<table>\n",
       "    <thead>\n",
       "        <tr>\n",
       "            <th>education_2003_revision</th>\n",
       "            <th>month_of_death</th>\n",
       "            <th>sex</th>\n",
       "            <th>detail_age</th>\n",
       "            <th>age_recode_12</th>\n",
       "            <th>place_of_death_and_decedents_status</th>\n",
       "            <th>marital_status</th>\n",
       "            <th>day_of_week_of_death</th>\n",
       "            <th>current_data_year</th>\n",
       "            <th>injury_at_work</th>\n",
       "            <th>manner_of_death</th>\n",
       "            <th>method_of_disposition</th>\n",
       "            <th>autopsy</th>\n",
       "            <th>place_of_injury_for_causes_w00_y34_except_y06_and_y07_</th>\n",
       "            <th>icd_code_10th_revision</th>\n",
       "            <th>358_cause_recode</th>\n",
       "            <th>113_cause_recode</th>\n",
       "            <th>39_cause_recode</th>\n",
       "            <th>race</th>\n",
       "            <th>race_recode_5</th>\n",
       "        </tr>\n",
       "    </thead>\n",
       "    <tbody>\n",
       "        <tr>\n",
       "            <td>2</td>\n",
       "            <td>1</td>\n",
       "            <td>F</td>\n",
       "            <td>77</td>\n",
       "            <td>10</td>\n",
       "            <td>4</td>\n",
       "            <td>W</td>\n",
       "            <td>4</td>\n",
       "            <td>2013</td>\n",
       "            <td>U</td>\n",
       "            <td>7</td>\n",
       "            <td>B</td>\n",
       "            <td>N</td>\n",
       "            <td>9</td>\n",
       "            <td>C349</td>\n",
       "            <td>93</td>\n",
       "            <td>27</td>\n",
       "            <td>8</td>\n",
       "            <td>1</td>\n",
       "            <td>1</td>\n",
       "        </tr>\n",
       "        <tr>\n",
       "            <td>2</td>\n",
       "            <td>1</td>\n",
       "            <td>F</td>\n",
       "            <td>86</td>\n",
       "            <td>11</td>\n",
       "            <td>1</td>\n",
       "            <td>W</td>\n",
       "            <td>4</td>\n",
       "            <td>2013</td>\n",
       "            <td>U</td>\n",
       "            <td>7</td>\n",
       "            <td>B</td>\n",
       "            <td>N</td>\n",
       "            <td>9</td>\n",
       "            <td>J690</td>\n",
       "            <td>273</td>\n",
       "            <td>88</td>\n",
       "            <td>37</td>\n",
       "            <td>2</td>\n",
       "            <td>2</td>\n",
       "        </tr>\n",
       "        <tr>\n",
       "            <td>4</td>\n",
       "            <td>1</td>\n",
       "            <td>M</td>\n",
       "            <td>90</td>\n",
       "            <td>11</td>\n",
       "            <td>4</td>\n",
       "            <td>W</td>\n",
       "            <td>5</td>\n",
       "            <td>2013</td>\n",
       "            <td>U</td>\n",
       "            <td>7</td>\n",
       "            <td>C</td>\n",
       "            <td>N</td>\n",
       "            <td>9</td>\n",
       "            <td>I64</td>\n",
       "            <td>238</td>\n",
       "            <td>70</td>\n",
       "            <td>24</td>\n",
       "            <td>1</td>\n",
       "            <td>1</td>\n",
       "        </tr>\n",
       "        <tr>\n",
       "            <td>1</td>\n",
       "            <td>1</td>\n",
       "            <td>F</td>\n",
       "            <td>88</td>\n",
       "            <td>11</td>\n",
       "            <td>1</td>\n",
       "            <td>W</td>\n",
       "            <td>6</td>\n",
       "            <td>2013</td>\n",
       "            <td>U</td>\n",
       "            <td>7</td>\n",
       "            <td>B</td>\n",
       "            <td>N</td>\n",
       "            <td>9</td>\n",
       "            <td>J440</td>\n",
       "            <td>267</td>\n",
       "            <td>86</td>\n",
       "            <td>28</td>\n",
       "            <td>1</td>\n",
       "            <td>1</td>\n",
       "        </tr>\n",
       "        <tr>\n",
       "            <td>1</td>\n",
       "            <td>1</td>\n",
       "            <td>F</td>\n",
       "            <td>96</td>\n",
       "            <td>11</td>\n",
       "            <td>6</td>\n",
       "            <td>W</td>\n",
       "            <td>4</td>\n",
       "            <td>2013</td>\n",
       "            <td>U</td>\n",
       "            <td>7</td>\n",
       "            <td>B</td>\n",
       "            <td>N</td>\n",
       "            <td>9</td>\n",
       "            <td>I719</td>\n",
       "            <td>242</td>\n",
       "            <td>73</td>\n",
       "            <td>26</td>\n",
       "            <td>1</td>\n",
       "            <td>1</td>\n",
       "        </tr>\n",
       "        <tr>\n",
       "            <td>3</td>\n",
       "            <td>1</td>\n",
       "            <td>F</td>\n",
       "            <td>88</td>\n",
       "            <td>11</td>\n",
       "            <td>2</td>\n",
       "            <td>W</td>\n",
       "            <td>5</td>\n",
       "            <td>2013</td>\n",
       "            <td>U</td>\n",
       "            <td>7</td>\n",
       "            <td>C</td>\n",
       "            <td>N</td>\n",
       "            <td>9</td>\n",
       "            <td>I694</td>\n",
       "            <td>239</td>\n",
       "            <td>70</td>\n",
       "            <td>24</td>\n",
       "            <td>1</td>\n",
       "            <td>1</td>\n",
       "        </tr>\n",
       "        <tr>\n",
       "            <td>3</td>\n",
       "            <td>1</td>\n",
       "            <td>F</td>\n",
       "            <td>89</td>\n",
       "            <td>11</td>\n",
       "            <td>6</td>\n",
       "            <td>W</td>\n",
       "            <td>6</td>\n",
       "            <td>2013</td>\n",
       "            <td>U</td>\n",
       "            <td>7</td>\n",
       "            <td>B</td>\n",
       "            <td>U</td>\n",
       "            <td>9</td>\n",
       "            <td>G309</td>\n",
       "            <td>189</td>\n",
       "            <td>52</td>\n",
       "            <td>17</td>\n",
       "            <td>1</td>\n",
       "            <td>1</td>\n",
       "        </tr>\n",
       "        <tr>\n",
       "            <td>3</td>\n",
       "            <td>1</td>\n",
       "            <td>M</td>\n",
       "            <td>77</td>\n",
       "            <td>10</td>\n",
       "            <td>4</td>\n",
       "            <td>M</td>\n",
       "            <td>3</td>\n",
       "            <td>2013</td>\n",
       "            <td>U</td>\n",
       "            <td>7</td>\n",
       "            <td>B</td>\n",
       "            <td>N</td>\n",
       "            <td>9</td>\n",
       "            <td>C189</td>\n",
       "            <td>81</td>\n",
       "            <td>23</td>\n",
       "            <td>6</td>\n",
       "            <td>1</td>\n",
       "            <td>1</td>\n",
       "        </tr>\n",
       "        <tr>\n",
       "            <td>3</td>\n",
       "            <td>1</td>\n",
       "            <td>F</td>\n",
       "            <td>64</td>\n",
       "            <td>8</td>\n",
       "            <td>6</td>\n",
       "            <td>M</td>\n",
       "            <td>3</td>\n",
       "            <td>2013</td>\n",
       "            <td>U</td>\n",
       "            <td>7</td>\n",
       "            <td>B</td>\n",
       "            <td>N</td>\n",
       "            <td>9</td>\n",
       "            <td>G309</td>\n",
       "            <td>189</td>\n",
       "            <td>52</td>\n",
       "            <td>17</td>\n",
       "            <td>1</td>\n",
       "            <td>1</td>\n",
       "        </tr>\n",
       "        <tr>\n",
       "            <td>4</td>\n",
       "            <td>1</td>\n",
       "            <td>M</td>\n",
       "            <td>61</td>\n",
       "            <td>8</td>\n",
       "            <td>4</td>\n",
       "            <td>D</td>\n",
       "            <td>5</td>\n",
       "            <td>2013</td>\n",
       "            <td>U</td>\n",
       "            <td>7</td>\n",
       "            <td>C</td>\n",
       "            <td>N</td>\n",
       "            <td>9</td>\n",
       "            <td>C189</td>\n",
       "            <td>81</td>\n",
       "            <td>23</td>\n",
       "            <td>6</td>\n",
       "            <td>1</td>\n",
       "            <td>1</td>\n",
       "        </tr>\n",
       "    </tbody>\n",
       "</table>"
      ],
      "text/plain": [
       "[(Decimal('2'), Decimal('1'), 'F', Decimal('77'), Decimal('10'), Decimal('4'), 'W', Decimal('4'), '2013', 'U', Decimal('7'), 'B', 'N', Decimal('9'), 'C349', Decimal('93'), Decimal('27'), Decimal('8'), Decimal('1'), Decimal('1')),\n",
       " (Decimal('2'), Decimal('1'), 'F', Decimal('86'), Decimal('11'), Decimal('1'), 'W', Decimal('4'), '2013', 'U', Decimal('7'), 'B', 'N', Decimal('9'), 'J690', Decimal('273'), Decimal('88'), Decimal('37'), Decimal('2'), Decimal('2')),\n",
       " (Decimal('4'), Decimal('1'), 'M', Decimal('90'), Decimal('11'), Decimal('4'), 'W', Decimal('5'), '2013', 'U', Decimal('7'), 'C', 'N', Decimal('9'), 'I64', Decimal('238'), Decimal('70'), Decimal('24'), Decimal('1'), Decimal('1')),\n",
       " (Decimal('1'), Decimal('1'), 'F', Decimal('88'), Decimal('11'), Decimal('1'), 'W', Decimal('6'), '2013', 'U', Decimal('7'), 'B', 'N', Decimal('9'), 'J440', Decimal('267'), Decimal('86'), Decimal('28'), Decimal('1'), Decimal('1')),\n",
       " (Decimal('1'), Decimal('1'), 'F', Decimal('96'), Decimal('11'), Decimal('6'), 'W', Decimal('4'), '2013', 'U', Decimal('7'), 'B', 'N', Decimal('9'), 'I719', Decimal('242'), Decimal('73'), Decimal('26'), Decimal('1'), Decimal('1')),\n",
       " (Decimal('3'), Decimal('1'), 'F', Decimal('88'), Decimal('11'), Decimal('2'), 'W', Decimal('5'), '2013', 'U', Decimal('7'), 'C', 'N', Decimal('9'), 'I694', Decimal('239'), Decimal('70'), Decimal('24'), Decimal('1'), Decimal('1')),\n",
       " (Decimal('3'), Decimal('1'), 'F', Decimal('89'), Decimal('11'), Decimal('6'), 'W', Decimal('6'), '2013', 'U', Decimal('7'), 'B', 'U', Decimal('9'), 'G309', Decimal('189'), Decimal('52'), Decimal('17'), Decimal('1'), Decimal('1')),\n",
       " (Decimal('3'), Decimal('1'), 'M', Decimal('77'), Decimal('10'), Decimal('4'), 'M', Decimal('3'), '2013', 'U', Decimal('7'), 'B', 'N', Decimal('9'), 'C189', Decimal('81'), Decimal('23'), Decimal('6'), Decimal('1'), Decimal('1')),\n",
       " (Decimal('3'), Decimal('1'), 'F', Decimal('64'), Decimal('8'), Decimal('6'), 'M', Decimal('3'), '2013', 'U', Decimal('7'), 'B', 'N', Decimal('9'), 'G309', Decimal('189'), Decimal('52'), Decimal('17'), Decimal('1'), Decimal('1')),\n",
       " (Decimal('4'), Decimal('1'), 'M', Decimal('61'), Decimal('8'), Decimal('4'), 'D', Decimal('5'), '2013', 'U', Decimal('7'), 'C', 'N', Decimal('9'), 'C189', Decimal('81'), Decimal('23'), Decimal('6'), Decimal('1'), Decimal('1'))]"
      ]
     },
     "execution_count": 31,
     "metadata": {},
     "output_type": "execute_result"
    }
   ],
   "source": [
    "%%sql\n",
    "SELECT * FROM DEATHS_USA\n",
    "LIMIT 10"
   ]
  },
  {
   "cell_type": "markdown",
   "id": "185dac05-0f94-46f2-86e8-1ad4ec0d82bf",
   "metadata": {},
   "source": [
    "### Date dimension"
   ]
  },
  {
   "cell_type": "markdown",
   "id": "eb2b4cbc-363d-4c70-a9eb-c22c32501686",
   "metadata": {},
   "source": [
    "#### To have keys that link the measures to the facts, we have created dimension tables. The first necessary dimension table we have created is Date. This includes the month_of_death, day_of_week_of_death and the current_data_year."
   ]
  },
  {
   "cell_type": "code",
   "execution_count": 32,
   "id": "7e83ac83-d66b-403e-82bc-9033818e4cab",
   "metadata": {},
   "outputs": [
    {
     "name": "stdout",
     "output_type": "stream",
     "text": [
      " * postgresql://student@/week11\n",
      "Done.\n",
      "Done.\n"
     ]
    },
    {
     "data": {
      "text/plain": [
       "[]"
      ]
     },
     "execution_count": 32,
     "metadata": {},
     "output_type": "execute_result"
    }
   ],
   "source": [
    "%%sql\n",
    "DROP TABLE IF EXISTS Date cascade;\n",
    "CREATE TABLE Date (\n",
    " key SERIAL PRIMARY KEY,\n",
    " month_of_death NUMERIC(2),\n",
    " day_of_week_of_death NUMERIC(1) ,\n",
    " current_data_year VARCHAR(4) DEFAULT '9999'\n",
    ")"
   ]
  },
  {
   "cell_type": "markdown",
   "id": "91d86101-6df2-4c77-a410-6a862295ad47",
   "metadata": {},
   "source": [
    "#### After the creation of the Date dimension, we populate the table using our data from the main table."
   ]
  },
  {
   "cell_type": "code",
   "execution_count": 33,
   "id": "d8f5e214-f834-4fba-9991-9176e17e1767",
   "metadata": {},
   "outputs": [
    {
     "name": "stdout",
     "output_type": "stream",
     "text": [
      " * postgresql://student@/week11\n",
      "288 rows affected.\n"
     ]
    },
    {
     "data": {
      "text/plain": [
       "[]"
      ]
     },
     "execution_count": 33,
     "metadata": {},
     "output_type": "execute_result"
    }
   ],
   "source": [
    "%%sql\n",
    "INSERT INTO Date (month_of_death,day_of_week_of_death,current_data_year)\n",
    "SELECT  DISTINCT month_of_death,day_of_week_of_death,current_data_year FROM\n",
    "DEATHS_USA; "
   ]
  },
  {
   "cell_type": "code",
   "execution_count": 34,
   "id": "09f401d0-071c-4fd0-a6ba-ec518f92d69a",
   "metadata": {},
   "outputs": [
    {
     "name": "stdout",
     "output_type": "stream",
     "text": [
      " * postgresql://student@/week11\n",
      "10 rows affected.\n"
     ]
    },
    {
     "data": {
      "text/html": [
       "<table>\n",
       "    <thead>\n",
       "        <tr>\n",
       "            <th>key</th>\n",
       "            <th>month_of_death</th>\n",
       "            <th>day_of_week_of_death</th>\n",
       "            <th>current_data_year</th>\n",
       "        </tr>\n",
       "    </thead>\n",
       "    <tbody>\n",
       "        <tr>\n",
       "            <td>1</td>\n",
       "            <td>1</td>\n",
       "            <td>1</td>\n",
       "            <td>2013</td>\n",
       "        </tr>\n",
       "        <tr>\n",
       "            <td>2</td>\n",
       "            <td>1</td>\n",
       "            <td>1</td>\n",
       "            <td>2014</td>\n",
       "        </tr>\n",
       "        <tr>\n",
       "            <td>3</td>\n",
       "            <td>1</td>\n",
       "            <td>1</td>\n",
       "            <td>2015</td>\n",
       "        </tr>\n",
       "        <tr>\n",
       "            <td>4</td>\n",
       "            <td>1</td>\n",
       "            <td>2</td>\n",
       "            <td>2013</td>\n",
       "        </tr>\n",
       "        <tr>\n",
       "            <td>5</td>\n",
       "            <td>1</td>\n",
       "            <td>2</td>\n",
       "            <td>2014</td>\n",
       "        </tr>\n",
       "        <tr>\n",
       "            <td>6</td>\n",
       "            <td>1</td>\n",
       "            <td>2</td>\n",
       "            <td>2015</td>\n",
       "        </tr>\n",
       "        <tr>\n",
       "            <td>7</td>\n",
       "            <td>1</td>\n",
       "            <td>3</td>\n",
       "            <td>2013</td>\n",
       "        </tr>\n",
       "        <tr>\n",
       "            <td>8</td>\n",
       "            <td>1</td>\n",
       "            <td>3</td>\n",
       "            <td>2014</td>\n",
       "        </tr>\n",
       "        <tr>\n",
       "            <td>9</td>\n",
       "            <td>1</td>\n",
       "            <td>3</td>\n",
       "            <td>2015</td>\n",
       "        </tr>\n",
       "        <tr>\n",
       "            <td>10</td>\n",
       "            <td>1</td>\n",
       "            <td>4</td>\n",
       "            <td>2013</td>\n",
       "        </tr>\n",
       "    </tbody>\n",
       "</table>"
      ],
      "text/plain": [
       "[(1, Decimal('1'), Decimal('1'), '2013'),\n",
       " (2, Decimal('1'), Decimal('1'), '2014'),\n",
       " (3, Decimal('1'), Decimal('1'), '2015'),\n",
       " (4, Decimal('1'), Decimal('2'), '2013'),\n",
       " (5, Decimal('1'), Decimal('2'), '2014'),\n",
       " (6, Decimal('1'), Decimal('2'), '2015'),\n",
       " (7, Decimal('1'), Decimal('3'), '2013'),\n",
       " (8, Decimal('1'), Decimal('3'), '2014'),\n",
       " (9, Decimal('1'), Decimal('3'), '2015'),\n",
       " (10, Decimal('1'), Decimal('4'), '2013')]"
      ]
     },
     "execution_count": 34,
     "metadata": {},
     "output_type": "execute_result"
    }
   ],
   "source": [
    "%%sql\n",
    "select * from Date\n",
    "limit 10;"
   ]
  },
  {
   "cell_type": "markdown",
   "id": "df50bd57-58e3-4fb7-be5d-d865e265423b",
   "metadata": {},
   "source": [
    "#### We then add a foreign key called date_key which links from our dimension table to the main Deaths_USA table"
   ]
  },
  {
   "cell_type": "code",
   "execution_count": 35,
   "id": "255e8f88-5f49-446e-8faa-1d35db7bb46e",
   "metadata": {},
   "outputs": [
    {
     "name": "stdout",
     "output_type": "stream",
     "text": [
      " * postgresql://student@/week11\n",
      "Done.\n"
     ]
    },
    {
     "data": {
      "text/plain": [
       "[]"
      ]
     },
     "execution_count": 35,
     "metadata": {},
     "output_type": "execute_result"
    }
   ],
   "source": [
    "%%sql\n",
    "ALTER TABLE DEATHS_USA\n",
    "ADD COLUMN date_key INTEGER,\n",
    "ADD CONSTRAINT fk_date\n",
    " FOREIGN KEY (date_key)\n",
    " REFERENCES date (key);"
   ]
  },
  {
   "cell_type": "markdown",
   "id": "1ed0b53f-c193-4be7-b021-2d1d48f20b9d",
   "metadata": {},
   "source": [
    "#### Population of the date_key column"
   ]
  },
  {
   "cell_type": "code",
   "execution_count": 43,
   "id": "a6fe2121-8d59-4eab-846e-bff63371abfa",
   "metadata": {},
   "outputs": [
    {
     "name": "stdout",
     "output_type": "stream",
     "text": [
      " * postgresql://student@/week11\n",
      "7950821 rows affected.\n"
     ]
    },
    {
     "data": {
      "text/plain": [
       "[]"
      ]
     },
     "execution_count": 43,
     "metadata": {},
     "output_type": "execute_result"
    }
   ],
   "source": [
    "%%sql\n",
    "UPDATE DEATHS_USA AS D\n",
    "SET date_key = da.key\n",
    "FROM date AS da\n",
    "WHERE D.month_of_death = da.month_of_death\n",
    " and D.day_of_week_of_death = da.day_of_week_of_death\n",
    " and D.current_data_year = da.current_data_year;"
   ]
  },
  {
   "cell_type": "code",
   "execution_count": 44,
   "id": "f83a377e-8d0b-4fd5-8226-801ad7c46895",
   "metadata": {},
   "outputs": [
    {
     "name": "stdout",
     "output_type": "stream",
     "text": [
      " * postgresql://student@/week11\n",
      "10 rows affected.\n"
     ]
    },
    {
     "data": {
      "text/html": [
       "<table>\n",
       "    <thead>\n",
       "        <tr>\n",
       "            <th>key</th>\n",
       "            <th>month_of_death</th>\n",
       "            <th>day_of_week_of_death</th>\n",
       "            <th>current_data_year</th>\n",
       "        </tr>\n",
       "    </thead>\n",
       "    <tbody>\n",
       "        <tr>\n",
       "            <td>1</td>\n",
       "            <td>1</td>\n",
       "            <td>1</td>\n",
       "            <td>2013</td>\n",
       "        </tr>\n",
       "        <tr>\n",
       "            <td>2</td>\n",
       "            <td>1</td>\n",
       "            <td>1</td>\n",
       "            <td>2014</td>\n",
       "        </tr>\n",
       "        <tr>\n",
       "            <td>3</td>\n",
       "            <td>1</td>\n",
       "            <td>1</td>\n",
       "            <td>2015</td>\n",
       "        </tr>\n",
       "        <tr>\n",
       "            <td>4</td>\n",
       "            <td>1</td>\n",
       "            <td>2</td>\n",
       "            <td>2013</td>\n",
       "        </tr>\n",
       "        <tr>\n",
       "            <td>5</td>\n",
       "            <td>1</td>\n",
       "            <td>2</td>\n",
       "            <td>2014</td>\n",
       "        </tr>\n",
       "        <tr>\n",
       "            <td>6</td>\n",
       "            <td>1</td>\n",
       "            <td>2</td>\n",
       "            <td>2015</td>\n",
       "        </tr>\n",
       "        <tr>\n",
       "            <td>7</td>\n",
       "            <td>1</td>\n",
       "            <td>3</td>\n",
       "            <td>2013</td>\n",
       "        </tr>\n",
       "        <tr>\n",
       "            <td>8</td>\n",
       "            <td>1</td>\n",
       "            <td>3</td>\n",
       "            <td>2014</td>\n",
       "        </tr>\n",
       "        <tr>\n",
       "            <td>9</td>\n",
       "            <td>1</td>\n",
       "            <td>3</td>\n",
       "            <td>2015</td>\n",
       "        </tr>\n",
       "        <tr>\n",
       "            <td>10</td>\n",
       "            <td>1</td>\n",
       "            <td>4</td>\n",
       "            <td>2013</td>\n",
       "        </tr>\n",
       "    </tbody>\n",
       "</table>"
      ],
      "text/plain": [
       "[(1, Decimal('1'), Decimal('1'), '2013'),\n",
       " (2, Decimal('1'), Decimal('1'), '2014'),\n",
       " (3, Decimal('1'), Decimal('1'), '2015'),\n",
       " (4, Decimal('1'), Decimal('2'), '2013'),\n",
       " (5, Decimal('1'), Decimal('2'), '2014'),\n",
       " (6, Decimal('1'), Decimal('2'), '2015'),\n",
       " (7, Decimal('1'), Decimal('3'), '2013'),\n",
       " (8, Decimal('1'), Decimal('3'), '2014'),\n",
       " (9, Decimal('1'), Decimal('3'), '2015'),\n",
       " (10, Decimal('1'), Decimal('4'), '2013')]"
      ]
     },
     "execution_count": 44,
     "metadata": {},
     "output_type": "execute_result"
    }
   ],
   "source": [
    "%%sql\n",
    "select * from Date limit 10"
   ]
  },
  {
   "cell_type": "markdown",
   "id": "bdc02db0-c055-44c4-958c-f0e15ddccbeb",
   "metadata": {},
   "source": [
    "### Death related information dimension"
   ]
  },
  {
   "cell_type": "markdown",
   "id": "cf79eea1-470c-4dd0-90c6-883bca52b36f",
   "metadata": {},
   "source": [
    "#### The next dimension table we have created is Death information. This includes the manner_of_death,method_of_disposition, autopsy, icd_code_10th_revision, \"358_cause_recode\", \"113_cause_recode\" and \"39_cause_recode\"."
   ]
  },
  {
   "cell_type": "code",
   "execution_count": 36,
   "id": "b132b68d-43b2-498d-9c9a-93cae3ed7bca",
   "metadata": {},
   "outputs": [
    {
     "name": "stdout",
     "output_type": "stream",
     "text": [
      " * postgresql://student@/week11\n",
      "Done.\n",
      "Done.\n"
     ]
    },
    {
     "data": {
      "text/plain": [
       "[]"
      ]
     },
     "execution_count": 36,
     "metadata": {},
     "output_type": "execute_result"
    }
   ],
   "source": [
    "%%sql\n",
    "DROP TABLE IF EXISTS DeathInformation cascade;\n",
    "CREATE TABLE DeathInformation (\n",
    " key SERIAL PRIMARY KEY,\n",
    " manner_of_death NUMERIC(1),\n",
    " method_of_disposition CHAR(1) NOT NULL,\n",
    " autopsy CHAR(1) NOT NULL,\n",
    " icd_code_10th_revision VARCHAR(4) NOT NULL,\n",
    " \"358_cause_recode\" NUMERIC(3) NOT NULL,\n",
    " \"113_cause_recode\" NUMERIC(3) NOT NULL,\n",
    " \"39_cause_recode\" NUMERIC(2) NOT NULL  \n",
    ")"
   ]
  },
  {
   "cell_type": "markdown",
   "id": "366250b8-3bb4-499e-a3c8-51ca157a328b",
   "metadata": {},
   "source": [
    "#### After the creation of the Death dimension, we populate the table using our data from the main table."
   ]
  },
  {
   "cell_type": "code",
   "execution_count": 37,
   "id": "2d3d605b-4688-4c10-82f3-e365c4031e37",
   "metadata": {},
   "outputs": [
    {
     "name": "stdout",
     "output_type": "stream",
     "text": [
      " * postgresql://student@/week11\n",
      "52612 rows affected.\n"
     ]
    },
    {
     "data": {
      "text/plain": [
       "[]"
      ]
     },
     "execution_count": 37,
     "metadata": {},
     "output_type": "execute_result"
    }
   ],
   "source": [
    "%%sql\n",
    "INSERT INTO DeathInformation (manner_of_death,method_of_disposition,autopsy,icd_code_10th_revision,\"358_cause_recode\",\"113_cause_recode\",\"39_cause_recode\")\n",
    "SELECT  DISTINCT manner_of_death,method_of_disposition,autopsy,icd_code_10th_revision,\"358_cause_recode\",\"113_cause_recode\",\"39_cause_recode\"\n",
    "FROM DEATHS_USA;"
   ]
  },
  {
   "cell_type": "code",
   "execution_count": 38,
   "id": "039ed20a-5351-4528-92bb-6920875dace9",
   "metadata": {},
   "outputs": [
    {
     "name": "stdout",
     "output_type": "stream",
     "text": [
      " * postgresql://student@/week11\n",
      "10 rows affected.\n"
     ]
    },
    {
     "data": {
      "text/html": [
       "<table>\n",
       "    <thead>\n",
       "        <tr>\n",
       "            <th>key</th>\n",
       "            <th>manner_of_death</th>\n",
       "            <th>method_of_disposition</th>\n",
       "            <th>autopsy</th>\n",
       "            <th>icd_code_10th_revision</th>\n",
       "            <th>358_cause_recode</th>\n",
       "            <th>113_cause_recode</th>\n",
       "            <th>39_cause_recode</th>\n",
       "        </tr>\n",
       "    </thead>\n",
       "    <tbody>\n",
       "        <tr>\n",
       "            <td>1</td>\n",
       "            <td>0</td>\n",
       "            <td>B</td>\n",
       "            <td>N</td>\n",
       "            <td>A014</td>\n",
       "            <td>6</td>\n",
       "            <td>1</td>\n",
       "            <td>37</td>\n",
       "        </tr>\n",
       "        <tr>\n",
       "            <td>2</td>\n",
       "            <td>0</td>\n",
       "            <td>B</td>\n",
       "            <td>N</td>\n",
       "            <td>A020</td>\n",
       "            <td>6</td>\n",
       "            <td>1</td>\n",
       "            <td>37</td>\n",
       "        </tr>\n",
       "        <tr>\n",
       "            <td>3</td>\n",
       "            <td>0</td>\n",
       "            <td>B</td>\n",
       "            <td>N</td>\n",
       "            <td>A021</td>\n",
       "            <td>6</td>\n",
       "            <td>1</td>\n",
       "            <td>37</td>\n",
       "        </tr>\n",
       "        <tr>\n",
       "            <td>4</td>\n",
       "            <td>0</td>\n",
       "            <td>B</td>\n",
       "            <td>N</td>\n",
       "            <td>A029</td>\n",
       "            <td>6</td>\n",
       "            <td>1</td>\n",
       "            <td>37</td>\n",
       "        </tr>\n",
       "        <tr>\n",
       "            <td>5</td>\n",
       "            <td>0</td>\n",
       "            <td>B</td>\n",
       "            <td>N</td>\n",
       "            <td>A044</td>\n",
       "            <td>10</td>\n",
       "            <td>3</td>\n",
       "            <td>37</td>\n",
       "        </tr>\n",
       "        <tr>\n",
       "            <td>6</td>\n",
       "            <td>0</td>\n",
       "            <td>B</td>\n",
       "            <td>N</td>\n",
       "            <td>A047</td>\n",
       "            <td>10</td>\n",
       "            <td>3</td>\n",
       "            <td>37</td>\n",
       "        </tr>\n",
       "        <tr>\n",
       "            <td>7</td>\n",
       "            <td>0</td>\n",
       "            <td>B</td>\n",
       "            <td>N</td>\n",
       "            <td>A048</td>\n",
       "            <td>10</td>\n",
       "            <td>3</td>\n",
       "            <td>37</td>\n",
       "        </tr>\n",
       "        <tr>\n",
       "            <td>8</td>\n",
       "            <td>0</td>\n",
       "            <td>B</td>\n",
       "            <td>N</td>\n",
       "            <td>A049</td>\n",
       "            <td>10</td>\n",
       "            <td>3</td>\n",
       "            <td>37</td>\n",
       "        </tr>\n",
       "        <tr>\n",
       "            <td>9</td>\n",
       "            <td>0</td>\n",
       "            <td>B</td>\n",
       "            <td>N</td>\n",
       "            <td>A051</td>\n",
       "            <td>8</td>\n",
       "            <td>18</td>\n",
       "            <td>37</td>\n",
       "        </tr>\n",
       "        <tr>\n",
       "            <td>10</td>\n",
       "            <td>0</td>\n",
       "            <td>B</td>\n",
       "            <td>N</td>\n",
       "            <td>A081</td>\n",
       "            <td>10</td>\n",
       "            <td>3</td>\n",
       "            <td>37</td>\n",
       "        </tr>\n",
       "    </tbody>\n",
       "</table>"
      ],
      "text/plain": [
       "[(1, Decimal('0'), 'B', 'N', 'A014', Decimal('6'), Decimal('1'), Decimal('37')),\n",
       " (2, Decimal('0'), 'B', 'N', 'A020', Decimal('6'), Decimal('1'), Decimal('37')),\n",
       " (3, Decimal('0'), 'B', 'N', 'A021', Decimal('6'), Decimal('1'), Decimal('37')),\n",
       " (4, Decimal('0'), 'B', 'N', 'A029', Decimal('6'), Decimal('1'), Decimal('37')),\n",
       " (5, Decimal('0'), 'B', 'N', 'A044', Decimal('10'), Decimal('3'), Decimal('37')),\n",
       " (6, Decimal('0'), 'B', 'N', 'A047', Decimal('10'), Decimal('3'), Decimal('37')),\n",
       " (7, Decimal('0'), 'B', 'N', 'A048', Decimal('10'), Decimal('3'), Decimal('37')),\n",
       " (8, Decimal('0'), 'B', 'N', 'A049', Decimal('10'), Decimal('3'), Decimal('37')),\n",
       " (9, Decimal('0'), 'B', 'N', 'A051', Decimal('8'), Decimal('18'), Decimal('37')),\n",
       " (10, Decimal('0'), 'B', 'N', 'A081', Decimal('10'), Decimal('3'), Decimal('37'))]"
      ]
     },
     "execution_count": 38,
     "metadata": {},
     "output_type": "execute_result"
    }
   ],
   "source": [
    "%%sql\n",
    "select * from DeathInformation\n",
    "limit 10;"
   ]
  },
  {
   "cell_type": "markdown",
   "id": "a6981fa8-1d6e-470a-94aa-264683fcc476",
   "metadata": {},
   "source": [
    "#### We then add a foreign key called DeathInformation_key which links from our dimension table to the main Deaths_USA table"
   ]
  },
  {
   "cell_type": "code",
   "execution_count": 39,
   "id": "d970ff16-2fca-4630-bbe1-87f855463464",
   "metadata": {},
   "outputs": [
    {
     "name": "stdout",
     "output_type": "stream",
     "text": [
      " * postgresql://student@/week11\n",
      "Done.\n"
     ]
    },
    {
     "data": {
      "text/plain": [
       "[]"
      ]
     },
     "execution_count": 39,
     "metadata": {},
     "output_type": "execute_result"
    }
   ],
   "source": [
    "%%sql\n",
    "ALTER TABLE DEATHS_USA\n",
    "ADD COLUMN deathinformation_key INTEGER,\n",
    "ADD CONSTRAINT fk_DeathInformation\n",
    "    FOREIGN KEY (DeathInformation_key)\n",
    "    REFERENCES deathinformation (key);"
   ]
  },
  {
   "cell_type": "markdown",
   "id": "70449585-b38e-4b4f-9a4f-4d115a3c0004",
   "metadata": {},
   "source": [
    "#### Then we populate the DeathInformation_key column"
   ]
  },
  {
   "cell_type": "code",
   "execution_count": 40,
   "id": "bbc1270c-088d-42ee-946f-9eb7b00c5a57",
   "metadata": {},
   "outputs": [
    {
     "name": "stdout",
     "output_type": "stream",
     "text": [
      " * postgresql://student@/week11\n",
      "7950821 rows affected.\n"
     ]
    },
    {
     "data": {
      "text/plain": [
       "[]"
      ]
     },
     "execution_count": 40,
     "metadata": {},
     "output_type": "execute_result"
    }
   ],
   "source": [
    "%%sql\n",
    "UPDATE DEATHS_USA AS D\n",
    "SET deathinformation_key = di.key\n",
    "FROM DeathInformation AS di\n",
    "WHERE D.manner_of_death = di.manner_of_death\n",
    " and D.method_of_disposition = di.method_of_disposition\n",
    " and D.autopsy = di.autopsy\n",
    " and D.icd_code_10th_revision = di.icd_code_10th_revision\n",
    " and D.\"358_cause_recode\" = di.\"358_cause_recode\"\n",
    " and D.\"113_cause_recode\" = di.\"113_cause_recode\"\n",
    " and D.\"39_cause_recode\" = di.\"39_cause_recode\";"
   ]
  },
  {
   "cell_type": "code",
   "execution_count": 41,
   "id": "c6257522-953a-446b-b11f-4e242cd11438",
   "metadata": {},
   "outputs": [
    {
     "name": "stdout",
     "output_type": "stream",
     "text": [
      " * postgresql://student@/week11\n",
      "10 rows affected.\n"
     ]
    },
    {
     "data": {
      "text/html": [
       "<table>\n",
       "    <thead>\n",
       "        <tr>\n",
       "            <th>key</th>\n",
       "            <th>manner_of_death</th>\n",
       "            <th>method_of_disposition</th>\n",
       "            <th>autopsy</th>\n",
       "            <th>icd_code_10th_revision</th>\n",
       "            <th>358_cause_recode</th>\n",
       "            <th>113_cause_recode</th>\n",
       "            <th>39_cause_recode</th>\n",
       "        </tr>\n",
       "    </thead>\n",
       "    <tbody>\n",
       "        <tr>\n",
       "            <td>1</td>\n",
       "            <td>0</td>\n",
       "            <td>B</td>\n",
       "            <td>N</td>\n",
       "            <td>A014</td>\n",
       "            <td>6</td>\n",
       "            <td>1</td>\n",
       "            <td>37</td>\n",
       "        </tr>\n",
       "        <tr>\n",
       "            <td>2</td>\n",
       "            <td>0</td>\n",
       "            <td>B</td>\n",
       "            <td>N</td>\n",
       "            <td>A020</td>\n",
       "            <td>6</td>\n",
       "            <td>1</td>\n",
       "            <td>37</td>\n",
       "        </tr>\n",
       "        <tr>\n",
       "            <td>3</td>\n",
       "            <td>0</td>\n",
       "            <td>B</td>\n",
       "            <td>N</td>\n",
       "            <td>A021</td>\n",
       "            <td>6</td>\n",
       "            <td>1</td>\n",
       "            <td>37</td>\n",
       "        </tr>\n",
       "        <tr>\n",
       "            <td>4</td>\n",
       "            <td>0</td>\n",
       "            <td>B</td>\n",
       "            <td>N</td>\n",
       "            <td>A029</td>\n",
       "            <td>6</td>\n",
       "            <td>1</td>\n",
       "            <td>37</td>\n",
       "        </tr>\n",
       "        <tr>\n",
       "            <td>5</td>\n",
       "            <td>0</td>\n",
       "            <td>B</td>\n",
       "            <td>N</td>\n",
       "            <td>A044</td>\n",
       "            <td>10</td>\n",
       "            <td>3</td>\n",
       "            <td>37</td>\n",
       "        </tr>\n",
       "        <tr>\n",
       "            <td>6</td>\n",
       "            <td>0</td>\n",
       "            <td>B</td>\n",
       "            <td>N</td>\n",
       "            <td>A047</td>\n",
       "            <td>10</td>\n",
       "            <td>3</td>\n",
       "            <td>37</td>\n",
       "        </tr>\n",
       "        <tr>\n",
       "            <td>7</td>\n",
       "            <td>0</td>\n",
       "            <td>B</td>\n",
       "            <td>N</td>\n",
       "            <td>A048</td>\n",
       "            <td>10</td>\n",
       "            <td>3</td>\n",
       "            <td>37</td>\n",
       "        </tr>\n",
       "        <tr>\n",
       "            <td>8</td>\n",
       "            <td>0</td>\n",
       "            <td>B</td>\n",
       "            <td>N</td>\n",
       "            <td>A049</td>\n",
       "            <td>10</td>\n",
       "            <td>3</td>\n",
       "            <td>37</td>\n",
       "        </tr>\n",
       "        <tr>\n",
       "            <td>9</td>\n",
       "            <td>0</td>\n",
       "            <td>B</td>\n",
       "            <td>N</td>\n",
       "            <td>A051</td>\n",
       "            <td>8</td>\n",
       "            <td>18</td>\n",
       "            <td>37</td>\n",
       "        </tr>\n",
       "        <tr>\n",
       "            <td>10</td>\n",
       "            <td>0</td>\n",
       "            <td>B</td>\n",
       "            <td>N</td>\n",
       "            <td>A081</td>\n",
       "            <td>10</td>\n",
       "            <td>3</td>\n",
       "            <td>37</td>\n",
       "        </tr>\n",
       "    </tbody>\n",
       "</table>"
      ],
      "text/plain": [
       "[(1, Decimal('0'), 'B', 'N', 'A014', Decimal('6'), Decimal('1'), Decimal('37')),\n",
       " (2, Decimal('0'), 'B', 'N', 'A020', Decimal('6'), Decimal('1'), Decimal('37')),\n",
       " (3, Decimal('0'), 'B', 'N', 'A021', Decimal('6'), Decimal('1'), Decimal('37')),\n",
       " (4, Decimal('0'), 'B', 'N', 'A029', Decimal('6'), Decimal('1'), Decimal('37')),\n",
       " (5, Decimal('0'), 'B', 'N', 'A044', Decimal('10'), Decimal('3'), Decimal('37')),\n",
       " (6, Decimal('0'), 'B', 'N', 'A047', Decimal('10'), Decimal('3'), Decimal('37')),\n",
       " (7, Decimal('0'), 'B', 'N', 'A048', Decimal('10'), Decimal('3'), Decimal('37')),\n",
       " (8, Decimal('0'), 'B', 'N', 'A049', Decimal('10'), Decimal('3'), Decimal('37')),\n",
       " (9, Decimal('0'), 'B', 'N', 'A051', Decimal('8'), Decimal('18'), Decimal('37')),\n",
       " (10, Decimal('0'), 'B', 'N', 'A081', Decimal('10'), Decimal('3'), Decimal('37'))]"
      ]
     },
     "execution_count": 41,
     "metadata": {},
     "output_type": "execute_result"
    }
   ],
   "source": [
    "%%sql\n",
    "select * from DeathInformation limit 10"
   ]
  },
  {
   "cell_type": "code",
   "execution_count": 42,
   "id": "9879a183-c7f8-4c79-a992-6e238330c3f2",
   "metadata": {},
   "outputs": [
    {
     "name": "stdout",
     "output_type": "stream",
     "text": [
      " * postgresql://student@/week11\n",
      "10 rows affected.\n"
     ]
    },
    {
     "data": {
      "text/html": [
       "<table>\n",
       "    <thead>\n",
       "        <tr>\n",
       "            <th>education_2003_revision</th>\n",
       "            <th>month_of_death</th>\n",
       "            <th>sex</th>\n",
       "            <th>detail_age</th>\n",
       "            <th>age_recode_12</th>\n",
       "            <th>place_of_death_and_decedents_status</th>\n",
       "            <th>marital_status</th>\n",
       "            <th>day_of_week_of_death</th>\n",
       "            <th>current_data_year</th>\n",
       "            <th>injury_at_work</th>\n",
       "            <th>manner_of_death</th>\n",
       "            <th>method_of_disposition</th>\n",
       "            <th>autopsy</th>\n",
       "            <th>place_of_injury_for_causes_w00_y34_except_y06_and_y07_</th>\n",
       "            <th>icd_code_10th_revision</th>\n",
       "            <th>358_cause_recode</th>\n",
       "            <th>113_cause_recode</th>\n",
       "            <th>39_cause_recode</th>\n",
       "            <th>race</th>\n",
       "            <th>race_recode_5</th>\n",
       "            <th>date_key</th>\n",
       "            <th>deathinformation_key</th>\n",
       "        </tr>\n",
       "    </thead>\n",
       "    <tbody>\n",
       "        <tr>\n",
       "            <td>3</td>\n",
       "            <td>4</td>\n",
       "            <td>F</td>\n",
       "            <td>77</td>\n",
       "            <td>10</td>\n",
       "            <td>4</td>\n",
       "            <td>D</td>\n",
       "            <td>4</td>\n",
       "            <td>2015</td>\n",
       "            <td>U</td>\n",
       "            <td>0</td>\n",
       "            <td>B</td>\n",
       "            <td>N</td>\n",
       "            <td>9</td>\n",
       "            <td>C349</td>\n",
       "            <td>93</td>\n",
       "            <td>27</td>\n",
       "            <td>8</td>\n",
       "            <td>1</td>\n",
       "            <td>1</td>\n",
       "            <td>None</td>\n",
       "            <td>277</td>\n",
       "        </tr>\n",
       "        <tr>\n",
       "            <td>3</td>\n",
       "            <td>5</td>\n",
       "            <td>F</td>\n",
       "            <td>66</td>\n",
       "            <td>9</td>\n",
       "            <td>4</td>\n",
       "            <td>M</td>\n",
       "            <td>1</td>\n",
       "            <td>2015</td>\n",
       "            <td>U</td>\n",
       "            <td>0</td>\n",
       "            <td>B</td>\n",
       "            <td>N</td>\n",
       "            <td>9</td>\n",
       "            <td>C349</td>\n",
       "            <td>93</td>\n",
       "            <td>27</td>\n",
       "            <td>8</td>\n",
       "            <td>1</td>\n",
       "            <td>1</td>\n",
       "            <td>None</td>\n",
       "            <td>277</td>\n",
       "        </tr>\n",
       "        <tr>\n",
       "            <td>3</td>\n",
       "            <td>5</td>\n",
       "            <td>F</td>\n",
       "            <td>69</td>\n",
       "            <td>9</td>\n",
       "            <td>4</td>\n",
       "            <td>W</td>\n",
       "            <td>1</td>\n",
       "            <td>2015</td>\n",
       "            <td>U</td>\n",
       "            <td>0</td>\n",
       "            <td>B</td>\n",
       "            <td>N</td>\n",
       "            <td>9</td>\n",
       "            <td>C349</td>\n",
       "            <td>93</td>\n",
       "            <td>27</td>\n",
       "            <td>8</td>\n",
       "            <td>2</td>\n",
       "            <td>2</td>\n",
       "            <td>None</td>\n",
       "            <td>277</td>\n",
       "        </tr>\n",
       "        <tr>\n",
       "            <td>1</td>\n",
       "            <td>4</td>\n",
       "            <td>M</td>\n",
       "            <td>85</td>\n",
       "            <td>11</td>\n",
       "            <td>4</td>\n",
       "            <td>M</td>\n",
       "            <td>5</td>\n",
       "            <td>2015</td>\n",
       "            <td>U</td>\n",
       "            <td>0</td>\n",
       "            <td>B</td>\n",
       "            <td>N</td>\n",
       "            <td>9</td>\n",
       "            <td>C349</td>\n",
       "            <td>93</td>\n",
       "            <td>27</td>\n",
       "            <td>8</td>\n",
       "            <td>2</td>\n",
       "            <td>2</td>\n",
       "            <td>None</td>\n",
       "            <td>277</td>\n",
       "        </tr>\n",
       "        <tr>\n",
       "            <td>2</td>\n",
       "            <td>5</td>\n",
       "            <td>F</td>\n",
       "            <td>83</td>\n",
       "            <td>10</td>\n",
       "            <td>4</td>\n",
       "            <td>W</td>\n",
       "            <td>7</td>\n",
       "            <td>2015</td>\n",
       "            <td>U</td>\n",
       "            <td>0</td>\n",
       "            <td>B</td>\n",
       "            <td>N</td>\n",
       "            <td>9</td>\n",
       "            <td>C349</td>\n",
       "            <td>93</td>\n",
       "            <td>27</td>\n",
       "            <td>8</td>\n",
       "            <td>1</td>\n",
       "            <td>1</td>\n",
       "            <td>None</td>\n",
       "            <td>277</td>\n",
       "        </tr>\n",
       "        <tr>\n",
       "            <td>5</td>\n",
       "            <td>3</td>\n",
       "            <td>F</td>\n",
       "            <td>56</td>\n",
       "            <td>8</td>\n",
       "            <td>5</td>\n",
       "            <td>D</td>\n",
       "            <td>5</td>\n",
       "            <td>2015</td>\n",
       "            <td>U</td>\n",
       "            <td>0</td>\n",
       "            <td>B</td>\n",
       "            <td>N</td>\n",
       "            <td>9</td>\n",
       "            <td>C349</td>\n",
       "            <td>93</td>\n",
       "            <td>27</td>\n",
       "            <td>8</td>\n",
       "            <td>1</td>\n",
       "            <td>1</td>\n",
       "            <td>None</td>\n",
       "            <td>277</td>\n",
       "        </tr>\n",
       "        <tr>\n",
       "            <td>3</td>\n",
       "            <td>3</td>\n",
       "            <td>M</td>\n",
       "            <td>61</td>\n",
       "            <td>8</td>\n",
       "            <td>4</td>\n",
       "            <td>M</td>\n",
       "            <td>3</td>\n",
       "            <td>2015</td>\n",
       "            <td>U</td>\n",
       "            <td>0</td>\n",
       "            <td>B</td>\n",
       "            <td>N</td>\n",
       "            <td>9</td>\n",
       "            <td>C349</td>\n",
       "            <td>93</td>\n",
       "            <td>27</td>\n",
       "            <td>8</td>\n",
       "            <td>1</td>\n",
       "            <td>1</td>\n",
       "            <td>None</td>\n",
       "            <td>277</td>\n",
       "        </tr>\n",
       "        <tr>\n",
       "            <td>6</td>\n",
       "            <td>3</td>\n",
       "            <td>M</td>\n",
       "            <td>82</td>\n",
       "            <td>10</td>\n",
       "            <td>1</td>\n",
       "            <td>M</td>\n",
       "            <td>1</td>\n",
       "            <td>2015</td>\n",
       "            <td>U</td>\n",
       "            <td>0</td>\n",
       "            <td>B</td>\n",
       "            <td>N</td>\n",
       "            <td>9</td>\n",
       "            <td>C349</td>\n",
       "            <td>93</td>\n",
       "            <td>27</td>\n",
       "            <td>8</td>\n",
       "            <td>2</td>\n",
       "            <td>2</td>\n",
       "            <td>None</td>\n",
       "            <td>277</td>\n",
       "        </tr>\n",
       "        <tr>\n",
       "            <td>5</td>\n",
       "            <td>3</td>\n",
       "            <td>F</td>\n",
       "            <td>72</td>\n",
       "            <td>9</td>\n",
       "            <td>1</td>\n",
       "            <td>M</td>\n",
       "            <td>6</td>\n",
       "            <td>2015</td>\n",
       "            <td>U</td>\n",
       "            <td>0</td>\n",
       "            <td>B</td>\n",
       "            <td>N</td>\n",
       "            <td>9</td>\n",
       "            <td>C349</td>\n",
       "            <td>93</td>\n",
       "            <td>27</td>\n",
       "            <td>8</td>\n",
       "            <td>1</td>\n",
       "            <td>1</td>\n",
       "            <td>None</td>\n",
       "            <td>277</td>\n",
       "        </tr>\n",
       "        <tr>\n",
       "            <td>2</td>\n",
       "            <td>6</td>\n",
       "            <td>F</td>\n",
       "            <td>73</td>\n",
       "            <td>9</td>\n",
       "            <td>1</td>\n",
       "            <td>W</td>\n",
       "            <td>3</td>\n",
       "            <td>2015</td>\n",
       "            <td>U</td>\n",
       "            <td>0</td>\n",
       "            <td>B</td>\n",
       "            <td>N</td>\n",
       "            <td>9</td>\n",
       "            <td>C349</td>\n",
       "            <td>93</td>\n",
       "            <td>27</td>\n",
       "            <td>8</td>\n",
       "            <td>2</td>\n",
       "            <td>2</td>\n",
       "            <td>None</td>\n",
       "            <td>277</td>\n",
       "        </tr>\n",
       "    </tbody>\n",
       "</table>"
      ],
      "text/plain": [
       "[(Decimal('3'), Decimal('4'), 'F', Decimal('77'), Decimal('10'), Decimal('4'), 'D', Decimal('4'), '2015', 'U', Decimal('0'), 'B', 'N', Decimal('9'), 'C349', Decimal('93'), Decimal('27'), Decimal('8'), Decimal('1'), Decimal('1'), None, 277),\n",
       " (Decimal('3'), Decimal('5'), 'F', Decimal('66'), Decimal('9'), Decimal('4'), 'M', Decimal('1'), '2015', 'U', Decimal('0'), 'B', 'N', Decimal('9'), 'C349', Decimal('93'), Decimal('27'), Decimal('8'), Decimal('1'), Decimal('1'), None, 277),\n",
       " (Decimal('3'), Decimal('5'), 'F', Decimal('69'), Decimal('9'), Decimal('4'), 'W', Decimal('1'), '2015', 'U', Decimal('0'), 'B', 'N', Decimal('9'), 'C349', Decimal('93'), Decimal('27'), Decimal('8'), Decimal('2'), Decimal('2'), None, 277),\n",
       " (Decimal('1'), Decimal('4'), 'M', Decimal('85'), Decimal('11'), Decimal('4'), 'M', Decimal('5'), '2015', 'U', Decimal('0'), 'B', 'N', Decimal('9'), 'C349', Decimal('93'), Decimal('27'), Decimal('8'), Decimal('2'), Decimal('2'), None, 277),\n",
       " (Decimal('2'), Decimal('5'), 'F', Decimal('83'), Decimal('10'), Decimal('4'), 'W', Decimal('7'), '2015', 'U', Decimal('0'), 'B', 'N', Decimal('9'), 'C349', Decimal('93'), Decimal('27'), Decimal('8'), Decimal('1'), Decimal('1'), None, 277),\n",
       " (Decimal('5'), Decimal('3'), 'F', Decimal('56'), Decimal('8'), Decimal('5'), 'D', Decimal('5'), '2015', 'U', Decimal('0'), 'B', 'N', Decimal('9'), 'C349', Decimal('93'), Decimal('27'), Decimal('8'), Decimal('1'), Decimal('1'), None, 277),\n",
       " (Decimal('3'), Decimal('3'), 'M', Decimal('61'), Decimal('8'), Decimal('4'), 'M', Decimal('3'), '2015', 'U', Decimal('0'), 'B', 'N', Decimal('9'), 'C349', Decimal('93'), Decimal('27'), Decimal('8'), Decimal('1'), Decimal('1'), None, 277),\n",
       " (Decimal('6'), Decimal('3'), 'M', Decimal('82'), Decimal('10'), Decimal('1'), 'M', Decimal('1'), '2015', 'U', Decimal('0'), 'B', 'N', Decimal('9'), 'C349', Decimal('93'), Decimal('27'), Decimal('8'), Decimal('2'), Decimal('2'), None, 277),\n",
       " (Decimal('5'), Decimal('3'), 'F', Decimal('72'), Decimal('9'), Decimal('1'), 'M', Decimal('6'), '2015', 'U', Decimal('0'), 'B', 'N', Decimal('9'), 'C349', Decimal('93'), Decimal('27'), Decimal('8'), Decimal('1'), Decimal('1'), None, 277),\n",
       " (Decimal('2'), Decimal('6'), 'F', Decimal('73'), Decimal('9'), Decimal('1'), 'W', Decimal('3'), '2015', 'U', Decimal('0'), 'B', 'N', Decimal('9'), 'C349', Decimal('93'), Decimal('27'), Decimal('8'), Decimal('2'), Decimal('2'), None, 277)]"
      ]
     },
     "execution_count": 42,
     "metadata": {},
     "output_type": "execute_result"
    }
   ],
   "source": [
    "%%sql\n",
    "select * from Deaths_USA limit 10"
   ]
  },
  {
   "cell_type": "markdown",
   "id": "a6cb435c-4bf7-423d-a9bc-d3eefad24fb7",
   "metadata": {},
   "source": [
    "### Personal Information Dimension Table"
   ]
  },
  {
   "cell_type": "markdown",
   "id": "447022a5-05fd-41fd-a201-96597a3d8e57",
   "metadata": {},
   "source": [
    "#### The next important dimension table we have created is Personal Information which is a demographics dimension. This includes the education_2003_revision,sex ,marital_status,race,race_recode_5, detail_age and age_recode_12."
   ]
  },
  {
   "cell_type": "code",
   "execution_count": 45,
   "id": "2ca45e6c-7817-4da7-a285-cc3db8796da7",
   "metadata": {},
   "outputs": [
    {
     "name": "stdout",
     "output_type": "stream",
     "text": [
      " * postgresql://student@/week11\n",
      "Done.\n",
      "Done.\n"
     ]
    },
    {
     "data": {
      "text/plain": [
       "[]"
      ]
     },
     "execution_count": 45,
     "metadata": {},
     "output_type": "execute_result"
    }
   ],
   "source": [
    "%%sql\n",
    "DROP TABLE IF EXISTS Primary_info cascade;\n",
    "CREATE TABLE Primary_info (\n",
    "key SERIAL PRIMARY KEY,\n",
    "education_2003_revision NUMERIC(3),\n",
    "sex VARCHAR(1) NOT NULL,\n",
    "marital_status VARCHAR(1) NOT NULL,\n",
    "race NUMERIC(2) NOT NULL ,\n",
    "race_recode_5 NUMERIC(1) NOT NULL,\n",
    "detail_age NUMERIC(3) NOT NULL,\n",
    "age_recode_12 NUMERIC(3)\n",
    ")"
   ]
  },
  {
   "cell_type": "markdown",
   "id": "b4293d5a-3c6d-4530-9e2b-26383b7656f5",
   "metadata": {},
   "source": [
    "#### After the creation of the Personal Information dimension, we populate the table using our data from the main table."
   ]
  },
  {
   "cell_type": "code",
   "execution_count": 46,
   "id": "a0e3c4cb-8c90-400b-9f0a-d2997be2c578",
   "metadata": {},
   "outputs": [
    {
     "name": "stdout",
     "output_type": "stream",
     "text": [
      " * postgresql://student@/week11\n",
      "49608 rows affected.\n"
     ]
    },
    {
     "data": {
      "text/plain": [
       "[]"
      ]
     },
     "execution_count": 46,
     "metadata": {},
     "output_type": "execute_result"
    }
   ],
   "source": [
    "%%sql\n",
    "INSERT INTO Primary_info (education_2003_revision,sex,marital_status,race,race_recode_5,detail_age,age_recode_12)\n",
    "SELECT DISTINCT education_2003_revision,sex,marital_status,race,race_recode_5,detail_age,age_recode_12 FROM\n",
    "DEATHS_USA; "
   ]
  },
  {
   "cell_type": "markdown",
   "id": "a0a47eb7-9e99-429a-a329-5521b9fcd0e5",
   "metadata": {},
   "source": [
    "#### We then add a foreign key called info_key which links from our dimension table to the main Deaths_USA table"
   ]
  },
  {
   "cell_type": "code",
   "execution_count": 47,
   "id": "e3ff7106-a163-4970-a4a7-fa9ba7010e0f",
   "metadata": {},
   "outputs": [
    {
     "name": "stdout",
     "output_type": "stream",
     "text": [
      " * postgresql://student@/week11\n",
      "Done.\n"
     ]
    },
    {
     "data": {
      "text/plain": [
       "[]"
      ]
     },
     "execution_count": 47,
     "metadata": {},
     "output_type": "execute_result"
    }
   ],
   "source": [
    "%%sql\n",
    "ALTER TABLE DEATHS_USA\n",
    "ADD COLUMN info_key INTEGER,\n",
    "ADD CONSTRAINT fk_info\n",
    " FOREIGN KEY (info_key)\n",
    " REFERENCES Primary_info (key);\n"
   ]
  },
  {
   "cell_type": "markdown",
   "id": "84ffc2b1-0905-4960-af10-271aae829b79",
   "metadata": {
    "tags": []
   },
   "source": [
    "#### Then we populate the Info_key column"
   ]
  },
  {
   "cell_type": "code",
   "execution_count": 48,
   "id": "d785db60-fb1b-4456-b7f9-93332fc09cf5",
   "metadata": {},
   "outputs": [
    {
     "name": "stdout",
     "output_type": "stream",
     "text": [
      " * postgresql://student@/week11\n",
      "7950821 rows affected.\n"
     ]
    },
    {
     "data": {
      "text/plain": [
       "[]"
      ]
     },
     "execution_count": 48,
     "metadata": {},
     "output_type": "execute_result"
    }
   ],
   "source": [
    "%%sql\n",
    "UPDATE DEATHS_USA AS D\n",
    "SET info_key = inf.key\n",
    "FROM Primary_info AS inf\n",
    "WHERE D.education_2003_revision = inf.education_2003_revision\n",
    " and D.sex = inf.sex\n",
    " and D.marital_status = inf.marital_status\n",
    "and D.race = inf.race\n",
    "and D.race_recode_5  = inf.race_recode_5\n",
    "and D.detail_age = inf.detail_age\n",
    "and D.age_recode_12=inf.age_recode_12;"
   ]
  },
  {
   "cell_type": "markdown",
   "id": "7933e425-f528-498a-9178-7f25c31aef3a",
   "metadata": {},
   "source": [
    "#### We can see the first 10 rows in the Primary Info dimension table with the SELECT command"
   ]
  },
  {
   "cell_type": "code",
   "execution_count": 49,
   "id": "10e89a4a-28b3-47c6-8005-55c98cdb4dbc",
   "metadata": {},
   "outputs": [
    {
     "name": "stdout",
     "output_type": "stream",
     "text": [
      " * postgresql://student@/week11\n",
      "10 rows affected.\n"
     ]
    },
    {
     "data": {
      "text/html": [
       "<table>\n",
       "    <thead>\n",
       "        <tr>\n",
       "            <th>key</th>\n",
       "            <th>education_2003_revision</th>\n",
       "            <th>sex</th>\n",
       "            <th>marital_status</th>\n",
       "            <th>race</th>\n",
       "            <th>race_recode_5</th>\n",
       "            <th>detail_age</th>\n",
       "            <th>age_recode_12</th>\n",
       "        </tr>\n",
       "    </thead>\n",
       "    <tbody>\n",
       "        <tr>\n",
       "            <td>1</td>\n",
       "            <td>1</td>\n",
       "            <td>F</td>\n",
       "            <td>D</td>\n",
       "            <td>1</td>\n",
       "            <td>1</td>\n",
       "            <td>23</td>\n",
       "            <td>4</td>\n",
       "        </tr>\n",
       "        <tr>\n",
       "            <td>2</td>\n",
       "            <td>1</td>\n",
       "            <td>F</td>\n",
       "            <td>D</td>\n",
       "            <td>1</td>\n",
       "            <td>1</td>\n",
       "            <td>24</td>\n",
       "            <td>4</td>\n",
       "        </tr>\n",
       "        <tr>\n",
       "            <td>3</td>\n",
       "            <td>1</td>\n",
       "            <td>F</td>\n",
       "            <td>D</td>\n",
       "            <td>1</td>\n",
       "            <td>1</td>\n",
       "            <td>25</td>\n",
       "            <td>5</td>\n",
       "        </tr>\n",
       "        <tr>\n",
       "            <td>4</td>\n",
       "            <td>1</td>\n",
       "            <td>F</td>\n",
       "            <td>D</td>\n",
       "            <td>1</td>\n",
       "            <td>1</td>\n",
       "            <td>26</td>\n",
       "            <td>5</td>\n",
       "        </tr>\n",
       "        <tr>\n",
       "            <td>5</td>\n",
       "            <td>1</td>\n",
       "            <td>F</td>\n",
       "            <td>D</td>\n",
       "            <td>1</td>\n",
       "            <td>1</td>\n",
       "            <td>27</td>\n",
       "            <td>5</td>\n",
       "        </tr>\n",
       "        <tr>\n",
       "            <td>6</td>\n",
       "            <td>1</td>\n",
       "            <td>F</td>\n",
       "            <td>D</td>\n",
       "            <td>1</td>\n",
       "            <td>1</td>\n",
       "            <td>28</td>\n",
       "            <td>5</td>\n",
       "        </tr>\n",
       "        <tr>\n",
       "            <td>7</td>\n",
       "            <td>1</td>\n",
       "            <td>F</td>\n",
       "            <td>D</td>\n",
       "            <td>1</td>\n",
       "            <td>1</td>\n",
       "            <td>29</td>\n",
       "            <td>5</td>\n",
       "        </tr>\n",
       "        <tr>\n",
       "            <td>8</td>\n",
       "            <td>1</td>\n",
       "            <td>F</td>\n",
       "            <td>D</td>\n",
       "            <td>1</td>\n",
       "            <td>1</td>\n",
       "            <td>30</td>\n",
       "            <td>5</td>\n",
       "        </tr>\n",
       "        <tr>\n",
       "            <td>9</td>\n",
       "            <td>1</td>\n",
       "            <td>F</td>\n",
       "            <td>D</td>\n",
       "            <td>1</td>\n",
       "            <td>1</td>\n",
       "            <td>31</td>\n",
       "            <td>5</td>\n",
       "        </tr>\n",
       "        <tr>\n",
       "            <td>10</td>\n",
       "            <td>1</td>\n",
       "            <td>F</td>\n",
       "            <td>D</td>\n",
       "            <td>1</td>\n",
       "            <td>1</td>\n",
       "            <td>32</td>\n",
       "            <td>5</td>\n",
       "        </tr>\n",
       "    </tbody>\n",
       "</table>"
      ],
      "text/plain": [
       "[(1, Decimal('1'), 'F', 'D', Decimal('1'), Decimal('1'), Decimal('23'), Decimal('4')),\n",
       " (2, Decimal('1'), 'F', 'D', Decimal('1'), Decimal('1'), Decimal('24'), Decimal('4')),\n",
       " (3, Decimal('1'), 'F', 'D', Decimal('1'), Decimal('1'), Decimal('25'), Decimal('5')),\n",
       " (4, Decimal('1'), 'F', 'D', Decimal('1'), Decimal('1'), Decimal('26'), Decimal('5')),\n",
       " (5, Decimal('1'), 'F', 'D', Decimal('1'), Decimal('1'), Decimal('27'), Decimal('5')),\n",
       " (6, Decimal('1'), 'F', 'D', Decimal('1'), Decimal('1'), Decimal('28'), Decimal('5')),\n",
       " (7, Decimal('1'), 'F', 'D', Decimal('1'), Decimal('1'), Decimal('29'), Decimal('5')),\n",
       " (8, Decimal('1'), 'F', 'D', Decimal('1'), Decimal('1'), Decimal('30'), Decimal('5')),\n",
       " (9, Decimal('1'), 'F', 'D', Decimal('1'), Decimal('1'), Decimal('31'), Decimal('5')),\n",
       " (10, Decimal('1'), 'F', 'D', Decimal('1'), Decimal('1'), Decimal('32'), Decimal('5'))]"
      ]
     },
     "execution_count": 49,
     "metadata": {},
     "output_type": "execute_result"
    }
   ],
   "source": [
    "%%sql\n",
    "select  * from Primary_info limit  10"
   ]
  },
  {
   "cell_type": "markdown",
   "id": "ba15efb9-1e78-4398-907f-bf466005aa49",
   "metadata": {},
   "source": [
    "### Location Dimension Table "
   ]
  },
  {
   "cell_type": "markdown",
   "id": "1283c623-bdd7-4f2c-bd35-dad5043b473f",
   "metadata": {},
   "source": [
    "#### The next important dimension table we have created is Location. This includes the place_of_death_and_decedents_status, injury_at_work and place_of_injury."
   ]
  },
  {
   "cell_type": "code",
   "execution_count": 50,
   "id": "ad46c9cb-0fb4-4fab-a41d-7c42af38ff92",
   "metadata": {},
   "outputs": [
    {
     "name": "stdout",
     "output_type": "stream",
     "text": [
      " * postgresql://student@/week11\n",
      "Done.\n",
      "Done.\n"
     ]
    },
    {
     "data": {
      "text/plain": [
       "[]"
      ]
     },
     "execution_count": 50,
     "metadata": {},
     "output_type": "execute_result"
    }
   ],
   "source": [
    "%%sql\n",
    "DROP TABLE IF EXISTS Location cascade;\n",
    "\n",
    "CREATE TABLE Location (\n",
    " key SERIAL PRIMARY KEY,\n",
    " place_of_death_and_decedents_status NUMERIC(1) NOT NULL,\n",
    " injury_at_work CHAR(1) NOT NULL,\n",
    " place_of_injury NUMERIC(1)\n",
    ")\n"
   ]
  },
  {
   "cell_type": "markdown",
   "id": "745564a9-c23e-4c42-835c-90685a838a41",
   "metadata": {},
   "source": [
    "#### After the creation of the Location dimension, we populate the table using our data from the main table."
   ]
  },
  {
   "cell_type": "code",
   "execution_count": 51,
   "id": "1eefac74-5281-4646-be93-74f4ef51ab8f",
   "metadata": {},
   "outputs": [
    {
     "name": "stdout",
     "output_type": "stream",
     "text": [
      " * postgresql://student@/week11\n",
      "229 rows affected.\n"
     ]
    },
    {
     "data": {
      "text/plain": [
       "[]"
      ]
     },
     "execution_count": 51,
     "metadata": {},
     "output_type": "execute_result"
    }
   ],
   "source": [
    "%%sql\n",
    "INSERT INTO Location (place_of_death_and_decedents_status,injury_at_work,place_of_injury)\n",
    "SELECT  DISTINCT place_of_death_and_decedents_status,injury_at_work,place_of_injury_for_causes_w00_y34_except_y06_and_y07_\n",
    "FROM DEATHS_USA; "
   ]
  },
  {
   "cell_type": "code",
   "execution_count": 52,
   "id": "7047603d-48f0-4878-8eab-9e71a7457d75",
   "metadata": {},
   "outputs": [
    {
     "name": "stdout",
     "output_type": "stream",
     "text": [
      " * postgresql://student@/week11\n",
      "10 rows affected.\n"
     ]
    },
    {
     "data": {
      "text/html": [
       "<table>\n",
       "    <thead>\n",
       "        <tr>\n",
       "            <th>key</th>\n",
       "            <th>place_of_death_and_decedents_status</th>\n",
       "            <th>injury_at_work</th>\n",
       "            <th>place_of_injury</th>\n",
       "        </tr>\n",
       "    </thead>\n",
       "    <tbody>\n",
       "        <tr>\n",
       "            <td>1</td>\n",
       "            <td>6</td>\n",
       "            <td>Y</td>\n",
       "            <td>8</td>\n",
       "        </tr>\n",
       "        <tr>\n",
       "            <td>2</td>\n",
       "            <td>7</td>\n",
       "            <td>U</td>\n",
       "            <td>3</td>\n",
       "        </tr>\n",
       "        <tr>\n",
       "            <td>3</td>\n",
       "            <td>3</td>\n",
       "            <td>Y</td>\n",
       "            <td>2</td>\n",
       "        </tr>\n",
       "        <tr>\n",
       "            <td>4</td>\n",
       "            <td>1</td>\n",
       "            <td>N</td>\n",
       "            <td>9</td>\n",
       "        </tr>\n",
       "        <tr>\n",
       "            <td>5</td>\n",
       "            <td>6</td>\n",
       "            <td>N</td>\n",
       "            <td>5</td>\n",
       "        </tr>\n",
       "        <tr>\n",
       "            <td>6</td>\n",
       "            <td>1</td>\n",
       "            <td>U</td>\n",
       "            <td>6</td>\n",
       "        </tr>\n",
       "        <tr>\n",
       "            <td>7</td>\n",
       "            <td>5</td>\n",
       "            <td>Y</td>\n",
       "            <td>0</td>\n",
       "        </tr>\n",
       "        <tr>\n",
       "            <td>8</td>\n",
       "            <td>3</td>\n",
       "            <td>Y</td>\n",
       "            <td>8</td>\n",
       "        </tr>\n",
       "        <tr>\n",
       "            <td>9</td>\n",
       "            <td>5</td>\n",
       "            <td>U</td>\n",
       "            <td>9</td>\n",
       "        </tr>\n",
       "        <tr>\n",
       "            <td>10</td>\n",
       "            <td>4</td>\n",
       "            <td>N</td>\n",
       "            <td>2</td>\n",
       "        </tr>\n",
       "    </tbody>\n",
       "</table>"
      ],
      "text/plain": [
       "[(1, Decimal('6'), 'Y', Decimal('8')),\n",
       " (2, Decimal('7'), 'U', Decimal('3')),\n",
       " (3, Decimal('3'), 'Y', Decimal('2')),\n",
       " (4, Decimal('1'), 'N', Decimal('9')),\n",
       " (5, Decimal('6'), 'N', Decimal('5')),\n",
       " (6, Decimal('1'), 'U', Decimal('6')),\n",
       " (7, Decimal('5'), 'Y', Decimal('0')),\n",
       " (8, Decimal('3'), 'Y', Decimal('8')),\n",
       " (9, Decimal('5'), 'U', Decimal('9')),\n",
       " (10, Decimal('4'), 'N', Decimal('2'))]"
      ]
     },
     "execution_count": 52,
     "metadata": {},
     "output_type": "execute_result"
    }
   ],
   "source": [
    "%%sql\n",
    "select * from Location\n",
    "limit 10;"
   ]
  },
  {
   "cell_type": "markdown",
   "id": "0b84ccd4-8f83-4a9b-a1de-d7ffa44197f8",
   "metadata": {},
   "source": [
    "#### We then add a foreign key called Location_key which links from our dimension table to the main Deaths_USA table"
   ]
  },
  {
   "cell_type": "code",
   "execution_count": 53,
   "id": "f33acea2-93de-4c6e-9ef7-629707ad6f76",
   "metadata": {},
   "outputs": [
    {
     "name": "stdout",
     "output_type": "stream",
     "text": [
      " * postgresql://student@/week11\n",
      "Done.\n"
     ]
    },
    {
     "data": {
      "text/plain": [
       "[]"
      ]
     },
     "execution_count": 53,
     "metadata": {},
     "output_type": "execute_result"
    }
   ],
   "source": [
    "%%sql\n",
    "ALTER TABLE DEATHS_USA\n",
    "ADD COLUMN Location_key INTEGER,\n",
    "ADD CONSTRAINT fk_Location\n",
    "    FOREIGN KEY (Location_key)\n",
    "    REFERENCES Location (key);"
   ]
  },
  {
   "cell_type": "markdown",
   "id": "59b9c6cd-d8b4-4bf3-90c1-654a69d4fcdf",
   "metadata": {},
   "source": [
    "#### Then we populate the location_key column"
   ]
  },
  {
   "cell_type": "code",
   "execution_count": 54,
   "id": "2ca1b848-9d35-4519-96ff-6039edf50e64",
   "metadata": {},
   "outputs": [
    {
     "name": "stdout",
     "output_type": "stream",
     "text": [
      " * postgresql://student@/week11\n",
      "7950821 rows affected.\n"
     ]
    },
    {
     "data": {
      "text/plain": [
       "[]"
      ]
     },
     "execution_count": 54,
     "metadata": {},
     "output_type": "execute_result"
    }
   ],
   "source": [
    "%%sql\n",
    "UPDATE DEATHS_USA AS D\n",
    "SET Location_key = loc.key\n",
    "FROM Location AS loc\n",
    "WHERE D.place_of_death_and_decedents_status = loc.place_of_death_and_decedents_status\n",
    " and D.injury_at_work = loc.injury_at_work\n",
    " and D.place_of_injury_for_causes_w00_y34_except_y06_and_y07_ = loc.place_of_injury;\n"
   ]
  },
  {
   "cell_type": "markdown",
   "id": "920e8122-1e9b-4892-acf6-258a81026076",
   "metadata": {},
   "source": [
    "#### We can see the first 10 rows in the Location dimension table with the SELECT command"
   ]
  },
  {
   "cell_type": "code",
   "execution_count": 55,
   "id": "0974c24b-4c11-4082-b503-7e2a95b85c3a",
   "metadata": {},
   "outputs": [
    {
     "name": "stdout",
     "output_type": "stream",
     "text": [
      " * postgresql://student@/week11\n",
      "10 rows affected.\n"
     ]
    },
    {
     "data": {
      "text/html": [
       "<table>\n",
       "    <thead>\n",
       "        <tr>\n",
       "            <th>key</th>\n",
       "            <th>place_of_death_and_decedents_status</th>\n",
       "            <th>injury_at_work</th>\n",
       "            <th>place_of_injury</th>\n",
       "        </tr>\n",
       "    </thead>\n",
       "    <tbody>\n",
       "        <tr>\n",
       "            <td>1</td>\n",
       "            <td>6</td>\n",
       "            <td>Y</td>\n",
       "            <td>8</td>\n",
       "        </tr>\n",
       "        <tr>\n",
       "            <td>2</td>\n",
       "            <td>7</td>\n",
       "            <td>U</td>\n",
       "            <td>3</td>\n",
       "        </tr>\n",
       "        <tr>\n",
       "            <td>3</td>\n",
       "            <td>3</td>\n",
       "            <td>Y</td>\n",
       "            <td>2</td>\n",
       "        </tr>\n",
       "        <tr>\n",
       "            <td>4</td>\n",
       "            <td>1</td>\n",
       "            <td>N</td>\n",
       "            <td>9</td>\n",
       "        </tr>\n",
       "        <tr>\n",
       "            <td>5</td>\n",
       "            <td>6</td>\n",
       "            <td>N</td>\n",
       "            <td>5</td>\n",
       "        </tr>\n",
       "        <tr>\n",
       "            <td>6</td>\n",
       "            <td>1</td>\n",
       "            <td>U</td>\n",
       "            <td>6</td>\n",
       "        </tr>\n",
       "        <tr>\n",
       "            <td>7</td>\n",
       "            <td>5</td>\n",
       "            <td>Y</td>\n",
       "            <td>0</td>\n",
       "        </tr>\n",
       "        <tr>\n",
       "            <td>8</td>\n",
       "            <td>3</td>\n",
       "            <td>Y</td>\n",
       "            <td>8</td>\n",
       "        </tr>\n",
       "        <tr>\n",
       "            <td>9</td>\n",
       "            <td>5</td>\n",
       "            <td>U</td>\n",
       "            <td>9</td>\n",
       "        </tr>\n",
       "        <tr>\n",
       "            <td>10</td>\n",
       "            <td>4</td>\n",
       "            <td>N</td>\n",
       "            <td>2</td>\n",
       "        </tr>\n",
       "    </tbody>\n",
       "</table>"
      ],
      "text/plain": [
       "[(1, Decimal('6'), 'Y', Decimal('8')),\n",
       " (2, Decimal('7'), 'U', Decimal('3')),\n",
       " (3, Decimal('3'), 'Y', Decimal('2')),\n",
       " (4, Decimal('1'), 'N', Decimal('9')),\n",
       " (5, Decimal('6'), 'N', Decimal('5')),\n",
       " (6, Decimal('1'), 'U', Decimal('6')),\n",
       " (7, Decimal('5'), 'Y', Decimal('0')),\n",
       " (8, Decimal('3'), 'Y', Decimal('8')),\n",
       " (9, Decimal('5'), 'U', Decimal('9')),\n",
       " (10, Decimal('4'), 'N', Decimal('2'))]"
      ]
     },
     "execution_count": 55,
     "metadata": {},
     "output_type": "execute_result"
    }
   ],
   "source": [
    "%%sql\n",
    "select * from Location limit 10"
   ]
  },
  {
   "cell_type": "markdown",
   "id": "ce4c4b58-c008-4eed-9011-2b73b3c31ebf",
   "metadata": {},
   "source": [
    "#### DROP UNNECESSARY COLUMNS"
   ]
  },
  {
   "cell_type": "markdown",
   "id": "b4842e66-55ac-4b3e-9ffe-890edf523e55",
   "metadata": {},
   "source": [
    "#### We can then drop the unnecessary columns from the main table as we have keys from the dimension tables that can link us back to several columns in the main Deaths_USA table"
   ]
  },
  {
   "cell_type": "code",
   "execution_count": 56,
   "id": "27f90fc1-86d4-48a7-a67b-4ef7963e45ff",
   "metadata": {},
   "outputs": [
    {
     "name": "stdout",
     "output_type": "stream",
     "text": [
      " * postgresql://student@/week11\n",
      "Done.\n"
     ]
    },
    {
     "data": {
      "text/plain": [
       "[]"
      ]
     },
     "execution_count": 56,
     "metadata": {},
     "output_type": "execute_result"
    }
   ],
   "source": [
    "%%sql\n",
    "ALTER TABLE DEATHS_USA\n",
    "DROP COLUMN education_2003_revision  ,                        \n",
    "DROP COLUMN month_of_death,                                    \n",
    "DROP COLUMN sex       ,                                        \n",
    "DROP COLUMN detail_age ,                                      \n",
    "DROP COLUMN age_recode_12  ,                                                               \n",
    "DROP COLUMN    place_of_death_and_decedents_status ,              \n",
    "DROP COLUMN    marital_status     ,                               \n",
    "DROP COLUMN    day_of_week_of_death ,                             \n",
    "DROP COLUMN    current_data_year     ,                        \n",
    "DROP COLUMN    injury_at_work        ,                           \n",
    "DROP COLUMN    manner_of_death        ,                          \n",
    "DROP COLUMN    method_of_disposition   ,                         \n",
    "DROP COLUMN    autopsy               ,                           \n",
    "DROP COLUMN    place_of_injury_for_causes_w00_y34_except_y06_and_y07_ ,  \n",
    "DROP COLUMN   icd_code_10th_revision ,                          \n",
    "DROP COLUMN   \"358_cause_recode\"  ,                             \n",
    "DROP COLUMN   \"113_cause_recode\"   ,                                              \n",
    "DROP COLUMN   \"39_cause_recode\"  ,                              \n",
    "DROP COLUMN    race ,                                                                 \n",
    "DROP COLUMN    race_recode_5                                   "
   ]
  },
  {
   "cell_type": "code",
   "execution_count": 57,
   "id": "c213e9af-233e-481c-99d2-ea995f621e7e",
   "metadata": {},
   "outputs": [
    {
     "name": "stdout",
     "output_type": "stream",
     "text": [
      " * postgresql://student@/week11\n",
      "10 rows affected.\n"
     ]
    },
    {
     "data": {
      "text/html": [
       "<table>\n",
       "    <thead>\n",
       "        <tr>\n",
       "            <th>date_key</th>\n",
       "            <th>deathinformation_key</th>\n",
       "            <th>info_key</th>\n",
       "            <th>location_key</th>\n",
       "        </tr>\n",
       "    </thead>\n",
       "    <tbody>\n",
       "        <tr>\n",
       "            <td>101</td>\n",
       "            <td>27047</td>\n",
       "            <td>597</td>\n",
       "            <td>167</td>\n",
       "        </tr>\n",
       "        <tr>\n",
       "            <td>164</td>\n",
       "            <td>27322</td>\n",
       "            <td>597</td>\n",
       "            <td>167</td>\n",
       "        </tr>\n",
       "        <tr>\n",
       "            <td>245</td>\n",
       "            <td>27117</td>\n",
       "            <td>597</td>\n",
       "            <td>167</td>\n",
       "        </tr>\n",
       "        <tr>\n",
       "            <td>157</td>\n",
       "            <td>27117</td>\n",
       "            <td>597</td>\n",
       "            <td>167</td>\n",
       "        </tr>\n",
       "        <tr>\n",
       "            <td>82</td>\n",
       "            <td>27117</td>\n",
       "            <td>597</td>\n",
       "            <td>167</td>\n",
       "        </tr>\n",
       "        <tr>\n",
       "            <td>208</td>\n",
       "            <td>27007</td>\n",
       "            <td>597</td>\n",
       "            <td>167</td>\n",
       "        </tr>\n",
       "        <tr>\n",
       "            <td>196</td>\n",
       "            <td>27007</td>\n",
       "            <td>597</td>\n",
       "            <td>167</td>\n",
       "        </tr>\n",
       "        <tr>\n",
       "            <td>57</td>\n",
       "            <td>27007</td>\n",
       "            <td>597</td>\n",
       "            <td>167</td>\n",
       "        </tr>\n",
       "        <tr>\n",
       "            <td>221</td>\n",
       "            <td>27021</td>\n",
       "            <td>597</td>\n",
       "            <td>167</td>\n",
       "        </tr>\n",
       "        <tr>\n",
       "            <td>246</td>\n",
       "            <td>27020</td>\n",
       "            <td>597</td>\n",
       "            <td>167</td>\n",
       "        </tr>\n",
       "    </tbody>\n",
       "</table>"
      ],
      "text/plain": [
       "[(101, 27047, 597, 167),\n",
       " (164, 27322, 597, 167),\n",
       " (245, 27117, 597, 167),\n",
       " (157, 27117, 597, 167),\n",
       " (82, 27117, 597, 167),\n",
       " (208, 27007, 597, 167),\n",
       " (196, 27007, 597, 167),\n",
       " (57, 27007, 597, 167),\n",
       " (221, 27021, 597, 167),\n",
       " (246, 27020, 597, 167)]"
      ]
     },
     "execution_count": 57,
     "metadata": {},
     "output_type": "execute_result"
    }
   ],
   "source": [
    "%%sql\n",
    "select * from DEATHS_USA limit 10"
   ]
  },
  {
   "cell_type": "markdown",
   "id": "d21640f3-521e-4bc8-929c-83f0d0f475ad",
   "metadata": {},
   "source": [
    "#### Check number of records after creating dimensions and dropping columns to match that of the count in the original table which was 7,950,821"
   ]
  },
  {
   "cell_type": "code",
   "execution_count": 58,
   "id": "cbf2f292-5c3f-41e1-bbd8-46c2a95ce19e",
   "metadata": {},
   "outputs": [
    {
     "name": "stdout",
     "output_type": "stream",
     "text": [
      " * postgresql://student@/week11\n",
      "1 rows affected.\n"
     ]
    },
    {
     "data": {
      "text/html": [
       "<table>\n",
       "    <thead>\n",
       "        <tr>\n",
       "            <th>count</th>\n",
       "        </tr>\n",
       "    </thead>\n",
       "    <tbody>\n",
       "        <tr>\n",
       "            <td>7950821</td>\n",
       "        </tr>\n",
       "    </tbody>\n",
       "</table>"
      ],
      "text/plain": [
       "[(7950821,)]"
      ]
     },
     "execution_count": 58,
     "metadata": {},
     "output_type": "execute_result"
    }
   ],
   "source": [
    "%%sql\n",
    "SELECT Count(*)\n",
    "from Deaths_USA"
   ]
  },
  {
   "cell_type": "markdown",
   "id": "348b6e0b-72bf-4a47-9e0d-640aae8069e1",
   "metadata": {},
   "source": [
    "*The numbers match which means we have been succesful in the data wrangling aspect and having to match several keys across dimension tables and the main table.*"
   ]
  },
  {
   "cell_type": "markdown",
   "id": "d9713659-b841-4278-9d35-dc650c79fbec",
   "metadata": {},
   "source": [
    "## ASK 3: Analysis and Visualization "
   ]
  },
  {
   "cell_type": "markdown",
   "id": "7abc8e59-6222-44b0-a559-ccf31edf71e4",
   "metadata": {},
   "source": [
    "#### Question 1: What is the distribution of the number of deaths across sex and race? In totality, what is the impact heart disease has over the three years on various age groups? Does an individual living alone decrease their probability of getting immediate help when one is suffering from a heart disease?"
   ]
  },
  {
   "cell_type": "markdown",
   "id": "b624931c-ea9d-4164-bd66-bca9ca47420d",
   "metadata": {},
   "source": [
    "*Completed by Zhipeng Zhao and Pranita Shetty*"
   ]
  },
  {
   "cell_type": "markdown",
   "id": "cb11bd51-2222-402e-9468-b711bc24ce6e",
   "metadata": {},
   "source": [
    "##### Sex and Cause of Death "
   ]
  },
  {
   "cell_type": "markdown",
   "id": "0830ad65-a221-45ff-8ced-b358860a105d",
   "metadata": {},
   "source": [
    "Analysing distribution of causes of death in the two gender categories:"
   ]
  },
  {
   "cell_type": "code",
   "execution_count": 59,
   "id": "eeddfb25-5a0e-4bb6-a8d1-3aba24d3b662",
   "metadata": {},
   "outputs": [
    {
     "name": "stdout",
     "output_type": "stream",
     "text": [
      " * postgresql://student@/week11\n",
      "Done.\n",
      "2 rows affected.\n"
     ]
    },
    {
     "data": {
      "text/plain": [
       "[]"
      ]
     },
     "execution_count": 59,
     "metadata": {},
     "output_type": "execute_result"
    }
   ],
   "source": [
    "%%sql\n",
    "DROP TABLE IF EXISTS Sexdeath cascade;\n",
    "CREATE TABLE Sexdeath AS\n",
    "SELECT sex AS sex,count(*) AS count from DeathInformation as di inner join DEATHS_USA as D on\n",
    "di.key=D.deathinformation_key inner join Primary_info as inf on inf.key=D.info_key\n",
    "Group by sex\n",
    "Order by count (*)DESC"
   ]
  },
  {
   "cell_type": "code",
   "execution_count": 60,
   "id": "e4dded61-7f26-4151-a08b-16b2dd4c65ce",
   "metadata": {},
   "outputs": [
    {
     "name": "stdout",
     "output_type": "stream",
     "text": [
      " * postgresql://student@/week11\n",
      "2 rows affected.\n"
     ]
    },
    {
     "data": {
      "text/html": [
       "<table>\n",
       "    <thead>\n",
       "        <tr>\n",
       "            <th>sex</th>\n",
       "            <th>count</th>\n",
       "        </tr>\n",
       "    </thead>\n",
       "    <tbody>\n",
       "        <tr>\n",
       "            <td>M</td>\n",
       "            <td>4017696</td>\n",
       "        </tr>\n",
       "        <tr>\n",
       "            <td>F</td>\n",
       "            <td>3933125</td>\n",
       "        </tr>\n",
       "    </tbody>\n",
       "</table>"
      ],
      "text/plain": [
       "[('M', 4017696), ('F', 3933125)]"
      ]
     },
     "execution_count": 60,
     "metadata": {},
     "output_type": "execute_result"
    }
   ],
   "source": [
    "%%sql\n",
    "select * from Sexdeath"
   ]
  },
  {
   "cell_type": "code",
   "execution_count": 61,
   "id": "2a311829-e984-494d-b250-13829eea007e",
   "metadata": {},
   "outputs": [
    {
     "name": "stdout",
     "output_type": "stream",
     "text": [
      " * postgresql://student@/week11\n",
      "Done.\n",
      "30 rows affected.\n"
     ]
    },
    {
     "data": {
      "text/plain": [
       "[]"
      ]
     },
     "execution_count": 61,
     "metadata": {},
     "output_type": "execute_result"
    }
   ],
   "source": [
    "%%sql\n",
    "DROP TABLE IF EXISTS Maledeath cascade;\n",
    "CREATE TABLE Maledeath AS\n",
    "SELECT \"39_cause_recode\" AS cause, sex AS sex,count(*) AS count1 from DeathInformation as di inner join DEATHS_USA as D on\n",
    "di.key=D.deathinformation_key inner join Primary_info as inf on inf.key=D.info_key\n",
    "where sex = 'M'\n",
    "AND \"39_cause_recode\" < 36\n",
    "Group by \"39_cause_recode\", sex\n",
    "Order by count (*)DESC"
   ]
  },
  {
   "cell_type": "code",
   "execution_count": 62,
   "id": "165356d3-a4e0-4f39-990d-197929f2b390",
   "metadata": {},
   "outputs": [
    {
     "name": "stdout",
     "output_type": "stream",
     "text": [
      " * postgresql://student@/week11\n",
      "5 rows affected.\n"
     ]
    },
    {
     "data": {
      "text/html": [
       "<table>\n",
       "    <thead>\n",
       "        <tr>\n",
       "            <th>cause</th>\n",
       "            <th>sex</th>\n",
       "            <th>count1</th>\n",
       "        </tr>\n",
       "    </thead>\n",
       "    <tbody>\n",
       "        <tr>\n",
       "            <td>21</td>\n",
       "            <td>M</td>\n",
       "            <td>627188</td>\n",
       "        </tr>\n",
       "        <tr>\n",
       "            <td>22</td>\n",
       "            <td>M</td>\n",
       "            <td>291235</td>\n",
       "        </tr>\n",
       "        <tr>\n",
       "            <td>15</td>\n",
       "            <td>M</td>\n",
       "            <td>290246</td>\n",
       "        </tr>\n",
       "        <tr>\n",
       "            <td>8</td>\n",
       "            <td>M</td>\n",
       "            <td>254570</td>\n",
       "        </tr>\n",
       "        <tr>\n",
       "            <td>28</td>\n",
       "            <td>M</td>\n",
       "            <td>212472</td>\n",
       "        </tr>\n",
       "    </tbody>\n",
       "</table>"
      ],
      "text/plain": [
       "[(Decimal('21'), 'M', 627188),\n",
       " (Decimal('22'), 'M', 291235),\n",
       " (Decimal('15'), 'M', 290246),\n",
       " (Decimal('8'), 'M', 254570),\n",
       " (Decimal('28'), 'M', 212472)]"
      ]
     },
     "execution_count": 62,
     "metadata": {},
     "output_type": "execute_result"
    }
   ],
   "source": [
    "%%sql\n",
    "select * from Maledeath\n",
    "limit 5"
   ]
  },
  {
   "cell_type": "code",
   "execution_count": 63,
   "id": "e2ad952e-b1e5-408e-8756-5bb8e25700bc",
   "metadata": {},
   "outputs": [
    {
     "name": "stdout",
     "output_type": "stream",
     "text": [
      " * postgresql://student@/week11\n",
      "Done.\n",
      "31 rows affected.\n"
     ]
    },
    {
     "data": {
      "text/plain": [
       "[]"
      ]
     },
     "execution_count": 63,
     "metadata": {},
     "output_type": "execute_result"
    }
   ],
   "source": [
    "%%sql\n",
    "DROP TABLE IF EXISTS Femaledeath;\n",
    "CREATE TABLE Femaledeath AS\n",
    "SELECT \"39_cause_recode\" AS cause, sex AS sex,count(*) AS count1 from DeathInformation as di inner join DEATHS_USA as D on\n",
    "di.key=D.deathinformation_key inner join Primary_info as inf on inf.key=D.info_key\n",
    "where sex = 'F'\n",
    "AND \"39_cause_recode\" < 36\n",
    "Group by \"39_cause_recode\", sex\n",
    "Order by count (*)DESC"
   ]
  },
  {
   "cell_type": "code",
   "execution_count": 64,
   "id": "e7e86c66-e4a1-40a6-8de4-429362e84354",
   "metadata": {},
   "outputs": [
    {
     "name": "stdout",
     "output_type": "stream",
     "text": [
      " * postgresql://student@/week11\n",
      "5 rows affected.\n"
     ]
    },
    {
     "data": {
      "text/html": [
       "<table>\n",
       "    <thead>\n",
       "        <tr>\n",
       "            <th>cause</th>\n",
       "            <th>sex</th>\n",
       "            <th>count1</th>\n",
       "        </tr>\n",
       "    </thead>\n",
       "    <tbody>\n",
       "        <tr>\n",
       "            <td>21</td>\n",
       "            <td>F</td>\n",
       "            <td>477056</td>\n",
       "        </tr>\n",
       "        <tr>\n",
       "            <td>22</td>\n",
       "            <td>F</td>\n",
       "            <td>336309</td>\n",
       "        </tr>\n",
       "        <tr>\n",
       "            <td>28</td>\n",
       "            <td>F</td>\n",
       "            <td>239191</td>\n",
       "        </tr>\n",
       "        <tr>\n",
       "            <td>24</td>\n",
       "            <td>F</td>\n",
       "            <td>235284</td>\n",
       "        </tr>\n",
       "        <tr>\n",
       "            <td>8</td>\n",
       "            <td>F</td>\n",
       "            <td>211500</td>\n",
       "        </tr>\n",
       "    </tbody>\n",
       "</table>"
      ],
      "text/plain": [
       "[(Decimal('21'), 'F', 477056),\n",
       " (Decimal('22'), 'F', 336309),\n",
       " (Decimal('28'), 'F', 239191),\n",
       " (Decimal('24'), 'F', 235284),\n",
       " (Decimal('8'), 'F', 211500)]"
      ]
     },
     "execution_count": 64,
     "metadata": {},
     "output_type": "execute_result"
    }
   ],
   "source": [
    "%%sql\n",
    "select * from Femaledeath\n",
    "limit 5"
   ]
  },
  {
   "cell_type": "markdown",
   "id": "2be40a61-deab-43b1-9e80-8f62f3e9e3d0",
   "metadata": {},
   "source": [
    "The analysis provides us with the distribution of the top five causes of death amongst males and females. We have used death codes less than 36 as codes 36 and above represent miscellaneous causes of deaths rather than specific causes of death.\n",
    "\n",
    "* Males: The top five causes of death in Males are codes 21, 22, 15, 8 and 28 which represent the following Ischemic heart diseases, other heart diseases, other malignant neoplasms, Malignant neoplasms of trachea, bronchus and lung and chronic lower respiratory diseases respectively.\n",
    "\n",
    "* Females: The top five causes of death in Females are codes 21, 22, 28, 24 and 8 which represent the following Ischemic heart diseases, other heart diseases, chronic lower respiratory diseases , Cerebrovascular diseases and Malignant neoplasms of trachea, bronchus and lung respectively."
   ]
  },
  {
   "cell_type": "markdown",
   "id": "4aaf9547-9958-4a04-ac61-b6f657cda17f",
   "metadata": {},
   "source": [
    "##### Race and Cause of Death"
   ]
  },
  {
   "cell_type": "markdown",
   "id": "e51b48cb-ce4d-4cd5-9830-abfbe4ef052f",
   "metadata": {},
   "source": [
    "Analysis of cause of death within the race classes:"
   ]
  },
  {
   "cell_type": "code",
   "execution_count": 65,
   "id": "5a4f8fc0-c973-41c9-bef4-adf67b0d2c0d",
   "metadata": {},
   "outputs": [
    {
     "name": "stdout",
     "output_type": "stream",
     "text": [
      " * postgresql://student@/week11\n",
      "Done.\n",
      "435 rows affected.\n"
     ]
    },
    {
     "data": {
      "text/plain": [
       "[]"
      ]
     },
     "execution_count": 65,
     "metadata": {},
     "output_type": "execute_result"
    }
   ],
   "source": [
    "%%sql\n",
    "DROP TABLE IF EXISTS Racedeath;\n",
    "CREATE TABLE Racedeath AS\n",
    "SELECT \"39_cause_recode\" AS cause, race AS race,count(*) AS count1 from DeathInformation as di inner join DEATHS_USA as D on\n",
    "di.key=D.deathinformation_key inner join Primary_info as inf on inf.key=D.info_key\n",
    "where \"39_cause_recode\" < 36\n",
    "Group by \"39_cause_recode\", race\n",
    "Order by count (*)DESC"
   ]
  },
  {
   "cell_type": "code",
   "execution_count": 66,
   "id": "623cabf5-c316-4324-8d15-f3d44a89d372",
   "metadata": {},
   "outputs": [
    {
     "name": "stdout",
     "output_type": "stream",
     "text": [
      " * postgresql://student@/week11\n",
      "10 rows affected.\n"
     ]
    },
    {
     "data": {
      "text/html": [
       "<table>\n",
       "    <thead>\n",
       "        <tr>\n",
       "            <th>cause</th>\n",
       "            <th>race</th>\n",
       "            <th>count1</th>\n",
       "        </tr>\n",
       "    </thead>\n",
       "    <tbody>\n",
       "        <tr>\n",
       "            <td>21</td>\n",
       "            <td>1</td>\n",
       "            <td>952005</td>\n",
       "        </tr>\n",
       "        <tr>\n",
       "            <td>22</td>\n",
       "            <td>1</td>\n",
       "            <td>540566</td>\n",
       "        </tr>\n",
       "        <tr>\n",
       "            <td>28</td>\n",
       "            <td>1</td>\n",
       "            <td>413257</td>\n",
       "        </tr>\n",
       "        <tr>\n",
       "            <td>15</td>\n",
       "            <td>1</td>\n",
       "            <td>408675</td>\n",
       "        </tr>\n",
       "        <tr>\n",
       "            <td>8</td>\n",
       "            <td>1</td>\n",
       "            <td>402624</td>\n",
       "        </tr>\n",
       "        <tr>\n",
       "            <td>24</td>\n",
       "            <td>1</td>\n",
       "            <td>336233</td>\n",
       "        </tr>\n",
       "        <tr>\n",
       "            <td>17</td>\n",
       "            <td>1</td>\n",
       "            <td>262304</td>\n",
       "        </tr>\n",
       "        <tr>\n",
       "            <td>16</td>\n",
       "            <td>1</td>\n",
       "            <td>180807</td>\n",
       "        </tr>\n",
       "        <tr>\n",
       "            <td>27</td>\n",
       "            <td>1</td>\n",
       "            <td>145379</td>\n",
       "        </tr>\n",
       "        <tr>\n",
       "            <td>6</td>\n",
       "            <td>1</td>\n",
       "            <td>130851</td>\n",
       "        </tr>\n",
       "    </tbody>\n",
       "</table>"
      ],
      "text/plain": [
       "[(Decimal('21'), Decimal('1'), 952005),\n",
       " (Decimal('22'), Decimal('1'), 540566),\n",
       " (Decimal('28'), Decimal('1'), 413257),\n",
       " (Decimal('15'), Decimal('1'), 408675),\n",
       " (Decimal('8'), Decimal('1'), 402624),\n",
       " (Decimal('24'), Decimal('1'), 336233),\n",
       " (Decimal('17'), Decimal('1'), 262304),\n",
       " (Decimal('16'), Decimal('1'), 180807),\n",
       " (Decimal('27'), Decimal('1'), 145379),\n",
       " (Decimal('6'), Decimal('1'), 130851)]"
      ]
     },
     "execution_count": 66,
     "metadata": {},
     "output_type": "execute_result"
    }
   ],
   "source": [
    "%%sql\n",
    "select * from Racedeath\n",
    "limit 10"
   ]
  },
  {
   "cell_type": "code",
   "execution_count": 67,
   "id": "a94d77e1-34dc-4b10-8a5e-4010563fa60f",
   "metadata": {},
   "outputs": [
    {
     "name": "stdout",
     "output_type": "stream",
     "text": [
      " * postgresql://student@/week11\n",
      "Done.\n",
      "32 rows affected.\n"
     ]
    },
    {
     "data": {
      "text/plain": [
       "[]"
      ]
     },
     "execution_count": 67,
     "metadata": {},
     "output_type": "execute_result"
    }
   ],
   "source": [
    "%%sql\n",
    "DROP TABLE IF EXISTS Raceclassdeath1 cascade;\n",
    "CREATE TABLE Raceclassdeath1 AS\n",
    "SELECT \"39_cause_recode\" AS cause, race_recode_5 AS race,count(*) AS count1 from DeathInformation as di inner join DEATHS_USA as D on\n",
    "di.key=D.deathinformation_key inner join Primary_info as inf on inf.key=D.info_key\n",
    "where race_recode_5 = 1\n",
    "AND \"39_cause_recode\" < 36\n",
    "Group by \"39_cause_recode\", race_recode_5\n",
    "Order by count (*)DESC"
   ]
  },
  {
   "cell_type": "code",
   "execution_count": 68,
   "id": "705d8532-bc58-4e17-a290-05bbb72b8c15",
   "metadata": {},
   "outputs": [
    {
     "name": "stdout",
     "output_type": "stream",
     "text": [
      " * postgresql://student@/week11\n",
      "5 rows affected.\n"
     ]
    },
    {
     "data": {
      "text/html": [
       "<table>\n",
       "    <thead>\n",
       "        <tr>\n",
       "            <th>cause</th>\n",
       "            <th>race</th>\n",
       "            <th>count1</th>\n",
       "        </tr>\n",
       "    </thead>\n",
       "    <tbody>\n",
       "        <tr>\n",
       "            <td>21</td>\n",
       "            <td>1</td>\n",
       "            <td>952005</td>\n",
       "        </tr>\n",
       "        <tr>\n",
       "            <td>22</td>\n",
       "            <td>1</td>\n",
       "            <td>540566</td>\n",
       "        </tr>\n",
       "        <tr>\n",
       "            <td>28</td>\n",
       "            <td>1</td>\n",
       "            <td>413257</td>\n",
       "        </tr>\n",
       "        <tr>\n",
       "            <td>15</td>\n",
       "            <td>1</td>\n",
       "            <td>408675</td>\n",
       "        </tr>\n",
       "        <tr>\n",
       "            <td>8</td>\n",
       "            <td>1</td>\n",
       "            <td>402624</td>\n",
       "        </tr>\n",
       "    </tbody>\n",
       "</table>"
      ],
      "text/plain": [
       "[(Decimal('21'), Decimal('1'), 952005),\n",
       " (Decimal('22'), Decimal('1'), 540566),\n",
       " (Decimal('28'), Decimal('1'), 413257),\n",
       " (Decimal('15'), Decimal('1'), 408675),\n",
       " (Decimal('8'), Decimal('1'), 402624)]"
      ]
     },
     "execution_count": 68,
     "metadata": {},
     "output_type": "execute_result"
    }
   ],
   "source": [
    "%%sql\n",
    "select * from Raceclassdeath1\n",
    "limit 5"
   ]
  },
  {
   "cell_type": "code",
   "execution_count": 69,
   "id": "b890fddb-091b-4d37-b545-6e353cdf3c16",
   "metadata": {},
   "outputs": [
    {
     "name": "stdout",
     "output_type": "stream",
     "text": [
      " * postgresql://student@/week11\n",
      "Done.\n",
      "32 rows affected.\n"
     ]
    },
    {
     "data": {
      "text/plain": [
       "[]"
      ]
     },
     "execution_count": 69,
     "metadata": {},
     "output_type": "execute_result"
    }
   ],
   "source": [
    "%%sql\n",
    "DROP TABLE IF EXISTS Raceclassdeath2;\n",
    "CREATE TABLE Raceclassdeath2 AS\n",
    "SELECT \"39_cause_recode\" AS cause, race_recode_5 AS race,count(*) AS count1 from DeathInformation as di inner join DEATHS_USA as D on\n",
    "di.key=D.deathinformation_key inner join Primary_info as inf on inf.key=D.info_key\n",
    "where race_recode_5 = 2\n",
    "AND \"39_cause_recode\" < 36\n",
    "Group by \"39_cause_recode\", race_recode_5\n",
    "Order by count (*)DESC"
   ]
  },
  {
   "cell_type": "code",
   "execution_count": 70,
   "id": "122c668d-85fd-4756-966b-c101ff6db525",
   "metadata": {},
   "outputs": [
    {
     "name": "stdout",
     "output_type": "stream",
     "text": [
      " * postgresql://student@/week11\n",
      "5 rows affected.\n"
     ]
    },
    {
     "data": {
      "text/html": [
       "<table>\n",
       "    <thead>\n",
       "        <tr>\n",
       "            <th>cause</th>\n",
       "            <th>race</th>\n",
       "            <th>count1</th>\n",
       "        </tr>\n",
       "    </thead>\n",
       "    <tbody>\n",
       "        <tr>\n",
       "            <td>21</td>\n",
       "            <td>2</td>\n",
       "            <td>119367</td>\n",
       "        </tr>\n",
       "        <tr>\n",
       "            <td>22</td>\n",
       "            <td>2</td>\n",
       "            <td>72528</td>\n",
       "        </tr>\n",
       "        <tr>\n",
       "            <td>15</td>\n",
       "            <td>2</td>\n",
       "            <td>52106</td>\n",
       "        </tr>\n",
       "        <tr>\n",
       "            <td>24</td>\n",
       "            <td>2</td>\n",
       "            <td>51431</td>\n",
       "        </tr>\n",
       "        <tr>\n",
       "            <td>8</td>\n",
       "            <td>2</td>\n",
       "            <td>49906</td>\n",
       "        </tr>\n",
       "    </tbody>\n",
       "</table>"
      ],
      "text/plain": [
       "[(Decimal('21'), Decimal('2'), 119367),\n",
       " (Decimal('22'), Decimal('2'), 72528),\n",
       " (Decimal('15'), Decimal('2'), 52106),\n",
       " (Decimal('24'), Decimal('2'), 51431),\n",
       " (Decimal('8'), Decimal('2'), 49906)]"
      ]
     },
     "execution_count": 70,
     "metadata": {},
     "output_type": "execute_result"
    }
   ],
   "source": [
    "%%sql\n",
    "select * from Raceclassdeath2\n",
    "limit 5"
   ]
  },
  {
   "cell_type": "code",
   "execution_count": 71,
   "id": "a4ff58c6-c705-49e4-bd97-5fa17c3b2165",
   "metadata": {},
   "outputs": [
    {
     "name": "stdout",
     "output_type": "stream",
     "text": [
      " * postgresql://student@/week11\n",
      "Done.\n",
      "64 rows affected.\n"
     ]
    },
    {
     "data": {
      "text/plain": [
       "[]"
      ]
     },
     "execution_count": 71,
     "metadata": {},
     "output_type": "execute_result"
    }
   ],
   "source": [
    "%%sql\n",
    "DROP TABLE IF EXISTS Raceclassdeath3;\n",
    "CREATE TABLE Raceclassdeath3 AS\n",
    "SELECT \"39_cause_recode\" AS cause, race_recode_5 AS race,count(*) AS count1 from DeathInformation as di inner join DEATHS_USA as D on\n",
    "di.key=D.deathinformation_key inner join Primary_info as inf on inf.key=D.info_key\n",
    "where race_recode_5 BETWEEN 3 and 4\n",
    "AND \"39_cause_recode\" < 36\n",
    "Group by \"39_cause_recode\", race_recode_5\n",
    "Order by count (*)DESC"
   ]
  },
  {
   "cell_type": "code",
   "execution_count": 72,
   "id": "a13bfedf-7f11-4935-99d1-3b3de00a2dac",
   "metadata": {},
   "outputs": [
    {
     "name": "stdout",
     "output_type": "stream",
     "text": [
      " * postgresql://student@/week11\n",
      "10 rows affected.\n"
     ]
    },
    {
     "data": {
      "text/html": [
       "<table>\n",
       "    <thead>\n",
       "        <tr>\n",
       "            <th>cause</th>\n",
       "            <th>race</th>\n",
       "            <th>count1</th>\n",
       "        </tr>\n",
       "    </thead>\n",
       "    <tbody>\n",
       "        <tr>\n",
       "            <td>21</td>\n",
       "            <td>4</td>\n",
       "            <td>26563</td>\n",
       "        </tr>\n",
       "        <tr>\n",
       "            <td>15</td>\n",
       "            <td>4</td>\n",
       "            <td>14562</td>\n",
       "        </tr>\n",
       "        <tr>\n",
       "            <td>24</td>\n",
       "            <td>4</td>\n",
       "            <td>13517</td>\n",
       "        </tr>\n",
       "        <tr>\n",
       "            <td>22</td>\n",
       "            <td>4</td>\n",
       "            <td>11713</td>\n",
       "        </tr>\n",
       "        <tr>\n",
       "            <td>8</td>\n",
       "            <td>4</td>\n",
       "            <td>11156</td>\n",
       "        </tr>\n",
       "        <tr>\n",
       "            <td>16</td>\n",
       "            <td>4</td>\n",
       "            <td>7357</td>\n",
       "        </tr>\n",
       "        <tr>\n",
       "            <td>21</td>\n",
       "            <td>3</td>\n",
       "            <td>6309</td>\n",
       "        </tr>\n",
       "        <tr>\n",
       "            <td>27</td>\n",
       "            <td>4</td>\n",
       "            <td>6173</td>\n",
       "        </tr>\n",
       "        <tr>\n",
       "            <td>28</td>\n",
       "            <td>4</td>\n",
       "            <td>5625</td>\n",
       "        </tr>\n",
       "        <tr>\n",
       "            <td>17</td>\n",
       "            <td>4</td>\n",
       "            <td>5323</td>\n",
       "        </tr>\n",
       "    </tbody>\n",
       "</table>"
      ],
      "text/plain": [
       "[(Decimal('21'), Decimal('4'), 26563),\n",
       " (Decimal('15'), Decimal('4'), 14562),\n",
       " (Decimal('24'), Decimal('4'), 13517),\n",
       " (Decimal('22'), Decimal('4'), 11713),\n",
       " (Decimal('8'), Decimal('4'), 11156),\n",
       " (Decimal('16'), Decimal('4'), 7357),\n",
       " (Decimal('21'), Decimal('3'), 6309),\n",
       " (Decimal('27'), Decimal('4'), 6173),\n",
       " (Decimal('28'), Decimal('4'), 5625),\n",
       " (Decimal('17'), Decimal('4'), 5323)]"
      ]
     },
     "execution_count": 72,
     "metadata": {},
     "output_type": "execute_result"
    }
   ],
   "source": [
    "%%sql\n",
    "select * from Raceclassdeath3\n",
    "limit 10"
   ]
  },
  {
   "cell_type": "markdown",
   "id": "a776065e-82e9-4b72-8ddd-32fedc2cc6e0",
   "metadata": {},
   "source": [
    "For the analysis of the distribution of causes of death over the classes of race we created four tables to provide us with clear insights. The races are identified under th race_recode_5 where in the race codes are as below:\n",
    "\n",
    "* 1 - White\n",
    "* 2 - Black\n",
    "* 3 - American Indian\n",
    "* 4 - Asian or Pacific Islander\n",
    "\n",
    "- Table 1: Race Death > An overview of the entire race data over the three years states that top 10 causes of death has affected white race alone. Since this information was not sufficient for us to analyse we further analysed each class of race and since race 3 and 4 had lesser number of deaths we grouped them as one and analysed it.\n",
    "\n",
    "- Table 2: Race Class Death 1 > These are the top 5 causes of deaths that prevail in the white race. The causes of death are as follows 21, 22, 28, 15 and 8 these are Ischemic heart diseases, Other diseases of heart, Chronic lower respiratory diseases, Other malignant neoplasms and Malignant neoplasms of trachea, bronchus and lung respectively.\n",
    "\n",
    "- Table 3: Race Class Death 2 > The top 5 causes of deaths that prevail in the black race. They are 21, 22, 15, 24 and 8 representing Ischemic heart diseases, Other diseases of heart, Other malignant neoplasms, Cerebrovascular diseases and Malignant neoplasms of trachea, bronchus and lung respectively.\n",
    "\n",
    "- Table 4: Race Class Death 3 > These include the top 10 causes of death amongst the race classes 3 and 4 that is American Indian and Asian/Pacific Islander respectively. Of the top ten, 9 causes of death are highest amidst Asian/Pacific Islander. In this analysis the causes of death not highlighted earlier will be addressed, that is death codes 16, 17 and 27 which are Diabetes mellitus, Alzheimer's disease and Influenza & pneumonia respectively.\n"
   ]
  },
  {
   "cell_type": "markdown",
   "id": "5775667a-a621-4560-9784-583c216ef0cc",
   "metadata": {},
   "source": [
    "##### Age and Cause of Death"
   ]
  },
  {
   "cell_type": "markdown",
   "id": "479a62a3-86c1-48f7-a92b-9ead53f5ab4a",
   "metadata": {},
   "source": [
    "The following analysis is based on distribution different age groups during over the three years which is depicted by age_recode_12 and current_data_year respectively. "
   ]
  },
  {
   "cell_type": "code",
   "execution_count": 73,
   "id": "3514ddfb-1f37-4e46-a8d5-1795e93d031f",
   "metadata": {},
   "outputs": [
    {
     "name": "stdout",
     "output_type": "stream",
     "text": [
      " * postgresql://student@/week11\n",
      "Done.\n",
      "12 rows affected.\n"
     ]
    },
    {
     "data": {
      "text/plain": [
       "[]"
      ]
     },
     "execution_count": 73,
     "metadata": {},
     "output_type": "execute_result"
    }
   ],
   "source": [
    "%%sql\n",
    "DROP TABLE IF EXISTS Ageyeardeath1;\n",
    "CREATE TABLE Ageyeardeath1 AS\n",
    "SELECT age_recode_12 AS age,current_data_year AS year,count(*) AS count2013 from DeathInformation as di inner join DEATHS_USA as D on\n",
    "di.key=D.deathinformation_key inner join Primary_info as inf on inf.key=D.info_key inner join Date as date on date.key=D.date_key\n",
    "where current_data_year = '2013'\n",
    "Group by age_recode_12, current_data_year\n",
    "Order by count (*)DESC"
   ]
  },
  {
   "cell_type": "code",
   "execution_count": 74,
   "id": "ba9ab363-d2f1-4263-b0d1-dace172c914d",
   "metadata": {},
   "outputs": [
    {
     "name": "stdout",
     "output_type": "stream",
     "text": [
      " * postgresql://student@/week11\n",
      "10 rows affected.\n"
     ]
    },
    {
     "data": {
      "text/html": [
       "<table>\n",
       "    <thead>\n",
       "        <tr>\n",
       "            <th>age</th>\n",
       "            <th>year</th>\n",
       "            <th>count2013</th>\n",
       "        </tr>\n",
       "    </thead>\n",
       "    <tbody>\n",
       "        <tr>\n",
       "            <td>11</td>\n",
       "            <td>2013</td>\n",
       "            <td>825557</td>\n",
       "        </tr>\n",
       "        <tr>\n",
       "            <td>10</td>\n",
       "            <td>2013</td>\n",
       "            <td>625668</td>\n",
       "        </tr>\n",
       "        <tr>\n",
       "            <td>9</td>\n",
       "            <td>2013</td>\n",
       "            <td>455322</td>\n",
       "        </tr>\n",
       "        <tr>\n",
       "            <td>8</td>\n",
       "            <td>2013</td>\n",
       "            <td>338984</td>\n",
       "        </tr>\n",
       "        <tr>\n",
       "            <td>7</td>\n",
       "            <td>2013</td>\n",
       "            <td>178311</td>\n",
       "        </tr>\n",
       "        <tr>\n",
       "            <td>6</td>\n",
       "            <td>2013</td>\n",
       "            <td>69901</td>\n",
       "        </tr>\n",
       "        <tr>\n",
       "            <td>5</td>\n",
       "            <td>2013</td>\n",
       "            <td>45710</td>\n",
       "        </tr>\n",
       "        <tr>\n",
       "            <td>4</td>\n",
       "            <td>2013</td>\n",
       "            <td>28680</td>\n",
       "        </tr>\n",
       "        <tr>\n",
       "            <td>1</td>\n",
       "            <td>2013</td>\n",
       "            <td>23497</td>\n",
       "        </tr>\n",
       "        <tr>\n",
       "            <td>3</td>\n",
       "            <td>2013</td>\n",
       "            <td>5381</td>\n",
       "        </tr>\n",
       "    </tbody>\n",
       "</table>"
      ],
      "text/plain": [
       "[(Decimal('11'), '2013', 825557),\n",
       " (Decimal('10'), '2013', 625668),\n",
       " (Decimal('9'), '2013', 455322),\n",
       " (Decimal('8'), '2013', 338984),\n",
       " (Decimal('7'), '2013', 178311),\n",
       " (Decimal('6'), '2013', 69901),\n",
       " (Decimal('5'), '2013', 45710),\n",
       " (Decimal('4'), '2013', 28680),\n",
       " (Decimal('1'), '2013', 23497),\n",
       " (Decimal('3'), '2013', 5381)]"
      ]
     },
     "execution_count": 74,
     "metadata": {},
     "output_type": "execute_result"
    }
   ],
   "source": [
    "%%sql\n",
    "select * from Ageyeardeath1\n",
    "limit 10"
   ]
  },
  {
   "cell_type": "code",
   "execution_count": 75,
   "id": "362d6dfb-c3f5-4fee-b2aa-caafec2b6e75",
   "metadata": {},
   "outputs": [
    {
     "data": {
      "text/plain": [
       "<BarContainer object of 10 artists>"
      ]
     },
     "execution_count": 75,
     "metadata": {},
     "output_type": "execute_result"
    },
    {
     "data": {
      "image/png": "[encoded data removed]",
      "text/plain": [
       "<Figure size 640x480 with 1 Axes>"
      ]
     },
     "metadata": {},
     "output_type": "display_data"
    }
   ],
   "source": [
    "_.bar()"
   ]
  },
  {
   "cell_type": "code",
   "execution_count": 76,
   "id": "02ec036f-4b9a-4a5d-877a-736c5b96dc3d",
   "metadata": {},
   "outputs": [
    {
     "name": "stdout",
     "output_type": "stream",
     "text": [
      " * postgresql://student@/week11\n",
      "Done.\n",
      "12 rows affected.\n"
     ]
    },
    {
     "data": {
      "text/plain": [
       "[]"
      ]
     },
     "execution_count": 76,
     "metadata": {},
     "output_type": "execute_result"
    }
   ],
   "source": [
    "%%sql\n",
    "DROP TABLE IF EXISTS Ageyeardeath2;\n",
    "CREATE TABLE Ageyeardeath2 AS\n",
    "SELECT age_recode_12 AS age,current_data_year AS year,count(*) AS count2014 from DeathInformation as di inner join DEATHS_USA as D on\n",
    "di.key=D.deathinformation_key inner join Primary_info as inf on inf.key=D.info_key inner join Date as date on date.key=D.date_key\n",
    "where current_data_year = '2014'\n",
    "Group by age_recode_12, current_data_year\n",
    "Order by count (*)DESC"
   ]
  },
  {
   "cell_type": "code",
   "execution_count": 77,
   "id": "07c26921-9d61-44ff-8382-8d6ab7f4324c",
   "metadata": {},
   "outputs": [
    {
     "name": "stdout",
     "output_type": "stream",
     "text": [
      " * postgresql://student@/week11\n",
      "10 rows affected.\n"
     ]
    },
    {
     "data": {
      "text/html": [
       "<table>\n",
       "    <thead>\n",
       "        <tr>\n",
       "            <th>age</th>\n",
       "            <th>year</th>\n",
       "            <th>count2014</th>\n",
       "        </tr>\n",
       "    </thead>\n",
       "    <tbody>\n",
       "        <tr>\n",
       "            <td>11</td>\n",
       "            <td>2014</td>\n",
       "            <td>826579</td>\n",
       "        </tr>\n",
       "        <tr>\n",
       "            <td>10</td>\n",
       "            <td>2014</td>\n",
       "            <td>625247</td>\n",
       "        </tr>\n",
       "        <tr>\n",
       "            <td>9</td>\n",
       "            <td>2014</td>\n",
       "            <td>472544</td>\n",
       "        </tr>\n",
       "        <tr>\n",
       "            <td>8</td>\n",
       "            <td>2014</td>\n",
       "            <td>349779</td>\n",
       "        </tr>\n",
       "        <tr>\n",
       "            <td>7</td>\n",
       "            <td>2014</td>\n",
       "            <td>176505</td>\n",
       "        </tr>\n",
       "        <tr>\n",
       "            <td>6</td>\n",
       "            <td>2014</td>\n",
       "            <td>71325</td>\n",
       "        </tr>\n",
       "        <tr>\n",
       "            <td>5</td>\n",
       "            <td>2014</td>\n",
       "            <td>47437</td>\n",
       "        </tr>\n",
       "        <tr>\n",
       "            <td>4</td>\n",
       "            <td>2014</td>\n",
       "            <td>28970</td>\n",
       "        </tr>\n",
       "        <tr>\n",
       "            <td>1</td>\n",
       "            <td>2014</td>\n",
       "            <td>23290</td>\n",
       "        </tr>\n",
       "        <tr>\n",
       "            <td>3</td>\n",
       "            <td>2014</td>\n",
       "            <td>5283</td>\n",
       "        </tr>\n",
       "    </tbody>\n",
       "</table>"
      ],
      "text/plain": [
       "[(Decimal('11'), '2014', 826579),\n",
       " (Decimal('10'), '2014', 625247),\n",
       " (Decimal('9'), '2014', 472544),\n",
       " (Decimal('8'), '2014', 349779),\n",
       " (Decimal('7'), '2014', 176505),\n",
       " (Decimal('6'), '2014', 71325),\n",
       " (Decimal('5'), '2014', 47437),\n",
       " (Decimal('4'), '2014', 28970),\n",
       " (Decimal('1'), '2014', 23290),\n",
       " (Decimal('3'), '2014', 5283)]"
      ]
     },
     "execution_count": 77,
     "metadata": {},
     "output_type": "execute_result"
    }
   ],
   "source": [
    "%%sql\n",
    "select * from Ageyeardeath2\n",
    "limit 10"
   ]
  },
  {
   "cell_type": "code",
   "execution_count": 78,
   "id": "ec643486-2967-4e6b-ad08-5d38b1d8acee",
   "metadata": {},
   "outputs": [
    {
     "data": {
      "text/plain": [
       "<BarContainer object of 10 artists>"
      ]
     },
     "execution_count": 78,
     "metadata": {},
     "output_type": "execute_result"
    },
    {
     "data": {
      "image/png": "[encoded data removed]",
      "text/plain": [
       "<Figure size 640x480 with 1 Axes>"
      ]
     },
     "metadata": {},
     "output_type": "display_data"
    }
   ],
   "source": [
    "_.bar()"
   ]
  },
  {
   "cell_type": "code",
   "execution_count": 79,
   "id": "5044d064-378e-42e9-ade3-9e6019e8e2cf",
   "metadata": {},
   "outputs": [
    {
     "name": "stdout",
     "output_type": "stream",
     "text": [
      " * postgresql://student@/week11\n",
      "Done.\n",
      "12 rows affected.\n"
     ]
    },
    {
     "data": {
      "text/plain": [
       "[]"
      ]
     },
     "execution_count": 79,
     "metadata": {},
     "output_type": "execute_result"
    }
   ],
   "source": [
    "%%sql\n",
    "DROP TABLE IF EXISTS Ageyeardeath3;\n",
    "CREATE TABLE Ageyeardeath3 AS\n",
    "SELECT age_recode_12 AS age,current_data_year AS year,count(*) AS count2015 from DeathInformation as di inner join DEATHS_USA as D on\n",
    "di.key=D.deathinformation_key inner join Primary_info as inf on inf.key=D.info_key inner join Date as date on date.key=D.date_key\n",
    "where current_data_year = '2015'\n",
    "Group by age_recode_12, current_data_year\n",
    "Order by count (*)DESC"
   ]
  },
  {
   "cell_type": "code",
   "execution_count": 80,
   "id": "c76d8611-a4ca-41f4-b529-84e559dbedff",
   "metadata": {},
   "outputs": [
    {
     "name": "stdout",
     "output_type": "stream",
     "text": [
      " * postgresql://student@/week11\n",
      "10 rows affected.\n"
     ]
    },
    {
     "data": {
      "text/html": [
       "<table>\n",
       "    <thead>\n",
       "        <tr>\n",
       "            <th>age</th>\n",
       "            <th>year</th>\n",
       "            <th>count2015</th>\n",
       "        </tr>\n",
       "    </thead>\n",
       "    <tbody>\n",
       "        <tr>\n",
       "            <td>11</td>\n",
       "            <td>2015</td>\n",
       "            <td>860145</td>\n",
       "        </tr>\n",
       "        <tr>\n",
       "            <td>10</td>\n",
       "            <td>2015</td>\n",
       "            <td>638426</td>\n",
       "        </tr>\n",
       "        <tr>\n",
       "            <td>9</td>\n",
       "            <td>2015</td>\n",
       "            <td>496187</td>\n",
       "        </tr>\n",
       "        <tr>\n",
       "            <td>8</td>\n",
       "            <td>2015</td>\n",
       "            <td>358984</td>\n",
       "        </tr>\n",
       "        <tr>\n",
       "            <td>7</td>\n",
       "            <td>2015</td>\n",
       "            <td>175162</td>\n",
       "        </tr>\n",
       "        <tr>\n",
       "            <td>6</td>\n",
       "            <td>2015</td>\n",
       "            <td>73458</td>\n",
       "        </tr>\n",
       "        <tr>\n",
       "            <td>5</td>\n",
       "            <td>2015</td>\n",
       "            <td>51794</td>\n",
       "        </tr>\n",
       "        <tr>\n",
       "            <td>4</td>\n",
       "            <td>2015</td>\n",
       "            <td>30690</td>\n",
       "        </tr>\n",
       "        <tr>\n",
       "            <td>1</td>\n",
       "            <td>2015</td>\n",
       "            <td>23526</td>\n",
       "        </tr>\n",
       "        <tr>\n",
       "            <td>3</td>\n",
       "            <td>2015</td>\n",
       "            <td>5454</td>\n",
       "        </tr>\n",
       "    </tbody>\n",
       "</table>"
      ],
      "text/plain": [
       "[(Decimal('11'), '2015', 860145),\n",
       " (Decimal('10'), '2015', 638426),\n",
       " (Decimal('9'), '2015', 496187),\n",
       " (Decimal('8'), '2015', 358984),\n",
       " (Decimal('7'), '2015', 175162),\n",
       " (Decimal('6'), '2015', 73458),\n",
       " (Decimal('5'), '2015', 51794),\n",
       " (Decimal('4'), '2015', 30690),\n",
       " (Decimal('1'), '2015', 23526),\n",
       " (Decimal('3'), '2015', 5454)]"
      ]
     },
     "execution_count": 80,
     "metadata": {},
     "output_type": "execute_result"
    }
   ],
   "source": [
    "%%sql\n",
    "select * from Ageyeardeath3\n",
    "limit 10"
   ]
  },
  {
   "cell_type": "code",
   "execution_count": 81,
   "id": "b324a2e5-9352-49d1-8f10-023cf97d89a4",
   "metadata": {},
   "outputs": [
    {
     "data": {
      "text/plain": [
       "<BarContainer object of 10 artists>"
      ]
     },
     "execution_count": 81,
     "metadata": {},
     "output_type": "execute_result"
    },
    {
     "data": {
      "image/png": "[encoded data removed]",
      "text/plain": [
       "<Figure size 640x480 with 1 Axes>"
      ]
     },
     "metadata": {},
     "output_type": "display_data"
    }
   ],
   "source": [
    "_.bar()"
   ]
  },
  {
   "cell_type": "code",
   "execution_count": 82,
   "id": "d39e8983-b705-4ed7-b832-114f006fd08c",
   "metadata": {},
   "outputs": [
    {
     "name": "stdout",
     "output_type": "stream",
     "text": [
      " * postgresql://student@/week11\n",
      "1 rows affected.\n"
     ]
    },
    {
     "data": {
      "text/html": [
       "<table>\n",
       "    <thead>\n",
       "        <tr>\n",
       "            <th>sum</th>\n",
       "        </tr>\n",
       "    </thead>\n",
       "    <tbody>\n",
       "        <tr>\n",
       "            <td>2718198</td>\n",
       "        </tr>\n",
       "    </tbody>\n",
       "</table>"
      ],
      "text/plain": [
       "[(Decimal('2718198'),)]"
      ]
     },
     "execution_count": 82,
     "metadata": {},
     "output_type": "execute_result"
    }
   ],
   "source": [
    "%%sql\n",
    "select sum(count2015) from Ageyeardeath3"
   ]
  },
  {
   "cell_type": "markdown",
   "id": "7e81b68a-7e6f-454a-8828-5986ee6411c8",
   "metadata": {},
   "source": [
    "In the above visualizations, we have performed a basic analysis to obtain the distribution of the number of deaths across the age groups in 2013, 2014 and 2015. We have noted that there is no significant rise or drop in the number of deaths accross any of the age groups. \n",
    "\n",
    "For example we consistently note that over the three year age groups 9,10,11 have the highest death numbers. Age groups 9, 10 and 11 stand for 65-74 years, 75-84 years and 85 years & above. For further analysis of 2015 deaths we have grouped age groups into three categories to obtain a broader perspective of death distribution over the age categories. "
   ]
  },
  {
   "cell_type": "code",
   "execution_count": 83,
   "id": "df3cbd85-d253-445d-b738-72b28d3670ff",
   "metadata": {},
   "outputs": [
    {
     "name": "stdout",
     "output_type": "stream",
     "text": [
      " * postgresql://student@/week11\n",
      "Done.\n",
      "4 rows affected.\n"
     ]
    },
    {
     "data": {
      "text/plain": [
       "[]"
      ]
     },
     "execution_count": 83,
     "metadata": {},
     "output_type": "execute_result"
    }
   ],
   "source": [
    "%%sql\n",
    "DROP TABLE IF EXISTS Agedeath1;\n",
    "CREATE TABLE Agedeath1 AS\n",
    "SELECT age_recode_12 AS age,current_data_year AS year,count(*) AS count1 from DeathInformation as di inner join DEATHS_USA as D on\n",
    "di.key=D.deathinformation_key inner join Primary_info as inf on inf.key=D.info_key inner join Date as date on date.key=D.date_key\n",
    "where current_data_year = '2015'\n",
    "AND age_recode_12 < 5\n",
    "Group by age_recode_12, current_data_year\n",
    "Order by count (*)DESC"
   ]
  },
  {
   "cell_type": "code",
   "execution_count": 84,
   "id": "029a6c1b-56b1-45b5-8b75-eca47fb513f2",
   "metadata": {},
   "outputs": [
    {
     "name": "stdout",
     "output_type": "stream",
     "text": [
      " * postgresql://student@/week11\n",
      "1 rows affected.\n"
     ]
    },
    {
     "data": {
      "text/html": [
       "<table>\n",
       "    <thead>\n",
       "        <tr>\n",
       "            <th>sum</th>\n",
       "        </tr>\n",
       "    </thead>\n",
       "    <tbody>\n",
       "        <tr>\n",
       "            <td>63669</td>\n",
       "        </tr>\n",
       "    </tbody>\n",
       "</table>"
      ],
      "text/plain": [
       "[(Decimal('63669'),)]"
      ]
     },
     "execution_count": 84,
     "metadata": {},
     "output_type": "execute_result"
    }
   ],
   "source": [
    "%%sql\n",
    "select sum(count1) from Agedeath1"
   ]
  },
  {
   "cell_type": "code",
   "execution_count": 85,
   "id": "0aface25-f79a-4e63-a54e-0c0f6f610b38",
   "metadata": {},
   "outputs": [
    {
     "name": "stdout",
     "output_type": "stream",
     "text": [
      " * postgresql://student@/week11\n",
      "Done.\n",
      "3 rows affected.\n"
     ]
    },
    {
     "data": {
      "text/plain": [
       "[]"
      ]
     },
     "execution_count": 85,
     "metadata": {},
     "output_type": "execute_result"
    }
   ],
   "source": [
    "%%sql\n",
    "DROP TABLE IF EXISTS Agedeath2;\n",
    "CREATE TABLE Agedeath2 AS\n",
    "SELECT age_recode_12 AS age,current_data_year AS year,count(*) AS count1 from DeathInformation as di inner join DEATHS_USA as D on\n",
    "di.key=D.deathinformation_key inner join Primary_info as inf on inf.key=D.info_key inner join Date as date on date.key=D.date_key\n",
    "where current_data_year = '2015'\n",
    "AND age_recode_12 BETWEEN 5 and 7\n",
    "Group by age_recode_12, current_data_year\n",
    "Order by count (*)DESC"
   ]
  },
  {
   "cell_type": "code",
   "execution_count": 86,
   "id": "e14c2747-319f-456e-81d6-e0580f0e3ed8",
   "metadata": {},
   "outputs": [
    {
     "name": "stdout",
     "output_type": "stream",
     "text": [
      " * postgresql://student@/week11\n",
      "1 rows affected.\n"
     ]
    },
    {
     "data": {
      "text/html": [
       "<table>\n",
       "    <thead>\n",
       "        <tr>\n",
       "            <th>sum</th>\n",
       "        </tr>\n",
       "    </thead>\n",
       "    <tbody>\n",
       "        <tr>\n",
       "            <td>300414</td>\n",
       "        </tr>\n",
       "    </tbody>\n",
       "</table>"
      ],
      "text/plain": [
       "[(Decimal('300414'),)]"
      ]
     },
     "execution_count": 86,
     "metadata": {},
     "output_type": "execute_result"
    }
   ],
   "source": [
    "%%sql\n",
    "select sum(count1) from Agedeath2"
   ]
  },
  {
   "cell_type": "code",
   "execution_count": 87,
   "id": "c1894369-534a-4bd7-8dc8-37c2efe7ad58",
   "metadata": {},
   "outputs": [
    {
     "name": "stdout",
     "output_type": "stream",
     "text": [
      " * postgresql://student@/week11\n",
      "Done.\n",
      "5 rows affected.\n"
     ]
    },
    {
     "data": {
      "text/plain": [
       "[]"
      ]
     },
     "execution_count": 87,
     "metadata": {},
     "output_type": "execute_result"
    }
   ],
   "source": [
    "%%sql\n",
    "DROP TABLE IF EXISTS Agedeath3;\n",
    "CREATE TABLE Agedeath3 AS\n",
    "SELECT age_recode_12 AS age,current_data_year AS year,count(*) AS count1 from DeathInformation as di inner join DEATHS_USA as D on\n",
    "di.key=D.deathinformation_key inner join Primary_info as inf on inf.key=D.info_key inner join Date as date on date.key=D.date_key\n",
    "where current_data_year = '2015'\n",
    "AND age_recode_12 > 7\n",
    "Group by age_recode_12, current_data_year\n",
    "Order by count (*)DESC"
   ]
  },
  {
   "cell_type": "code",
   "execution_count": 88,
   "id": "597b8af5-ac05-48dd-afc3-7b09eb380cfc",
   "metadata": {},
   "outputs": [
    {
     "name": "stdout",
     "output_type": "stream",
     "text": [
      " * postgresql://student@/week11\n",
      "1 rows affected.\n"
     ]
    },
    {
     "data": {
      "text/html": [
       "<table>\n",
       "    <thead>\n",
       "        <tr>\n",
       "            <th>sum</th>\n",
       "        </tr>\n",
       "    </thead>\n",
       "    <tbody>\n",
       "        <tr>\n",
       "            <td>2354115</td>\n",
       "        </tr>\n",
       "    </tbody>\n",
       "</table>"
      ],
      "text/plain": [
       "[(Decimal('2354115'),)]"
      ]
     },
     "execution_count": 88,
     "metadata": {},
     "output_type": "execute_result"
    }
   ],
   "source": [
    "%%sql\n",
    "select sum(count1) from Agedeath3"
   ]
  },
  {
   "cell_type": "markdown",
   "id": "b0644939-109d-4f7c-94d3-23c01d5c9660",
   "metadata": {},
   "source": [
    "To further analyze the number of deaths within age groups, we grouped the age_recode_12 into broader categories as follows:\n",
    "* 1-5 (<5) which includes age groups under 1 year, 1-4 years, 5-14 years and 15-24 years. This group represents 2.34% of the deaths.\n",
    "* 5-7 (Between 5 - 7) includes age groups 25-34 years, 35-44 years and 45-54 years that represent 11.05% of deaths.\n",
    "* Above 7 (>7) includes 55-64 years, 65-74 years, 75-84 years and above 85 years who represent 86.61% of the deaths.\n",
    "\n",
    "This statistic is logical in the sense that majority of the deaths occur at older ages mostly due the individuals age itself and low immunity against diseases which make them weaker and eventually cause their death."
   ]
  },
  {
   "cell_type": "markdown",
   "id": "9133945c-7ead-4ae5-874f-05d180df86af",
   "metadata": {},
   "source": [
    "##### Heart disease analysis for all age groups:"
   ]
  },
  {
   "cell_type": "code",
   "execution_count": 89,
   "id": "157e42cd-8b54-4f6b-a87d-f462b7f983d9",
   "metadata": {},
   "outputs": [
    {
     "name": "stdout",
     "output_type": "stream",
     "text": [
      " * postgresql://student@/week11\n",
      "Done.\n",
      "11 rows affected.\n"
     ]
    },
    {
     "data": {
      "text/plain": [
       "[]"
      ]
     },
     "execution_count": 89,
     "metadata": {},
     "output_type": "execute_result"
    }
   ],
   "source": [
    "%%sql\n",
    "DROP TABLE IF EXISTS Heart_Disease;\n",
    "CREATE TABLE Heart_Disease AS\n",
    "SELECT  \"39_cause_recode\" AS cause, age_recode_12 AS age,count(*) AS count1 from DeathInformation as di inner join DEATHS_USA as D on\n",
    "di.key=D.deathinformation_key inner join Primary_info as inf on inf.key=D.info_key\n",
    "where \"39_cause_recode\"=22\n",
    "AND age_recode_12<12\n",
    "group by \"cause\", age\n",
    "\n",
    "ORDER BY age DESC"
   ]
  },
  {
   "cell_type": "code",
   "execution_count": 90,
   "id": "e7e82e9a-a0a0-48cd-876b-de1982921a19",
   "metadata": {},
   "outputs": [
    {
     "name": "stdout",
     "output_type": "stream",
     "text": [
      " * postgresql://student@/week11\n",
      "11 rows affected.\n"
     ]
    },
    {
     "data": {
      "text/html": [
       "<table>\n",
       "    <thead>\n",
       "        <tr>\n",
       "            <th>cause</th>\n",
       "            <th>age</th>\n",
       "            <th>count1</th>\n",
       "        </tr>\n",
       "    </thead>\n",
       "    <tbody>\n",
       "        <tr>\n",
       "            <td>22</td>\n",
       "            <td>11</td>\n",
       "            <td>284286</td>\n",
       "        </tr>\n",
       "        <tr>\n",
       "            <td>22</td>\n",
       "            <td>10</td>\n",
       "            <td>149078</td>\n",
       "        </tr>\n",
       "        <tr>\n",
       "            <td>22</td>\n",
       "            <td>9</td>\n",
       "            <td>87353</td>\n",
       "        </tr>\n",
       "        <tr>\n",
       "            <td>22</td>\n",
       "            <td>8</td>\n",
       "            <td>56875</td>\n",
       "        </tr>\n",
       "        <tr>\n",
       "            <td>22</td>\n",
       "            <td>7</td>\n",
       "            <td>28438</td>\n",
       "        </tr>\n",
       "        <tr>\n",
       "            <td>22</td>\n",
       "            <td>6</td>\n",
       "            <td>11426</td>\n",
       "        </tr>\n",
       "        <tr>\n",
       "            <td>22</td>\n",
       "            <td>5</td>\n",
       "            <td>5823</td>\n",
       "        </tr>\n",
       "        <tr>\n",
       "            <td>22</td>\n",
       "            <td>4</td>\n",
       "            <td>2350</td>\n",
       "        </tr>\n",
       "        <tr>\n",
       "            <td>22</td>\n",
       "            <td>3</td>\n",
       "            <td>547</td>\n",
       "        </tr>\n",
       "        <tr>\n",
       "            <td>22</td>\n",
       "            <td>2</td>\n",
       "            <td>447</td>\n",
       "        </tr>\n",
       "        <tr>\n",
       "            <td>22</td>\n",
       "            <td>1</td>\n",
       "            <td>894</td>\n",
       "        </tr>\n",
       "    </tbody>\n",
       "</table>"
      ],
      "text/plain": [
       "[(Decimal('22'), Decimal('11'), 284286),\n",
       " (Decimal('22'), Decimal('10'), 149078),\n",
       " (Decimal('22'), Decimal('9'), 87353),\n",
       " (Decimal('22'), Decimal('8'), 56875),\n",
       " (Decimal('22'), Decimal('7'), 28438),\n",
       " (Decimal('22'), Decimal('6'), 11426),\n",
       " (Decimal('22'), Decimal('5'), 5823),\n",
       " (Decimal('22'), Decimal('4'), 2350),\n",
       " (Decimal('22'), Decimal('3'), 547),\n",
       " (Decimal('22'), Decimal('2'), 447),\n",
       " (Decimal('22'), Decimal('1'), 894)]"
      ]
     },
     "execution_count": 90,
     "metadata": {},
     "output_type": "execute_result"
    }
   ],
   "source": [
    "%%sql\n",
    "select * from Heart_Disease"
   ]
  },
  {
   "cell_type": "markdown",
   "id": "c9316ac1-692d-4b34-8b48-49c8e1e0d7c9",
   "metadata": {},
   "source": [
    "The age groups are defined as follows:\n",
    "* 1 - Under 1 year\n",
    "* 2 - 1 to 4 years\n",
    "* 3 - 5 to 14 years\n",
    "* 4 - 15 to 24 years\n",
    "* 5 - 25 to 34 years\n",
    "* 6 - 35 to 44 years\n",
    "* 7 - 45 to 54 years\n",
    "* 8 - 55 to 64 years\n",
    "* 9 - 65 to 74 years\n",
    "* 10 - 75 to 84 years\n",
    "* 11 - 85 years and over\n",
    "\n",
    "*As it can be seen from the table the most number of deaths by heart disease is in the age groups 8-11. This provides as proof to common knowledge that older individuals are more prone to heart disease. For those above 85 years old, it would be best to believe it as a natural cause of death due to old age but for the other age groups we could consider further analysis on how to improve the longetivity for senior citizens. This analytical data could provided to organizations that take care of health requirements, it would help them to better cater to the correct age groups provide them with the guidelines for a lifestyle that would improve their heart health.* "
   ]
  },
  {
   "cell_type": "code",
   "execution_count": 91,
   "id": "895ce129-c03f-484f-a437-a6b4675c8a96",
   "metadata": {},
   "outputs": [
    {
     "data": {
      "text/plain": [
       "<BarContainer object of 11 artists>"
      ]
     },
     "execution_count": 91,
     "metadata": {},
     "output_type": "execute_result"
    },
    {
     "data": {
      "image/png": "[encoded data removed]",
      "text/plain": [
       "<Figure size 640x480 with 1 Axes>"
      ]
     },
     "metadata": {},
     "output_type": "display_data"
    }
   ],
   "source": [
    "_.bar()"
   ]
  },
  {
   "cell_type": "code",
   "execution_count": 92,
   "id": "0801c1f5-6ef9-4698-bacf-4fb0ee1f634e",
   "metadata": {},
   "outputs": [
    {
     "name": "stdout",
     "output_type": "stream",
     "text": [
      " * postgresql://student@/week11\n",
      "1 rows affected.\n"
     ]
    },
    {
     "data": {
      "text/html": [
       "<table>\n",
       "    <thead>\n",
       "        <tr>\n",
       "            <th>sum</th>\n",
       "        </tr>\n",
       "    </thead>\n",
       "    <tbody>\n",
       "        <tr>\n",
       "            <td>627517</td>\n",
       "        </tr>\n",
       "    </tbody>\n",
       "</table>"
      ],
      "text/plain": [
       "[(Decimal('627517'),)]"
      ]
     },
     "execution_count": 92,
     "metadata": {},
     "output_type": "execute_result"
    }
   ],
   "source": [
    "%%sql\n",
    "select sum(count1) from Heart_Disease"
   ]
  },
  {
   "cell_type": "code",
   "execution_count": 122,
   "id": "90292d09-3eaf-423f-9120-4b6826c30001",
   "metadata": {},
   "outputs": [
    {
     "name": "stdout",
     "output_type": "stream",
     "text": [
      " * postgresql://student@/week11\n",
      "Done.\n",
      "4 rows affected.\n"
     ]
    },
    {
     "data": {
      "text/plain": [
       "[]"
      ]
     },
     "execution_count": 122,
     "metadata": {},
     "output_type": "execute_result"
    }
   ],
   "source": [
    "%%sql\n",
    "DROP TABLE IF EXISTS Heart_Disease_above55;\n",
    "CREATE TABLE Heart_Disease_above55 AS\n",
    "select \"39_cause_recode\" AS cause, age_recode_12 AS age,count(*) AS count2 from DeathInformation as di inner join DEATHS_USA as D on\n",
    "di.key=D.deathinformation_key inner join Primary_info as inf on inf.key=D.info_key \n",
    "where \"39_cause_recode\"=22 AND age_recode_12>7 AND age_recode_12<12\n",
    "group by \"cause\", age\n",
    "ORDER BY count(*) DESC"
   ]
  },
  {
   "cell_type": "code",
   "execution_count": 123,
   "id": "27fc1e78-8c29-45bb-b82b-154523dcbd3e",
   "metadata": {},
   "outputs": [
    {
     "name": "stdout",
     "output_type": "stream",
     "text": [
      " * postgresql://student@/week11\n",
      "4 rows affected.\n"
     ]
    },
    {
     "data": {
      "text/html": [
       "<table>\n",
       "    <thead>\n",
       "        <tr>\n",
       "            <th>cause</th>\n",
       "            <th>age</th>\n",
       "            <th>count2</th>\n",
       "        </tr>\n",
       "    </thead>\n",
       "    <tbody>\n",
       "        <tr>\n",
       "            <td>22</td>\n",
       "            <td>11</td>\n",
       "            <td>284286</td>\n",
       "        </tr>\n",
       "        <tr>\n",
       "            <td>22</td>\n",
       "            <td>10</td>\n",
       "            <td>149078</td>\n",
       "        </tr>\n",
       "        <tr>\n",
       "            <td>22</td>\n",
       "            <td>9</td>\n",
       "            <td>87353</td>\n",
       "        </tr>\n",
       "        <tr>\n",
       "            <td>22</td>\n",
       "            <td>8</td>\n",
       "            <td>56875</td>\n",
       "        </tr>\n",
       "    </tbody>\n",
       "</table>"
      ],
      "text/plain": [
       "[(Decimal('22'), Decimal('11'), 284286),\n",
       " (Decimal('22'), Decimal('10'), 149078),\n",
       " (Decimal('22'), Decimal('9'), 87353),\n",
       " (Decimal('22'), Decimal('8'), 56875)]"
      ]
     },
     "execution_count": 123,
     "metadata": {},
     "output_type": "execute_result"
    }
   ],
   "source": [
    "%%sql\n",
    "select * from Heart_Disease_above55"
   ]
  },
  {
   "cell_type": "code",
   "execution_count": 124,
   "id": "ae958ff3-a4bb-4102-9e6f-5d9274d05ed5",
   "metadata": {},
   "outputs": [
    {
     "name": "stdout",
     "output_type": "stream",
     "text": [
      " * postgresql://student@/week11\n",
      "1 rows affected.\n"
     ]
    },
    {
     "data": {
      "text/html": [
       "<table>\n",
       "    <thead>\n",
       "        <tr>\n",
       "            <th>sum</th>\n",
       "        </tr>\n",
       "    </thead>\n",
       "    <tbody>\n",
       "        <tr>\n",
       "            <td>577592</td>\n",
       "        </tr>\n",
       "    </tbody>\n",
       "</table>"
      ],
      "text/plain": [
       "[(Decimal('577592'),)]"
      ]
     },
     "execution_count": 124,
     "metadata": {},
     "output_type": "execute_result"
    }
   ],
   "source": [
    "%%sql\n",
    "select sum(count2) from Heart_Disease_above55"
   ]
  },
  {
   "cell_type": "markdown",
   "id": "dc053c29-275b-4cb0-b089-5a0676c41f41",
   "metadata": {},
   "source": [
    "*From the heart disease table we computed the total number of deaths due to heart disease is 577,592 out of which 627,517 belong to the age categories of 55+. This forms around 92.04%.*"
   ]
  },
  {
   "cell_type": "code",
   "execution_count": 96,
   "id": "71a08448-4bdc-4f84-b850-145e9fbd1f5c",
   "metadata": {},
   "outputs": [
    {
     "name": "stdout",
     "output_type": "stream",
     "text": [
      " * postgresql://student@/week11\n",
      "Done.\n",
      "5 rows affected.\n"
     ]
    },
    {
     "data": {
      "text/plain": [
       "[]"
      ]
     },
     "execution_count": 96,
     "metadata": {},
     "output_type": "execute_result"
    }
   ],
   "source": [
    "%%sql\n",
    "DROP TABLE IF EXISTS causeplace;\n",
    "CREATE TABLE causeplace AS\n",
    "select \"39_cause_recode\" AS Cause,place_of_death_and_decedents_status AS Place, marital_status AS marital,count(*) from DeathInformation as di inner join DEATHS_USA as D on\n",
    "di.key=D.deathinformation_key inner join Location as loc on loc.key=D.location_key inner join Primary_info as inf on inf.key=D.info_key\n",
    "where \"39_cause_recode\" =22\n",
    "AND place_of_death_and_decedents_status= 4\n",
    "group by \"39_cause_recode\", place_of_death_and_decedents_status, marital_status\n",
    "ORDER BY Count(*) DESC"
   ]
  },
  {
   "cell_type": "code",
   "execution_count": 97,
   "id": "10d0a228-9b1f-4e5b-9860-aec6881c3bea",
   "metadata": {},
   "outputs": [
    {
     "name": "stdout",
     "output_type": "stream",
     "text": [
      " * postgresql://student@/week11\n",
      "5 rows affected.\n"
     ]
    },
    {
     "data": {
      "text/html": [
       "<table>\n",
       "    <thead>\n",
       "        <tr>\n",
       "            <th>cause</th>\n",
       "            <th>place</th>\n",
       "            <th>marital</th>\n",
       "            <th>count</th>\n",
       "        </tr>\n",
       "    </thead>\n",
       "    <tbody>\n",
       "        <tr>\n",
       "            <td>22</td>\n",
       "            <td>4</td>\n",
       "            <td>W</td>\n",
       "            <td>74921</td>\n",
       "        </tr>\n",
       "        <tr>\n",
       "            <td>22</td>\n",
       "            <td>4</td>\n",
       "            <td>M</td>\n",
       "            <td>60003</td>\n",
       "        </tr>\n",
       "        <tr>\n",
       "            <td>22</td>\n",
       "            <td>4</td>\n",
       "            <td>D</td>\n",
       "            <td>22236</td>\n",
       "        </tr>\n",
       "        <tr>\n",
       "            <td>22</td>\n",
       "            <td>4</td>\n",
       "            <td>S</td>\n",
       "            <td>14277</td>\n",
       "        </tr>\n",
       "        <tr>\n",
       "            <td>22</td>\n",
       "            <td>4</td>\n",
       "            <td>U</td>\n",
       "            <td>787</td>\n",
       "        </tr>\n",
       "    </tbody>\n",
       "</table>"
      ],
      "text/plain": [
       "[(Decimal('22'), Decimal('4'), 'W', 74921),\n",
       " (Decimal('22'), Decimal('4'), 'M', 60003),\n",
       " (Decimal('22'), Decimal('4'), 'D', 22236),\n",
       " (Decimal('22'), Decimal('4'), 'S', 14277),\n",
       " (Decimal('22'), Decimal('4'), 'U', 787)]"
      ]
     },
     "execution_count": 97,
     "metadata": {},
     "output_type": "execute_result"
    }
   ],
   "source": [
    "%%sql\n",
    "select * from causeplace\n",
    "limit 5"
   ]
  },
  {
   "cell_type": "code",
   "execution_count": 98,
   "id": "e904db10-b5dd-417f-bdaa-c3bb5cd00491",
   "metadata": {},
   "outputs": [
    {
     "name": "stdout",
     "output_type": "stream",
     "text": [
      " * postgresql://student@/week11\n",
      "1 rows affected.\n"
     ]
    },
    {
     "data": {
      "text/html": [
       "<table>\n",
       "    <thead>\n",
       "        <tr>\n",
       "            <th>sum</th>\n",
       "        </tr>\n",
       "    </thead>\n",
       "    <tbody>\n",
       "        <tr>\n",
       "            <td>172224</td>\n",
       "        </tr>\n",
       "    </tbody>\n",
       "</table>"
      ],
      "text/plain": [
       "[(Decimal('172224'),)]"
      ]
     },
     "execution_count": 98,
     "metadata": {},
     "output_type": "execute_result"
    }
   ],
   "source": [
    "%%sql\n",
    "select sum(count) from causeplace"
   ]
  },
  {
   "cell_type": "code",
   "execution_count": 99,
   "id": "bc444e7f-32b3-4582-b5ed-3e1e189bc63e",
   "metadata": {},
   "outputs": [
    {
     "name": "stdout",
     "output_type": "stream",
     "text": [
      " * postgresql://student@/week11\n",
      "Done.\n",
      "1 rows affected.\n"
     ]
    },
    {
     "data": {
      "text/plain": [
       "[]"
      ]
     },
     "execution_count": 99,
     "metadata": {},
     "output_type": "execute_result"
    }
   ],
   "source": [
    "%%sql\n",
    "DROP TABLE IF EXISTS causeplace;\n",
    "CREATE TABLE causeplace AS\n",
    "select \"39_cause_recode\" AS Cause,place_of_death_and_decedents_status,marital_status AS marital,count(*) from DeathInformation as di inner join DEATHS_USA as D on\n",
    "di.key=D.deathinformation_key inner join Location as loc on loc.key=D.location_key inner join Primary_info as inf on inf.key=D.info_key\n",
    "where \"39_cause_recode\" =22\n",
    "AND place_of_death_and_decedents_status= 4\n",
    "AND marital_status ='M'\n",
    "group by \"39_cause_recode\", place_of_death_and_decedents_status,marital_status\n",
    "ORDER BY Count(*) DESC"
   ]
  },
  {
   "cell_type": "code",
   "execution_count": 100,
   "id": "e5648138-12cb-441c-b11b-6f6bc816a71c",
   "metadata": {},
   "outputs": [
    {
     "name": "stdout",
     "output_type": "stream",
     "text": [
      " * postgresql://student@/week11\n",
      "1 rows affected.\n"
     ]
    },
    {
     "data": {
      "text/html": [
       "<table>\n",
       "    <thead>\n",
       "        <tr>\n",
       "            <th>cause</th>\n",
       "            <th>place_of_death_and_decedents_status</th>\n",
       "            <th>marital</th>\n",
       "            <th>count</th>\n",
       "        </tr>\n",
       "    </thead>\n",
       "    <tbody>\n",
       "        <tr>\n",
       "            <td>22</td>\n",
       "            <td>4</td>\n",
       "            <td>M</td>\n",
       "            <td>60003</td>\n",
       "        </tr>\n",
       "    </tbody>\n",
       "</table>"
      ],
      "text/plain": [
       "[(Decimal('22'), Decimal('4'), 'M', 60003)]"
      ]
     },
     "execution_count": 100,
     "metadata": {},
     "output_type": "execute_result"
    }
   ],
   "source": [
    "%%sql\n",
    "select * from causeplace"
   ]
  },
  {
   "cell_type": "markdown",
   "id": "ca8d3229-031c-48ba-a5c4-6c0291c368cd",
   "metadata": {},
   "source": [
    "In the above analysis we have executed a query that would help us build a relationship between when the place of death is the decendent's home (represented by code 4) and what their respective marital status is. Our assumption in coming to an analysis for the above is that single(S), widowed(W), divorced(D) and unknown(U) lived alone until their death and married (M) individuals had been living with their partners. As per the results of the query we note that married individuals are less likely to pass due to a heart diease in comparison to the other category of individuals. The total deaths by heart disease at a decedent's home over the three years is 172,224 of which only 34.84% pertain to married individuals the balance 65.16% pertain to the those who live alone.\n",
    "\n",
    "We assume, that the married individuals have one another to look after each other and should there be an emergency they are able to call for help immediately. The data can be used to curate various techniques that could assist those single individuals to call for help immediately when they feel unwell. Example tech companies can build an app that monitors health data for these individuals and provides them with an emergency button to press whwnever they feel unwell. Another recommendation would be to hire more healthcare workers that would go in to check the health of these individuals at regular intervals and ensure they are performing regular tests from time to time."
   ]
  },
  {
   "cell_type": "markdown",
   "id": "dde13d04-daa2-46b3-87c5-03a201c313cd",
   "metadata": {},
   "source": [
    "#### Question 2: Is there any difference in the top 3 death causes for single people versus married people at certain ages? If so, what is that death cause? What preventive measures could we do to increase those individual's lifespan?"
   ]
  },
  {
   "cell_type": "markdown",
   "id": "09ca3531-f0e4-487c-b4ec-ddff63bda542",
   "metadata": {},
   "source": [
    "*Completed by Man Kuei Chen*"
   ]
  },
  {
   "cell_type": "markdown",
   "id": "e516f550-c802-48a8-9496-5d4ad632793a",
   "metadata": {},
   "source": [
    "#### We check the number of deaths in all age groups of single and married couple seperately to find out at what age do most single people and most married people die."
   ]
  },
  {
   "cell_type": "code",
   "execution_count": 101,
   "id": "f0f18bf4-bd99-4fcd-a3a4-06d62890b6d5",
   "metadata": {},
   "outputs": [
    {
     "name": "stdout",
     "output_type": "stream",
     "text": [
      " * postgresql://student@/week11\n",
      "10 rows affected.\n"
     ]
    },
    {
     "data": {
      "text/html": [
       "<table>\n",
       "    <thead>\n",
       "        <tr>\n",
       "            <th>marital_status</th>\n",
       "            <th>age_recode_12</th>\n",
       "            <th>count</th>\n",
       "        </tr>\n",
       "    </thead>\n",
       "    <tbody>\n",
       "        <tr>\n",
       "            <td>S</td>\n",
       "            <td>1</td>\n",
       "            <td>70313</td>\n",
       "        </tr>\n",
       "        <tr>\n",
       "            <td>S</td>\n",
       "            <td>2</td>\n",
       "            <td>11942</td>\n",
       "        </tr>\n",
       "        <tr>\n",
       "            <td>S</td>\n",
       "            <td>3</td>\n",
       "            <td>16107</td>\n",
       "        </tr>\n",
       "        <tr>\n",
       "            <td>S</td>\n",
       "            <td>4</td>\n",
       "            <td>83590</td>\n",
       "        </tr>\n",
       "        <tr>\n",
       "            <td>S</td>\n",
       "            <td>5</td>\n",
       "            <td>99224</td>\n",
       "        </tr>\n",
       "        <tr>\n",
       "            <td>S</td>\n",
       "            <td>6</td>\n",
       "            <td>84537</td>\n",
       "        </tr>\n",
       "        <tr>\n",
       "            <td>S</td>\n",
       "            <td>7</td>\n",
       "            <td>144566</td>\n",
       "        </tr>\n",
       "        <tr>\n",
       "            <td>S</td>\n",
       "            <td>8</td>\n",
       "            <td>182141</td>\n",
       "        </tr>\n",
       "        <tr>\n",
       "            <td>S</td>\n",
       "            <td>9</td>\n",
       "            <td>123114</td>\n",
       "        </tr>\n",
       "        <tr>\n",
       "            <td>S</td>\n",
       "            <td>10</td>\n",
       "            <td>93624</td>\n",
       "        </tr>\n",
       "    </tbody>\n",
       "</table>"
      ],
      "text/plain": [
       "[('S', Decimal('1'), 70313),\n",
       " ('S', Decimal('2'), 11942),\n",
       " ('S', Decimal('3'), 16107),\n",
       " ('S', Decimal('4'), 83590),\n",
       " ('S', Decimal('5'), 99224),\n",
       " ('S', Decimal('6'), 84537),\n",
       " ('S', Decimal('7'), 144566),\n",
       " ('S', Decimal('8'), 182141),\n",
       " ('S', Decimal('9'), 123114),\n",
       " ('S', Decimal('10'), 93624)]"
      ]
     },
     "execution_count": 101,
     "metadata": {},
     "output_type": "execute_result"
    }
   ],
   "source": [
    "%%sql\n",
    "select marital_status,age_recode_12, count(*) \n",
    "FROM Primary_info as inf \n",
    "inner join DEATHS_USA as D\n",
    "on inf.key = D.info_key \n",
    "where marital_status = 'S'\n",
    "group by marital_status,age_recode_12\n",
    "order by age_recode_12 \n",
    "limit 10"
   ]
  },
  {
   "cell_type": "code",
   "execution_count": 102,
   "id": "3e08ff1b-12a5-4831-a884-1078c63398e0",
   "metadata": {},
   "outputs": [],
   "source": [
    "%matplotlib inline"
   ]
  },
  {
   "cell_type": "code",
   "execution_count": 103,
   "id": "d2376eef-b37c-4bff-81a7-ec30e12923c3",
   "metadata": {},
   "outputs": [
    {
     "data": {
      "text/plain": [
       "<BarContainer object of 10 artists>"
      ]
     },
     "execution_count": 103,
     "metadata": {},
     "output_type": "execute_result"
    },
    {
     "data": {
      "image/png": "[encoded data removed]",
      "text/plain": [
       "<Figure size 640x480 with 1 Axes>"
      ]
     },
     "metadata": {},
     "output_type": "display_data"
    }
   ],
   "source": [
    "_.bar()"
   ]
  },
  {
   "cell_type": "markdown",
   "id": "da4d803c-d903-46bb-be8b-e73fd1e2592e",
   "metadata": {},
   "source": [
    "###### Age_recode_12: \n",
    "###### 1 - Under 1 year (includes not stated infant ages) \n",
    "###### 2 - 1-4years\n",
    "###### 3 - 5-14years\n",
    "###### 4 - 15 - 24 years\n",
    "###### 5 - 25 - 34 years\n",
    "###### 6 - 35 - 44 years\n",
    "###### 7 - 45 - 54 years\n",
    "###### 8 - 55 - 64 years\n",
    "###### 9 - 65 - 74 years\n",
    "###### 10 - 75 - 84 years\n",
    "###### 11 - 85 years and over \n",
    "###### 12 - Age not stated"
   ]
  },
  {
   "cell_type": "code",
   "execution_count": 104,
   "id": "57988fc5-889e-44bb-b1b6-a3a6bc1c9ca8",
   "metadata": {},
   "outputs": [
    {
     "name": "stdout",
     "output_type": "stream",
     "text": [
      " * postgresql://student@/week11\n",
      "10 rows affected.\n"
     ]
    },
    {
     "data": {
      "text/html": [
       "<table>\n",
       "    <thead>\n",
       "        <tr>\n",
       "            <th>marital_status</th>\n",
       "            <th>age_recode_12</th>\n",
       "            <th>count</th>\n",
       "        </tr>\n",
       "    </thead>\n",
       "    <tbody>\n",
       "        <tr>\n",
       "            <td>M</td>\n",
       "            <td>3</td>\n",
       "            <td>3</td>\n",
       "        </tr>\n",
       "        <tr>\n",
       "            <td>M</td>\n",
       "            <td>4</td>\n",
       "            <td>3835</td>\n",
       "        </tr>\n",
       "        <tr>\n",
       "            <td>M</td>\n",
       "            <td>5</td>\n",
       "            <td>32222</td>\n",
       "        </tr>\n",
       "        <tr>\n",
       "            <td>M</td>\n",
       "            <td>6</td>\n",
       "            <td>80780</td>\n",
       "        </tr>\n",
       "        <tr>\n",
       "            <td>M</td>\n",
       "            <td>7</td>\n",
       "            <td>215975</td>\n",
       "        </tr>\n",
       "        <tr>\n",
       "            <td>M</td>\n",
       "            <td>8</td>\n",
       "            <td>474920</td>\n",
       "        </tr>\n",
       "        <tr>\n",
       "            <td>M</td>\n",
       "            <td>9</td>\n",
       "            <td>720864</td>\n",
       "        </tr>\n",
       "        <tr>\n",
       "            <td>M</td>\n",
       "            <td>10</td>\n",
       "            <td>843923</td>\n",
       "        </tr>\n",
       "        <tr>\n",
       "            <td>M</td>\n",
       "            <td>11</td>\n",
       "            <td>579017</td>\n",
       "        </tr>\n",
       "        <tr>\n",
       "            <td>M</td>\n",
       "            <td>12</td>\n",
       "            <td>20</td>\n",
       "        </tr>\n",
       "    </tbody>\n",
       "</table>"
      ],
      "text/plain": [
       "[('M', Decimal('3'), 3),\n",
       " ('M', Decimal('4'), 3835),\n",
       " ('M', Decimal('5'), 32222),\n",
       " ('M', Decimal('6'), 80780),\n",
       " ('M', Decimal('7'), 215975),\n",
       " ('M', Decimal('8'), 474920),\n",
       " ('M', Decimal('9'), 720864),\n",
       " ('M', Decimal('10'), 843923),\n",
       " ('M', Decimal('11'), 579017),\n",
       " ('M', Decimal('12'), 20)]"
      ]
     },
     "execution_count": 104,
     "metadata": {},
     "output_type": "execute_result"
    }
   ],
   "source": [
    "%%sql\n",
    "select marital_status,age_recode_12, count(*) \n",
    "FROM Primary_info as inf \n",
    "inner join DEATHS_USA as D\n",
    "on inf.key = D.info_key \n",
    "where marital_status = 'M'\n",
    "group by marital_status,age_recode_12\n",
    "order by age_recode_12 \n",
    "limit 10"
   ]
  },
  {
   "cell_type": "code",
   "execution_count": 105,
   "id": "271bb5ef-ffdf-402e-8da4-7e2ae34e0f9c",
   "metadata": {},
   "outputs": [
    {
     "data": {
      "text/plain": [
       "<BarContainer object of 10 artists>"
      ]
     },
     "execution_count": 105,
     "metadata": {},
     "output_type": "execute_result"
    },
    {
     "data": {
      "image/png": "[encoded data removed]",
      "text/plain": [
       "<Figure size 640x480 with 1 Axes>"
      ]
     },
     "metadata": {},
     "output_type": "display_data"
    }
   ],
   "source": [
    "_.bar()"
   ]
  },
  {
   "cell_type": "markdown",
   "id": "00a8f10c-71e2-4dd9-94aa-8408321c0448",
   "metadata": {},
   "source": [
    "###### Age_recode_12: \n",
    "###### 1 - Under 1 year (includes not stated infant ages) \n",
    "###### 2 - 1-4years\n",
    "###### 3 - 5-14years\n",
    "###### 4 - 15 - 24 years\n",
    "###### 5 - 25 - 34 years\n",
    "###### 6 - 35 - 44 years\n",
    "###### 7 - 45 - 54 years\n",
    "###### 8 - 55 - 64 years\n",
    "###### 9 - 65 - 74 years\n",
    "###### 10 - 75 - 84 years\n",
    "###### 11 - 85 years and over \n",
    "###### 12 - Age not stated"
   ]
  },
  {
   "cell_type": "markdown",
   "id": "2752bfa8-fdf8-49ac-9012-a32a9ce8e1f8",
   "metadata": {},
   "source": [
    "##### The above bar charts depict that amongst single individuals, more people have died in the age group of 55-64 years in comparison to the other age groups. Amidst married individuals, more people have died in the age group of 75-84 years as compared to other age groups."
   ]
  },
  {
   "cell_type": "markdown",
   "id": "aad6e377-4024-423b-84d2-8cb0a1b6b782",
   "metadata": {},
   "source": [
    "#### Why did most singles die at such relatively young age over the three years? We analyse top 3 death causes of single and top 3 death causes of  married individuals to identify whether there are potential associations."
   ]
  },
  {
   "cell_type": "code",
   "execution_count": 106,
   "id": "401699c4-37ee-4a40-8c6f-61921b0f5e6d",
   "metadata": {},
   "outputs": [
    {
     "name": "stdout",
     "output_type": "stream",
     "text": [
      " * postgresql://student@/week11\n",
      "3 rows affected.\n"
     ]
    },
    {
     "data": {
      "text/html": [
       "<table>\n",
       "    <thead>\n",
       "        <tr>\n",
       "            <th>marital_status</th>\n",
       "            <th>age_recode_12</th>\n",
       "            <th>39_cause_recode</th>\n",
       "            <th>count</th>\n",
       "        </tr>\n",
       "    </thead>\n",
       "    <tbody>\n",
       "        <tr>\n",
       "            <td>S</td>\n",
       "            <td>8</td>\n",
       "            <td>37</td>\n",
       "            <td>31589</td>\n",
       "        </tr>\n",
       "        <tr>\n",
       "            <td>S</td>\n",
       "            <td>8</td>\n",
       "            <td>21</td>\n",
       "            <td>26486</td>\n",
       "        </tr>\n",
       "        <tr>\n",
       "            <td>S</td>\n",
       "            <td>8</td>\n",
       "            <td>15</td>\n",
       "            <td>14993</td>\n",
       "        </tr>\n",
       "    </tbody>\n",
       "</table>"
      ],
      "text/plain": [
       "[('S', Decimal('8'), Decimal('37'), 31589),\n",
       " ('S', Decimal('8'), Decimal('21'), 26486),\n",
       " ('S', Decimal('8'), Decimal('15'), 14993)]"
      ]
     },
     "execution_count": 106,
     "metadata": {},
     "output_type": "execute_result"
    }
   ],
   "source": [
    "%%sql\n",
    "select marital_status,age_recode_12,\"39_cause_recode\", count(*) \n",
    "FROM Primary_info as inf \n",
    "inner join DEATHS_USA as D\n",
    "on inf.key = D.info_key \n",
    "inner join DeathInformation as di \n",
    "on di.key = D.deathinformation_key \n",
    "inner join Location as loc \n",
    "on D.Location_key = loc.key\n",
    "where marital_status = 'S' and age_recode_12 = 8 \n",
    "group by marital_status,\"39_cause_recode\",age_recode_12\n",
    "order by count(*) desc\n",
    "limit 3"
   ]
  },
  {
   "cell_type": "code",
   "execution_count": 107,
   "id": "7bd2774e-848d-405e-ab81-4834aa488df4",
   "metadata": {},
   "outputs": [
    {
     "data": {
      "text/plain": [
       "<BarContainer object of 3 artists>"
      ]
     },
     "execution_count": 107,
     "metadata": {},
     "output_type": "execute_result"
    },
    {
     "data": {
      "image/png": "[encoded data removed]",
      "text/plain": [
       "<Figure size 640x480 with 1 Axes>"
      ]
     },
     "metadata": {},
     "output_type": "display_data"
    }
   ],
   "source": [
    "_.bar()"
   ]
  },
  {
   "cell_type": "markdown",
   "id": "86f6fc89-8d20-4414-ae5f-11d5f5f48b4c",
   "metadata": {},
   "source": [
    "###### 39_cause_recode: \n",
    "###### 37 - All other diseases \n",
    "###### 21 - Ischemic heart diseases\n",
    "###### 15 - Other malignant neoplasms (cancer)"
   ]
  },
  {
   "cell_type": "code",
   "execution_count": 108,
   "id": "9eb0dc55-9a9e-4442-8e48-b4c0b6e25ded",
   "metadata": {},
   "outputs": [
    {
     "name": "stdout",
     "output_type": "stream",
     "text": [
      " * postgresql://student@/week11\n",
      "3 rows affected.\n"
     ]
    },
    {
     "data": {
      "text/html": [
       "<table>\n",
       "    <thead>\n",
       "        <tr>\n",
       "            <th>marital_status</th>\n",
       "            <th>age_recode_12</th>\n",
       "            <th>39_cause_recode</th>\n",
       "            <th>count</th>\n",
       "        </tr>\n",
       "    </thead>\n",
       "    <tbody>\n",
       "        <tr>\n",
       "            <td>M</td>\n",
       "            <td>10</td>\n",
       "            <td>37</td>\n",
       "            <td>168378</td>\n",
       "        </tr>\n",
       "        <tr>\n",
       "            <td>M</td>\n",
       "            <td>10</td>\n",
       "            <td>21</td>\n",
       "            <td>119767</td>\n",
       "        </tr>\n",
       "        <tr>\n",
       "            <td>M</td>\n",
       "            <td>10</td>\n",
       "            <td>22</td>\n",
       "            <td>64095</td>\n",
       "        </tr>\n",
       "    </tbody>\n",
       "</table>"
      ],
      "text/plain": [
       "[('M', Decimal('10'), Decimal('37'), 168378),\n",
       " ('M', Decimal('10'), Decimal('21'), 119767),\n",
       " ('M', Decimal('10'), Decimal('22'), 64095)]"
      ]
     },
     "execution_count": 108,
     "metadata": {},
     "output_type": "execute_result"
    }
   ],
   "source": [
    "%%sql\n",
    "select marital_status,age_recode_12,\"39_cause_recode\", count(*) \n",
    "FROM Primary_info as inf \n",
    "inner join DEATHS_USA as D\n",
    "on inf.key = D.info_key \n",
    "inner join DeathInformation as di \n",
    "on di.key = D.deathinformation_key \n",
    "inner join Location as loc \n",
    "on D.Location_key = loc.key\n",
    "where marital_status = 'M' and age_recode_12 = 10\n",
    "group by marital_status,\"39_cause_recode\",age_recode_12\n",
    "order by count(*) desc\n",
    "limit 3"
   ]
  },
  {
   "cell_type": "code",
   "execution_count": 109,
   "id": "79d93cd9-540b-4758-a55f-120ee8cbee38",
   "metadata": {},
   "outputs": [
    {
     "data": {
      "text/plain": [
       "<BarContainer object of 3 artists>"
      ]
     },
     "execution_count": 109,
     "metadata": {},
     "output_type": "execute_result"
    },
    {
     "data": {
      "image/png": "[encoded data removed]",
      "text/plain": [
       "<Figure size 640x480 with 1 Axes>"
      ]
     },
     "metadata": {},
     "output_type": "display_data"
    }
   ],
   "source": [
    "_.bar()"
   ]
  },
  {
   "cell_type": "markdown",
   "id": "7910a097-0d4c-45fd-b184-a90c3383ac75",
   "metadata": {},
   "source": [
    "###### 39_cause_recode: \n",
    "###### 37 - All other diseases \n",
    "###### 21 - Ischemic heart diseases\n",
    "###### 22 - Other diseases of heart"
   ]
  },
  {
   "cell_type": "markdown",
   "id": "427b22ec-12e8-4647-9b14-b4722e94efc4",
   "metadata": {},
   "source": [
    "##### It stood out to us that the death cause \"15 - cancer\" , might play an important role. Further, we take a look at whether marital status potentially impacts cancer mortality."
   ]
  },
  {
   "cell_type": "code",
   "execution_count": 110,
   "id": "69c8674e-ef90-48f5-8cf5-d66583b02edf",
   "metadata": {},
   "outputs": [
    {
     "name": "stdout",
     "output_type": "stream",
     "text": [
      " * postgresql://student@/week11\n",
      "10 rows affected.\n"
     ]
    },
    {
     "data": {
      "text/html": [
       "<table>\n",
       "    <thead>\n",
       "        <tr>\n",
       "            <th>marital_status</th>\n",
       "            <th>age_recode_12</th>\n",
       "            <th>39_cause_recode</th>\n",
       "            <th>count</th>\n",
       "        </tr>\n",
       "    </thead>\n",
       "    <tbody>\n",
       "        <tr>\n",
       "            <td>S</td>\n",
       "            <td>1</td>\n",
       "            <td>15</td>\n",
       "            <td>105</td>\n",
       "        </tr>\n",
       "        <tr>\n",
       "            <td>S</td>\n",
       "            <td>2</td>\n",
       "            <td>15</td>\n",
       "            <td>641</td>\n",
       "        </tr>\n",
       "        <tr>\n",
       "            <td>S</td>\n",
       "            <td>3</td>\n",
       "            <td>15</td>\n",
       "            <td>1828</td>\n",
       "        </tr>\n",
       "        <tr>\n",
       "            <td>S</td>\n",
       "            <td>4</td>\n",
       "            <td>15</td>\n",
       "            <td>2504</td>\n",
       "        </tr>\n",
       "        <tr>\n",
       "            <td>S</td>\n",
       "            <td>5</td>\n",
       "            <td>15</td>\n",
       "            <td>2759</td>\n",
       "        </tr>\n",
       "        <tr>\n",
       "            <td>S</td>\n",
       "            <td>6</td>\n",
       "            <td>15</td>\n",
       "            <td>3115</td>\n",
       "        </tr>\n",
       "        <tr>\n",
       "            <td>S</td>\n",
       "            <td>7</td>\n",
       "            <td>15</td>\n",
       "            <td>8877</td>\n",
       "        </tr>\n",
       "        <tr>\n",
       "            <td>S</td>\n",
       "            <td>8</td>\n",
       "            <td>15</td>\n",
       "            <td>14993</td>\n",
       "        </tr>\n",
       "        <tr>\n",
       "            <td>S</td>\n",
       "            <td>9</td>\n",
       "            <td>15</td>\n",
       "            <td>9203</td>\n",
       "        </tr>\n",
       "        <tr>\n",
       "            <td>S</td>\n",
       "            <td>10</td>\n",
       "            <td>15</td>\n",
       "            <td>4777</td>\n",
       "        </tr>\n",
       "    </tbody>\n",
       "</table>"
      ],
      "text/plain": [
       "[('S', Decimal('1'), Decimal('15'), 105),\n",
       " ('S', Decimal('2'), Decimal('15'), 641),\n",
       " ('S', Decimal('3'), Decimal('15'), 1828),\n",
       " ('S', Decimal('4'), Decimal('15'), 2504),\n",
       " ('S', Decimal('5'), Decimal('15'), 2759),\n",
       " ('S', Decimal('6'), Decimal('15'), 3115),\n",
       " ('S', Decimal('7'), Decimal('15'), 8877),\n",
       " ('S', Decimal('8'), Decimal('15'), 14993),\n",
       " ('S', Decimal('9'), Decimal('15'), 9203),\n",
       " ('S', Decimal('10'), Decimal('15'), 4777)]"
      ]
     },
     "execution_count": 110,
     "metadata": {},
     "output_type": "execute_result"
    }
   ],
   "source": [
    "%%sql\n",
    "select marital_status,age_recode_12,\"39_cause_recode\", count(*) \n",
    "FROM Primary_info as inf \n",
    "inner join DEATHS_USA as D\n",
    "on inf.key = D.info_key \n",
    "inner join DeathInformation as di \n",
    "on di.key = D.deathinformation_key \n",
    "inner join Location as loc \n",
    "on D.Location_key = loc.key\n",
    "where marital_status = 'S' and \"39_cause_recode\" = 15\n",
    "group by marital_status,\"39_cause_recode\",age_recode_12\n",
    "order by age_recode_12 \n",
    "limit 10"
   ]
  },
  {
   "cell_type": "code",
   "execution_count": 111,
   "id": "0f8962c6-fb7b-4ecd-8704-6787f9adf35a",
   "metadata": {},
   "outputs": [
    {
     "data": {
      "text/plain": [
       "<BarContainer object of 10 artists>"
      ]
     },
     "execution_count": 111,
     "metadata": {},
     "output_type": "execute_result"
    },
    {
     "data": {
      "image/png": "[encoded data removed]",
      "text/plain": [
       "<Figure size 640x480 with 1 Axes>"
      ]
     },
     "metadata": {},
     "output_type": "display_data"
    }
   ],
   "source": [
    "_.bar()"
   ]
  },
  {
   "cell_type": "markdown",
   "id": "b639a18d-767b-48e8-8b3e-230ad9227347",
   "metadata": {},
   "source": [
    "###### Age_recode_12: \n",
    "###### 1 - Under 1 year (includes not stated infant ages) \n",
    "###### 2 - 1-4years\n",
    "###### 3 - 5-14years\n",
    "###### 4 - 15 - 24 years\n",
    "###### 5 - 25 - 34 years\n",
    "###### 6 - 35 - 44 years\n",
    "###### 7 - 45 - 54 years\n",
    "###### 8 - 55 - 64 years\n",
    "###### 9 - 65 - 74 years\n",
    "###### 10 - 75 - 84 years\n",
    "###### 11 - 85 years and over \n",
    "###### 12 - Age not stated"
   ]
  },
  {
   "cell_type": "code",
   "execution_count": 112,
   "id": "f762ac27-5513-402f-a3c8-2fdafb96d5d4",
   "metadata": {},
   "outputs": [
    {
     "name": "stdout",
     "output_type": "stream",
     "text": [
      " * postgresql://student@/week11\n",
      "10 rows affected.\n"
     ]
    },
    {
     "data": {
      "text/html": [
       "<table>\n",
       "    <thead>\n",
       "        <tr>\n",
       "            <th>marital_status</th>\n",
       "            <th>age_recode_12</th>\n",
       "            <th>39_cause_recode</th>\n",
       "            <th>count</th>\n",
       "        </tr>\n",
       "    </thead>\n",
       "    <tbody>\n",
       "        <tr>\n",
       "            <td>M</td>\n",
       "            <td>3</td>\n",
       "            <td>15</td>\n",
       "            <td>1</td>\n",
       "        </tr>\n",
       "        <tr>\n",
       "            <td>M</td>\n",
       "            <td>4</td>\n",
       "            <td>15</td>\n",
       "            <td>167</td>\n",
       "        </tr>\n",
       "        <tr>\n",
       "            <td>M</td>\n",
       "            <td>5</td>\n",
       "            <td>15</td>\n",
       "            <td>1856</td>\n",
       "        </tr>\n",
       "        <tr>\n",
       "            <td>M</td>\n",
       "            <td>6</td>\n",
       "            <td>15</td>\n",
       "            <td>6022</td>\n",
       "        </tr>\n",
       "        <tr>\n",
       "            <td>M</td>\n",
       "            <td>7</td>\n",
       "            <td>15</td>\n",
       "            <td>21155</td>\n",
       "        </tr>\n",
       "        <tr>\n",
       "            <td>M</td>\n",
       "            <td>8</td>\n",
       "            <td>15</td>\n",
       "            <td>56736</td>\n",
       "        </tr>\n",
       "        <tr>\n",
       "            <td>M</td>\n",
       "            <td>9</td>\n",
       "            <td>15</td>\n",
       "            <td>73663</td>\n",
       "        </tr>\n",
       "        <tr>\n",
       "            <td>M</td>\n",
       "            <td>10</td>\n",
       "            <td>15</td>\n",
       "            <td>59416</td>\n",
       "        </tr>\n",
       "        <tr>\n",
       "            <td>M</td>\n",
       "            <td>11</td>\n",
       "            <td>15</td>\n",
       "            <td>22958</td>\n",
       "        </tr>\n",
       "        <tr>\n",
       "            <td>M</td>\n",
       "            <td>12</td>\n",
       "            <td>15</td>\n",
       "            <td>2</td>\n",
       "        </tr>\n",
       "    </tbody>\n",
       "</table>"
      ],
      "text/plain": [
       "[('M', Decimal('3'), Decimal('15'), 1),\n",
       " ('M', Decimal('4'), Decimal('15'), 167),\n",
       " ('M', Decimal('5'), Decimal('15'), 1856),\n",
       " ('M', Decimal('6'), Decimal('15'), 6022),\n",
       " ('M', Decimal('7'), Decimal('15'), 21155),\n",
       " ('M', Decimal('8'), Decimal('15'), 56736),\n",
       " ('M', Decimal('9'), Decimal('15'), 73663),\n",
       " ('M', Decimal('10'), Decimal('15'), 59416),\n",
       " ('M', Decimal('11'), Decimal('15'), 22958),\n",
       " ('M', Decimal('12'), Decimal('15'), 2)]"
      ]
     },
     "execution_count": 112,
     "metadata": {},
     "output_type": "execute_result"
    }
   ],
   "source": [
    "%%sql\n",
    "select marital_status,age_recode_12,\"39_cause_recode\", count(*) \n",
    "FROM Primary_info as inf \n",
    "inner join DEATHS_USA as D\n",
    "on inf.key = D.info_key \n",
    "inner join DeathInformation as di \n",
    "on di.key = D.deathinformation_key \n",
    "inner join Location as loc \n",
    "on D.Location_key = loc.key\n",
    "where marital_status = 'M' and \"39_cause_recode\" = 15\n",
    "group by marital_status,\"39_cause_recode\",age_recode_12\n",
    "order by age_recode_12 \n",
    "limit 10"
   ]
  },
  {
   "cell_type": "code",
   "execution_count": 113,
   "id": "ab390d07-fbb2-40f5-806b-a039b615c2dc",
   "metadata": {},
   "outputs": [
    {
     "data": {
      "text/plain": [
       "<BarContainer object of 10 artists>"
      ]
     },
     "execution_count": 113,
     "metadata": {},
     "output_type": "execute_result"
    },
    {
     "data": {
      "image/png": "[encoded data removed]",
      "text/plain": [
       "<Figure size 640x480 with 1 Axes>"
      ]
     },
     "metadata": {},
     "output_type": "display_data"
    }
   ],
   "source": [
    "_.bar()"
   ]
  },
  {
   "cell_type": "markdown",
   "id": "da7cafb4-8d9d-4646-bae0-f5264d383e6c",
   "metadata": {},
   "source": [
    "###### Age_recode_12: \n",
    "###### 1 - Under 1 year (includes not stated infant ages) \n",
    "###### 2 - 1-4years\n",
    "###### 3 - 5-14years\n",
    "###### 4 - 15 - 24 years\n",
    "###### 5 - 25 - 34 years\n",
    "###### 6 - 35 - 44 years\n",
    "###### 7 - 45 - 54 years\n",
    "###### 8 - 55 - 64 years\n",
    "###### 9 - 65 - 74 years\n",
    "###### 10 - 75 - 84 years\n",
    "###### 11 - 85 years and over \n",
    "###### 12 - Age not stated"
   ]
  },
  {
   "cell_type": "markdown",
   "id": "4376a3e7-a21d-4d70-a541-3587daef2a5a",
   "metadata": {},
   "source": [
    "##### The result highlights the potential impact marital status and likely the support shared by married individuals can have on cancer mortality. Fo example, lacking support from spouses can lead to lower cancer screening rates and poorer lifestyle choices. We suggest companies, such as pharmaceutical and biomedical, design cancer screening and prevention products targeting the single individuals population. Additionally, we have found a research that supports our conclusion -  https://ascopubs.org/doi/abs/10.1200/JCO.2013.49.6489?role=tab¶"
   ]
  },
  {
   "cell_type": "markdown",
   "id": "175af1db-ec7e-4af1-8841-72f97db4e507",
   "metadata": {},
   "source": [
    "#### Question 3: What manner of death and age groups have the highest count of autopsies performed after death? What is the relationship between manner of death and autopsy in relation to age?"
   ]
  },
  {
   "cell_type": "markdown",
   "id": "7a884832-6584-47b5-af71-42702ba20869",
   "metadata": {},
   "source": [
    "*Completed by Sibeso Mubonda*"
   ]
  },
  {
   "cell_type": "markdown",
   "id": "268980c8-0f5f-4315-8e7d-4af04667885a",
   "metadata": {},
   "source": [
    "First, we select manner of death and autopsy by count where autopsy = Y. This means that we are getting the manner of deaths that had autopsies performed and we order by count."
   ]
  },
  {
   "cell_type": "code",
   "execution_count": 114,
   "id": "bef31e69-704a-4b84-888a-4da5074ac7fe",
   "metadata": {},
   "outputs": [
    {
     "name": "stdout",
     "output_type": "stream",
     "text": [
      " * postgresql://student@/week11\n",
      "7 rows affected.\n"
     ]
    },
    {
     "data": {
      "text/html": [
       "<table>\n",
       "    <thead>\n",
       "        <tr>\n",
       "            <th>manner_of_death</th>\n",
       "            <th>autopsy</th>\n",
       "            <th>count</th>\n",
       "        </tr>\n",
       "    </thead>\n",
       "    <tbody>\n",
       "        <tr>\n",
       "            <td>7</td>\n",
       "            <td>Y</td>\n",
       "            <td>240167</td>\n",
       "        </tr>\n",
       "        <tr>\n",
       "            <td>1</td>\n",
       "            <td>Y</td>\n",
       "            <td>204492</td>\n",
       "        </tr>\n",
       "        <tr>\n",
       "            <td>2</td>\n",
       "            <td>Y</td>\n",
       "            <td>71024</td>\n",
       "        </tr>\n",
       "        <tr>\n",
       "            <td>3</td>\n",
       "            <td>Y</td>\n",
       "            <td>51152</td>\n",
       "        </tr>\n",
       "        <tr>\n",
       "            <td>5</td>\n",
       "            <td>Y</td>\n",
       "            <td>24743</td>\n",
       "        </tr>\n",
       "        <tr>\n",
       "            <td>0</td>\n",
       "            <td>Y</td>\n",
       "            <td>12595</td>\n",
       "        </tr>\n",
       "        <tr>\n",
       "            <td>4</td>\n",
       "            <td>Y</td>\n",
       "            <td>9120</td>\n",
       "        </tr>\n",
       "    </tbody>\n",
       "</table>"
      ],
      "text/plain": [
       "[(Decimal('7'), 'Y', 240167),\n",
       " (Decimal('1'), 'Y', 204492),\n",
       " (Decimal('2'), 'Y', 71024),\n",
       " (Decimal('3'), 'Y', 51152),\n",
       " (Decimal('5'), 'Y', 24743),\n",
       " (Decimal('0'), 'Y', 12595),\n",
       " (Decimal('4'), 'Y', 9120)]"
      ]
     },
     "execution_count": 114,
     "metadata": {},
     "output_type": "execute_result"
    }
   ],
   "source": [
    "%%sql\n",
    "SELECT manner_of_death,autopsy, Count(*)\n",
    "FROM DeathInformation \n",
    "JOIN  DEATHS_USA\n",
    "  ON Deaths_USA.deathinformation_key = deathinformation.key \n",
    "WHERE autopsy = 'Y'\n",
    "GROUP BY manner_of_death,autopsy\n",
    "ORDER BY COUNT DESC;"
   ]
  },
  {
   "cell_type": "markdown",
   "id": "8ecc6955-7471-44f1-b082-1f7a0b2f3fb1",
   "metadata": {},
   "source": [
    "The data dictionary for manner of death is as follows:\n",
    "* 1 - Accident\n",
    "* 2 - Suicide\n",
    "* 3 - Homicide\n",
    "* 4 - Pending Investigation\n",
    "* 5 - Could not determine\n",
    "* 6 - Self-Inflicted\n",
    "* 7 - Natural\n",
    "* 0 - Not Specified\n",
    "\n",
    "\n",
    "*The most common manner of death is code 7 which is to Natural Cause. This is something we expected to happen because mostly, autopsies are performed when the cause of death is not as obvious as something like a homicide. So it makes sense for it to be the manner of death with the highest autopsy count*"
   ]
  },
  {
   "cell_type": "code",
   "execution_count": 115,
   "id": "f20c8d11-d2b6-4783-af31-6a484f283bed",
   "metadata": {},
   "outputs": [
    {
     "data": {
      "text/plain": [
       "<BarContainer object of 7 artists>"
      ]
     },
     "execution_count": 115,
     "metadata": {},
     "output_type": "execute_result"
    },
    {
     "data": {
      "image/png": "[encoded data removed]",
      "text/plain": [
       "<Figure size 640x480 with 1 Axes>"
      ]
     },
     "metadata": {},
     "output_type": "display_data"
    }
   ],
   "source": [
    "_.bar()"
   ]
  },
  {
   "cell_type": "markdown",
   "id": "27d48a9e-4cbd-4791-8c86-2ad436abd46d",
   "metadata": {},
   "source": [
    "### Age in relation to autopsy performed and natural cause of death in 2013"
   ]
  },
  {
   "cell_type": "markdown",
   "id": "a45095c9-e68b-4ebc-807f-3245a2945eaf",
   "metadata": {},
   "source": [
    "Next, we want to see if there is an age range for people that died frrom natural causes that has the most autopsies performed over the three years, 2013-2015. To do this, we select age, autopsy and the manner of death where it is equal to 7(Natural Cause), where autopsy is equal to Y and the year is 2013."
   ]
  },
  {
   "cell_type": "code",
   "execution_count": 116,
   "id": "b32386df-a976-4002-83a1-1ad0279ebffa",
   "metadata": {},
   "outputs": [
    {
     "name": "stdout",
     "output_type": "stream",
     "text": [
      " * postgresql://student@/week11\n",
      "12 rows affected.\n"
     ]
    },
    {
     "data": {
      "text/html": [
       "<table>\n",
       "    <thead>\n",
       "        <tr>\n",
       "            <th>age_recode_12</th>\n",
       "            <th>autopsy</th>\n",
       "            <th>manner_of_death</th>\n",
       "            <th>count</th>\n",
       "        </tr>\n",
       "    </thead>\n",
       "    <tbody>\n",
       "        <tr>\n",
       "            <td>8</td>\n",
       "            <td>Y</td>\n",
       "            <td>7</td>\n",
       "            <td>20875</td>\n",
       "        </tr>\n",
       "        <tr>\n",
       "            <td>7</td>\n",
       "            <td>Y</td>\n",
       "            <td>7</td>\n",
       "            <td>18587</td>\n",
       "        </tr>\n",
       "        <tr>\n",
       "            <td>9</td>\n",
       "            <td>Y</td>\n",
       "            <td>7</td>\n",
       "            <td>11688</td>\n",
       "        </tr>\n",
       "        <tr>\n",
       "            <td>6</td>\n",
       "            <td>Y</td>\n",
       "            <td>7</td>\n",
       "            <td>9195</td>\n",
       "        </tr>\n",
       "        <tr>\n",
       "            <td>10</td>\n",
       "            <td>Y</td>\n",
       "            <td>7</td>\n",
       "            <td>6045</td>\n",
       "        </tr>\n",
       "        <tr>\n",
       "            <td>5</td>\n",
       "            <td>Y</td>\n",
       "            <td>7</td>\n",
       "            <td>4563</td>\n",
       "        </tr>\n",
       "        <tr>\n",
       "            <td>1</td>\n",
       "            <td>Y</td>\n",
       "            <td>7</td>\n",
       "            <td>3233</td>\n",
       "        </tr>\n",
       "        <tr>\n",
       "            <td>11</td>\n",
       "            <td>Y</td>\n",
       "            <td>7</td>\n",
       "            <td>3071</td>\n",
       "        </tr>\n",
       "        <tr>\n",
       "            <td>4</td>\n",
       "            <td>Y</td>\n",
       "            <td>7</td>\n",
       "            <td>1883</td>\n",
       "        </tr>\n",
       "        <tr>\n",
       "            <td>3</td>\n",
       "            <td>Y</td>\n",
       "            <td>7</td>\n",
       "            <td>701</td>\n",
       "        </tr>\n",
       "        <tr>\n",
       "            <td>2</td>\n",
       "            <td>Y</td>\n",
       "            <td>7</td>\n",
       "            <td>684</td>\n",
       "        </tr>\n",
       "        <tr>\n",
       "            <td>12</td>\n",
       "            <td>Y</td>\n",
       "            <td>7</td>\n",
       "            <td>29</td>\n",
       "        </tr>\n",
       "    </tbody>\n",
       "</table>"
      ],
      "text/plain": [
       "[(Decimal('8'), 'Y', Decimal('7'), 20875),\n",
       " (Decimal('7'), 'Y', Decimal('7'), 18587),\n",
       " (Decimal('9'), 'Y', Decimal('7'), 11688),\n",
       " (Decimal('6'), 'Y', Decimal('7'), 9195),\n",
       " (Decimal('10'), 'Y', Decimal('7'), 6045),\n",
       " (Decimal('5'), 'Y', Decimal('7'), 4563),\n",
       " (Decimal('1'), 'Y', Decimal('7'), 3233),\n",
       " (Decimal('11'), 'Y', Decimal('7'), 3071),\n",
       " (Decimal('4'), 'Y', Decimal('7'), 1883),\n",
       " (Decimal('3'), 'Y', Decimal('7'), 701),\n",
       " (Decimal('2'), 'Y', Decimal('7'), 684),\n",
       " (Decimal('12'), 'Y', Decimal('7'), 29)]"
      ]
     },
     "execution_count": 116,
     "metadata": {},
     "output_type": "execute_result"
    }
   ],
   "source": [
    "%%sql\n",
    "SELECT DISTINCT age_recode_12,autopsy,manner_of_death, Count(*)\n",
    "FROM Primary_info\n",
    "AS inf inner join Deaths_USA as D\n",
    "  ON inf.key = D.info_key\n",
    "INNER JOIN DeathInformation AS di on D.deathinformation_key = di.key\n",
    "INNER JOIN Date AS da on D.date_key = da.key\n",
    "WHERE current_data_year = '2013'\n",
    "AND autopsy = 'Y'\n",
    "AND\n",
    "manner_of_death = 7\n",
    "GROUP BY age_recode_12,autopsy,manner_of_death\n",
    "ORDER BY manner_of_death, COUNT DESC;"
   ]
  },
  {
   "cell_type": "code",
   "execution_count": 117,
   "id": "ffdfe1ad-c0ce-4e24-a92e-a9913248b4c9",
   "metadata": {},
   "outputs": [
    {
     "data": {
      "text/plain": [
       "<BarContainer object of 12 artists>"
      ]
     },
     "execution_count": 117,
     "metadata": {},
     "output_type": "execute_result"
    },
    {
     "data": {
      "image/png": "[encoded data removed]",
      "text/plain": [
       "<Figure size 640x480 with 1 Axes>"
      ]
     },
     "metadata": {},
     "output_type": "display_data"
    }
   ],
   "source": [
    "_.bar()"
   ]
  },
  {
   "cell_type": "markdown",
   "id": "dc72f982-13a4-44d8-a958-20b21e25d88f",
   "metadata": {},
   "source": [
    "The dictionary for age_recode_12 is as follows:\n",
    "Age Recode 12\n",
    "* 01 ... Under 1 year (includes not stated infant ages)\n",
    "* 02 ... 1-4years\n",
    "* 03 ... 5-14years\n",
    "* 04 ... 15 - 24 years\n",
    "* 05 ... 25 - 34 years\n",
    "* 06 ... 35 - 44 years\n",
    "* 07 ... 45 - 54 years\n",
    "* 08 ... 55 - 64 years\n",
    "* 09 ... 65 - 74 years\n",
    "* 10 ... 75 - 84 years\n",
    "* 11 ... 85 years and over \n",
    "* 12 ... Age not stated\n",
    "\n",
    "*The age group with the highest count of autopsies performed in 2013 that died from natural causes is 8 which refers to people around the age of 55-64 years old. This is something we expected because we believe that age group would be the one that has the most natural causes of death due to them being older and probably less healthier than the younger people. The age groups that follow in having the highest counts are 7 which is 45-54 years and 9 which is 65-74 years. As mentioned above, these are the results we expected due to the age groups being older meanning they would most likely be the ones to pass away due to natural causes as compared to the younger age groups.*"
   ]
  },
  {
   "cell_type": "markdown",
   "id": "9b938388-f380-47a8-a934-44474d34215c",
   "metadata": {},
   "source": [
    "### Age groups that had autopsies performed after dying from natural causes in 2014"
   ]
  },
  {
   "cell_type": "code",
   "execution_count": 118,
   "id": "a4e6563c-e41a-4a7f-9565-a3de9a6908c5",
   "metadata": {},
   "outputs": [
    {
     "name": "stdout",
     "output_type": "stream",
     "text": [
      " * postgresql://student@/week11\n",
      "12 rows affected.\n"
     ]
    },
    {
     "data": {
      "text/html": [
       "<table>\n",
       "    <thead>\n",
       "        <tr>\n",
       "            <th>age_recode_12</th>\n",
       "            <th>autopsy</th>\n",
       "            <th>manner_of_death</th>\n",
       "            <th>count</th>\n",
       "        </tr>\n",
       "    </thead>\n",
       "    <tbody>\n",
       "        <tr>\n",
       "            <td>8</td>\n",
       "            <td>Y</td>\n",
       "            <td>7</td>\n",
       "            <td>21712</td>\n",
       "        </tr>\n",
       "        <tr>\n",
       "            <td>7</td>\n",
       "            <td>Y</td>\n",
       "            <td>7</td>\n",
       "            <td>18253</td>\n",
       "        </tr>\n",
       "        <tr>\n",
       "            <td>9</td>\n",
       "            <td>Y</td>\n",
       "            <td>7</td>\n",
       "            <td>12122</td>\n",
       "        </tr>\n",
       "        <tr>\n",
       "            <td>6</td>\n",
       "            <td>Y</td>\n",
       "            <td>7</td>\n",
       "            <td>9078</td>\n",
       "        </tr>\n",
       "        <tr>\n",
       "            <td>10</td>\n",
       "            <td>Y</td>\n",
       "            <td>7</td>\n",
       "            <td>5882</td>\n",
       "        </tr>\n",
       "        <tr>\n",
       "            <td>5</td>\n",
       "            <td>Y</td>\n",
       "            <td>7</td>\n",
       "            <td>4621</td>\n",
       "        </tr>\n",
       "        <tr>\n",
       "            <td>1</td>\n",
       "            <td>Y</td>\n",
       "            <td>7</td>\n",
       "            <td>3117</td>\n",
       "        </tr>\n",
       "        <tr>\n",
       "            <td>11</td>\n",
       "            <td>Y</td>\n",
       "            <td>7</td>\n",
       "            <td>3107</td>\n",
       "        </tr>\n",
       "        <tr>\n",
       "            <td>4</td>\n",
       "            <td>Y</td>\n",
       "            <td>7</td>\n",
       "            <td>1852</td>\n",
       "        </tr>\n",
       "        <tr>\n",
       "            <td>3</td>\n",
       "            <td>Y</td>\n",
       "            <td>7</td>\n",
       "            <td>698</td>\n",
       "        </tr>\n",
       "        <tr>\n",
       "            <td>2</td>\n",
       "            <td>Y</td>\n",
       "            <td>7</td>\n",
       "            <td>630</td>\n",
       "        </tr>\n",
       "        <tr>\n",
       "            <td>12</td>\n",
       "            <td>Y</td>\n",
       "            <td>7</td>\n",
       "            <td>33</td>\n",
       "        </tr>\n",
       "    </tbody>\n",
       "</table>"
      ],
      "text/plain": [
       "[(Decimal('8'), 'Y', Decimal('7'), 21712),\n",
       " (Decimal('7'), 'Y', Decimal('7'), 18253),\n",
       " (Decimal('9'), 'Y', Decimal('7'), 12122),\n",
       " (Decimal('6'), 'Y', Decimal('7'), 9078),\n",
       " (Decimal('10'), 'Y', Decimal('7'), 5882),\n",
       " (Decimal('5'), 'Y', Decimal('7'), 4621),\n",
       " (Decimal('1'), 'Y', Decimal('7'), 3117),\n",
       " (Decimal('11'), 'Y', Decimal('7'), 3107),\n",
       " (Decimal('4'), 'Y', Decimal('7'), 1852),\n",
       " (Decimal('3'), 'Y', Decimal('7'), 698),\n",
       " (Decimal('2'), 'Y', Decimal('7'), 630),\n",
       " (Decimal('12'), 'Y', Decimal('7'), 33)]"
      ]
     },
     "execution_count": 118,
     "metadata": {},
     "output_type": "execute_result"
    }
   ],
   "source": [
    "%%sql\n",
    "SELECT DISTINCT age_recode_12,autopsy,manner_of_death, Count(*)\n",
    "FROM Primary_info\n",
    "AS inf inner join Deaths_USA as D\n",
    "  ON inf.key = D.info_key\n",
    "INNER JOIN DeathInformation AS di on D.deathinformation_key = di.key\n",
    "INNER JOIN Date AS da on D.date_key = da.key\n",
    "WHERE current_data_year = '2014'\n",
    "AND autopsy = 'Y'\n",
    "AND\n",
    "manner_of_death = 7\n",
    "GROUP BY age_recode_12,autopsy,manner_of_death\n",
    "ORDER BY manner_of_death, COUNT DESC;"
   ]
  },
  {
   "cell_type": "code",
   "execution_count": 119,
   "id": "995623cb-d669-4e3e-bbe0-8e5c5ffb81fd",
   "metadata": {},
   "outputs": [
    {
     "data": {
      "text/plain": [
       "<BarContainer object of 12 artists>"
      ]
     },
     "execution_count": 119,
     "metadata": {},
     "output_type": "execute_result"
    },
    {
     "data": {
      "image/png": "[encoded data removed]",
      "text/plain": [
       "<Figure size 640x480 with 1 Axes>"
      ]
     },
     "metadata": {},
     "output_type": "display_data"
    }
   ],
   "source": [
    "_.bar()"
   ]
  },
  {
   "cell_type": "markdown",
   "id": "cc19e5bf-6fa4-4101-bd0a-64bc08f081c9",
   "metadata": {},
   "source": [
    "### Age groups that had autopsies performed after dying from natural causes in 2015"
   ]
  },
  {
   "cell_type": "code",
   "execution_count": 120,
   "id": "6613a5f1-7f65-41aa-8456-0cdaea000956",
   "metadata": {},
   "outputs": [
    {
     "name": "stdout",
     "output_type": "stream",
     "text": [
      " * postgresql://student@/week11\n",
      "12 rows affected.\n"
     ]
    },
    {
     "data": {
      "text/html": [
       "<table>\n",
       "    <thead>\n",
       "        <tr>\n",
       "            <th>age_recode_12</th>\n",
       "            <th>autopsy</th>\n",
       "            <th>manner_of_death</th>\n",
       "            <th>count</th>\n",
       "        </tr>\n",
       "    </thead>\n",
       "    <tbody>\n",
       "        <tr>\n",
       "            <td>8</td>\n",
       "            <td>Y</td>\n",
       "            <td>7</td>\n",
       "            <td>20734</td>\n",
       "        </tr>\n",
       "        <tr>\n",
       "            <td>7</td>\n",
       "            <td>Y</td>\n",
       "            <td>7</td>\n",
       "            <td>17001</td>\n",
       "        </tr>\n",
       "        <tr>\n",
       "            <td>9</td>\n",
       "            <td>Y</td>\n",
       "            <td>7</td>\n",
       "            <td>12623</td>\n",
       "        </tr>\n",
       "        <tr>\n",
       "            <td>6</td>\n",
       "            <td>Y</td>\n",
       "            <td>7</td>\n",
       "            <td>8559</td>\n",
       "        </tr>\n",
       "        <tr>\n",
       "            <td>10</td>\n",
       "            <td>Y</td>\n",
       "            <td>7</td>\n",
       "            <td>5864</td>\n",
       "        </tr>\n",
       "        <tr>\n",
       "            <td>5</td>\n",
       "            <td>Y</td>\n",
       "            <td>7</td>\n",
       "            <td>4499</td>\n",
       "        </tr>\n",
       "        <tr>\n",
       "            <td>11</td>\n",
       "            <td>Y</td>\n",
       "            <td>7</td>\n",
       "            <td>3023</td>\n",
       "        </tr>\n",
       "        <tr>\n",
       "            <td>1</td>\n",
       "            <td>Y</td>\n",
       "            <td>7</td>\n",
       "            <td>3009</td>\n",
       "        </tr>\n",
       "        <tr>\n",
       "            <td>4</td>\n",
       "            <td>Y</td>\n",
       "            <td>7</td>\n",
       "            <td>1783</td>\n",
       "        </tr>\n",
       "        <tr>\n",
       "            <td>3</td>\n",
       "            <td>Y</td>\n",
       "            <td>7</td>\n",
       "            <td>703</td>\n",
       "        </tr>\n",
       "        <tr>\n",
       "            <td>2</td>\n",
       "            <td>Y</td>\n",
       "            <td>7</td>\n",
       "            <td>668</td>\n",
       "        </tr>\n",
       "        <tr>\n",
       "            <td>12</td>\n",
       "            <td>Y</td>\n",
       "            <td>7</td>\n",
       "            <td>42</td>\n",
       "        </tr>\n",
       "    </tbody>\n",
       "</table>"
      ],
      "text/plain": [
       "[(Decimal('8'), 'Y', Decimal('7'), 20734),\n",
       " (Decimal('7'), 'Y', Decimal('7'), 17001),\n",
       " (Decimal('9'), 'Y', Decimal('7'), 12623),\n",
       " (Decimal('6'), 'Y', Decimal('7'), 8559),\n",
       " (Decimal('10'), 'Y', Decimal('7'), 5864),\n",
       " (Decimal('5'), 'Y', Decimal('7'), 4499),\n",
       " (Decimal('11'), 'Y', Decimal('7'), 3023),\n",
       " (Decimal('1'), 'Y', Decimal('7'), 3009),\n",
       " (Decimal('4'), 'Y', Decimal('7'), 1783),\n",
       " (Decimal('3'), 'Y', Decimal('7'), 703),\n",
       " (Decimal('2'), 'Y', Decimal('7'), 668),\n",
       " (Decimal('12'), 'Y', Decimal('7'), 42)]"
      ]
     },
     "execution_count": 120,
     "metadata": {},
     "output_type": "execute_result"
    }
   ],
   "source": [
    "%%sql\n",
    "SELECT DISTINCT age_recode_12,autopsy,manner_of_death, Count(*)\n",
    "FROM Primary_info\n",
    "AS inf inner join Deaths_USA as D\n",
    "  ON inf.key = D.info_key\n",
    "INNER JOIN DeathInformation AS di on D.deathinformation_key = di.key\n",
    "INNER JOIN Date AS da on D.date_key = da.key\n",
    "WHERE current_data_year = '2015'\n",
    "AND autopsy = 'Y'\n",
    "AND\n",
    "manner_of_death = 7\n",
    "GROUP BY age_recode_12,autopsy,manner_of_death\n",
    "ORDER BY manner_of_death, COUNT DESC;"
   ]
  },
  {
   "cell_type": "code",
   "execution_count": 121,
   "id": "4aa6c722-73e8-4b3b-af82-19945c07012c",
   "metadata": {},
   "outputs": [
    {
     "data": {
      "text/plain": [
       "<BarContainer object of 12 artists>"
      ]
     },
     "execution_count": 121,
     "metadata": {},
     "output_type": "execute_result"
    },
    {
     "data": {
      "image/png": "[encoded data removed]",
      "text/plain": [
       "<Figure size 640x480 with 1 Axes>"
      ]
     },
     "metadata": {},
     "output_type": "display_data"
    }
   ],
   "source": [
    "_.bar()"
   ]
  },
  {
   "cell_type": "markdown",
   "id": "2c2e29e8-1c57-4087-a633-60bd4179eb38",
   "metadata": {},
   "source": [
    "The age group with the highest count of autopsies performed in 2014 and 2015 are exactly the same as those in 2013. Those with the highest count that died from natural causes is group 8 which refers to people around the age of 55-64 years old. This is something we expected because we believe that age group would be the one that has the most natural causes of death due to them being older and probably less healthier than the younger folks. The age groups that follow in having the highest counts are 7 which is 45-54 years and 9 which is 65-74 years.\n",
    "\n",
    "This is what we expected before the queries we ran to analyze the questions. This is because natural causes consist of things like diseases such as heart failure, cancer, diabetes and others. For the most part, these are diseases that are more prominent in people over certain ages and so it is not shocking to see the older deceased people have the highest count for having autopsies performed. "
   ]
  }
 ],
 "metadata": {
  "kernelspec": {
   "display_name": "Python 3 (ipykernel)",
   "language": "python",
   "name": "python3"
  },
  "language_info": {
   "codemirror_mode": {
    "name": "ipython",
    "version": 3
   },
   "file_extension": ".py",
   "mimetype": "text/x-python",
   "name": "python",
   "nbconvert_exporter": "python",
   "pygments_lexer": "ipython3",
   "version": "3.8.10"
  }
 },
 "nbformat": 4,
 "nbformat_minor": 5
}
